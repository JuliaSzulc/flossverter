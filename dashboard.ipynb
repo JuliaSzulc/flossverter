{
 "cells": [
  {
   "cell_type": "code",
   "execution_count": 1,
   "metadata": {
    "tags": []
   },
   "outputs": [],
   "source": [
    "from jupyter_dash import JupyterDash\n",
    "import dash\n",
    "import dash_bootstrap_components as dbc\n",
    "import dash_core_components as dcc\n",
    "import dash_html_components as html\n",
    "\n",
    "import plotly.graph_objects as go\n",
    "\n",
    "from dash.dependencies import Input, Output, State\n",
    "\n",
    "    \n",
    "from src.Backend import *\n",
    "from src.graph_drawing import *"
   ]
  },
  {
   "cell_type": "code",
   "execution_count": 2,
   "metadata": {},
   "outputs": [],
   "source": [
    "backend = Backend(dmc_path='data/dmc.csv',\n",
    "                  ariadna_path='data/ariadna.csv')"
   ]
  },
  {
   "cell_type": "code",
   "execution_count": 3,
   "metadata": {
    "tags": []
   },
   "outputs": [],
   "source": [
    "app = JupyterDash(__name__, external_stylesheets=[dbc.themes.LITERA])\n",
    "server = app.server\n",
    "\n",
    "app.layout = html.Div([dbc.Row([\n",
    "    dbc.Col([\n",
    "        html.Label('Base DMC color:'),\n",
    "        dcc.Dropdown(\n",
    "            id='drop_dmc',\n",
    "            options=[{'label': code, 'value': code}\n",
    "                     for code in backend.dmc_df.index],\n",
    "            placeholder='Select DMC color',\n",
    "            searchable=True,\n",
    "            clearable=False,\n",
    "            style={'marginBottom': '1.5em'},\n",
    "        ),\n",
    "        html.Label('Color comparing algorithm:'),\n",
    "        dcc.Dropdown(\n",
    "            id='drop_metric',\n",
    "            options=[{'label': m, 'value': m} for m in backend.metrics.keys()],\n",
    "            placeholder='Select algorithm',\n",
    "            searchable=False,\n",
    "            value=backend.default_metric,\n",
    "            clearable=False,\n",
    "            style={'marginBottom': '1.5em'},\n",
    "        ),\n",
    "        html.Label('Number of similar colors:'),\n",
    "        html.Div(dcc.Slider(\n",
    "            id='slider_n',\n",
    "            min=1,\n",
    "            max=9,\n",
    "            step=1,\n",
    "            value=5,\n",
    "            marks={n: str(n) for n in range(1, 10, 2)},\n",
    "        ), style={'marginBottom': '1.5em'},),\n",
    "        html.Div([\n",
    "            dbc.Button(\n",
    "                'Clear',\n",
    "                color='secondary',\n",
    "                id='button_clear',\n",
    "                outline=True,\n",
    "                n_clicks=0,\n",
    "                style={'marginRight': '.5em'}\n",
    "            ),\n",
    "            dbc.Button(\n",
    "                'Find similar',\n",
    "                color='primary',\n",
    "                id='button_run',\n",
    "                n_clicks=0,\n",
    "            ),], style={'display': 'flex', 'justify-content': 'right'}),\n",
    "    ], width=3),\n",
    "    dbc.Col(html.Div([\n",
    "        dcc.Graph(\n",
    "            id='graph',\n",
    "            figure=clear_graph(),\n",
    "            config={'staticPlot': True},\n",
    "        )\n",
    "    ]), width=9),\n",
    "], style={'marginLeft': '1em', 'marginTop': '1em'})])"
   ]
  },
  {
   "cell_type": "code",
   "execution_count": 4,
   "metadata": {},
   "outputs": [],
   "source": [
    "\n",
    "# Draw graph with run button if color is chosen\n",
    "@app.callback(\n",
    "    Output('graph', 'figure'),\n",
    "    Input('button_run', 'n_clicks'),\n",
    "    State('drop_dmc', 'value'),\n",
    "    State('drop_metric', 'value'),\n",
    "    State('slider_n', 'value'),\n",
    ")\n",
    "def find_similar_colors(clicks, dmc_choice, metric, n):\n",
    "    if not clicks or not dmc_choice:\n",
    "        return clear_graph()\n",
    "    \n",
    "    base_color = backend.get_dmc_rgb(dmc_choice)\n",
    "    result_codes, result_colors = backend.find_similar(dmc_choice, metric, n)\n",
    "\n",
    "    fig = draw_graph(base_color, result_colors, dmc_choice, result_codes)\n",
    "    \n",
    "    return fig\n",
    "    \n",
    "\n",
    "# Clear graph and choices with clear button\n",
    "@app.callback(\n",
    "    Output('button_run', 'n_clicks'),\n",
    "    Output('drop_dmc', 'value'),\n",
    "    Input('button_clear', 'n_clicks'),\n",
    ")\n",
    "def on_clear_button(_):\n",
    "    return 0, None"
   ]
  },
  {
   "cell_type": "code",
   "execution_count": 5,
   "metadata": {},
   "outputs": [
    {
     "data": {
      "text/html": [
       "\n",
       "        <iframe\n",
       "            width=\"100%\"\n",
       "            height=\"650\"\n",
       "            src=\"http://127.0.0.1:8050/\"\n",
       "            frameborder=\"0\"\n",
       "            allowfullscreen\n",
       "        ></iframe>\n",
       "        "
      ],
      "text/plain": [
       "<IPython.lib.display.IFrame at 0x7f213d760be0>"
      ]
     },
     "metadata": {},
     "output_type": "display_data"
    }
   ],
   "source": [
    "app.run_server(mode='inline', debug=True)"
   ]
  },
  {
   "cell_type": "code",
   "execution_count": 6,
   "metadata": {},
   "outputs": [
    {
     "name": "stdout",
     "output_type": "stream",
     "text": [
      "Dash app running on http://127.0.0.1:8050/\n"
     ]
    }
   ],
   "source": [
    "app.run_server()"
   ]
  },
  {
   "cell_type": "code",
   "execution_count": null,
   "metadata": {},
   "outputs": [],
   "source": []
  }
 ],
 "metadata": {
  "kernelspec": {
   "display_name": "mouline",
   "language": "python",
   "name": "mouline"
  },
  "language_info": {
   "codemirror_mode": {
    "name": "ipython",
    "version": 3
   },
   "file_extension": ".py",
   "mimetype": "text/x-python",
   "name": "python",
   "nbconvert_exporter": "python",
   "pygments_lexer": "ipython3",
   "version": "3.8.10"
  }
 },
 "nbformat": 4,
 "nbformat_minor": 4
}
