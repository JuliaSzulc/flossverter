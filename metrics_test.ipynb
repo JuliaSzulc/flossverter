{
 "cells": [
  {
   "cell_type": "code",
   "execution_count": 1,
   "metadata": {},
   "outputs": [],
   "source": [
    "import pandas as pd\n",
    "\n",
    "from helpers import swatch\n",
    "from metrics import *"
   ]
  },
  {
   "cell_type": "code",
   "execution_count": 2,
   "metadata": {},
   "outputs": [],
   "source": [
    "def display_colored(df):\n",
    "    display(df.style.applymap(lambda c:\"background-color: {}\".format(c), subset=['rgb']))"
   ]
  },
  {
   "cell_type": "markdown",
   "metadata": {},
   "source": [
    "# Color differences"
   ]
  },
  {
   "cell_type": "code",
   "execution_count": 3,
   "metadata": {},
   "outputs": [],
   "source": [
    "dmc = pd.read_csv('dmc.csv', index_col='number')\n",
    "ariadna = pd.read_csv('ariadna.csv', index_col='number')"
   ]
  },
  {
   "cell_type": "code",
   "execution_count": 4,
   "metadata": {},
   "outputs": [],
   "source": [
    "base_numbers = ['321', '518', '553', '701', '3863']"
   ]
  },
  {
   "cell_type": "code",
   "execution_count": 5,
   "metadata": {
    "tags": []
   },
   "outputs": [
    {
     "data": {
      "text/html": [
       "<style  type=\"text/css\" >\n",
       "#T_7d79a_row0_col1{\n",
       "            background-color:  #c72b3b;\n",
       "        }#T_7d79a_row1_col1{\n",
       "            background-color:  #4f93a7;\n",
       "        }#T_7d79a_row2_col1{\n",
       "            background-color:  #a3638b;\n",
       "        }#T_7d79a_row3_col1{\n",
       "            background-color:  #3f8f29;\n",
       "        }#T_7d79a_row4_col1{\n",
       "            background-color:  #a4835c;\n",
       "        }</style><table id=\"T_7d79a_\" ><thead>    <tr>        <th class=\"blank level0\" ></th>        <th class=\"col_heading level0 col0\" >name</th>        <th class=\"col_heading level0 col1\" >rgb</th>    </tr>    <tr>        <th class=\"index_name level0\" >number</th>        <th class=\"blank\" ></th>        <th class=\"blank\" ></th>    </tr></thead><tbody>\n",
       "                <tr>\n",
       "                        <th id=\"T_7d79a_level0_row0\" class=\"row_heading level0 row0\" >321</th>\n",
       "                        <td id=\"T_7d79a_row0_col0\" class=\"data row0 col0\" >Red</td>\n",
       "                        <td id=\"T_7d79a_row0_col1\" class=\"data row0 col1\" >#c72b3b</td>\n",
       "            </tr>\n",
       "            <tr>\n",
       "                        <th id=\"T_7d79a_level0_row1\" class=\"row_heading level0 row1\" >518</th>\n",
       "                        <td id=\"T_7d79a_row1_col0\" class=\"data row1 col0\" >Light Wedgwood</td>\n",
       "                        <td id=\"T_7d79a_row1_col1\" class=\"data row1 col1\" >#4f93a7</td>\n",
       "            </tr>\n",
       "            <tr>\n",
       "                        <th id=\"T_7d79a_level0_row2\" class=\"row_heading level0 row2\" >553</th>\n",
       "                        <td id=\"T_7d79a_row2_col0\" class=\"data row2 col0\" >Violet</td>\n",
       "                        <td id=\"T_7d79a_row2_col1\" class=\"data row2 col1\" >#a3638b</td>\n",
       "            </tr>\n",
       "            <tr>\n",
       "                        <th id=\"T_7d79a_level0_row3\" class=\"row_heading level0 row3\" >701</th>\n",
       "                        <td id=\"T_7d79a_row3_col0\" class=\"data row3 col0\" >Light Green</td>\n",
       "                        <td id=\"T_7d79a_row3_col1\" class=\"data row3 col1\" >#3f8f29</td>\n",
       "            </tr>\n",
       "            <tr>\n",
       "                        <th id=\"T_7d79a_level0_row4\" class=\"row_heading level0 row4\" >3863</th>\n",
       "                        <td id=\"T_7d79a_row4_col0\" class=\"data row4 col0\" >Medium Mocha Beige</td>\n",
       "                        <td id=\"T_7d79a_row4_col1\" class=\"data row4 col1\" >#a4835c</td>\n",
       "            </tr>\n",
       "    </tbody></table>"
      ],
      "text/plain": [
       "<pandas.io.formats.style.Styler at 0x7f03683998e0>"
      ]
     },
     "metadata": {},
     "output_type": "display_data"
    }
   ],
   "source": [
    "display_colored(dmc.loc[base_numbers])"
   ]
  },
  {
   "cell_type": "code",
   "execution_count": 6,
   "metadata": {},
   "outputs": [],
   "source": [
    "def find_similar(base_number, metric, n=5):\n",
    "    base_color = dmc.loc[base_number]['rgb']\n",
    "    \n",
    "    ariadna['distance'] = [metric(base_color, color) for color in ariadna['rgb']]\n",
    "    similar_rows = ariadna.nsmallest(n, 'distance')\n",
    "    \n",
    "    display_colored(similar_rows)\n",
    "    swatch(base_color,\n",
    "           similar_rows['rgb'].to_list(),\n",
    "           base_label=base_number,\n",
    "           compared_labels=similar_rows.index.to_list())"
   ]
  },
  {
   "cell_type": "markdown",
   "metadata": {
    "heading_collapsed": "true",
    "tags": []
   },
   "source": [
    "## RGB space"
   ]
  },
  {
   "cell_type": "markdown",
   "metadata": {
    "heading_collapsed": "true",
    "tags": []
   },
   "source": [
    "### RGB euclidean"
   ]
  },
  {
   "cell_type": "markdown",
   "metadata": {},
   "source": [
    "$\\text{score}=\\text{distance} ^{2}={(R_{2}-R_{1})^{2}+(G_{2}-G_{1})^{2}+(B_{2}-B_{1})^{2}}$"
   ]
  },
  {
   "cell_type": "code",
   "execution_count": 7,
   "metadata": {},
   "outputs": [
    {
     "data": {
      "text/html": [
       "<style  type=\"text/css\" >\n",
       "#T_f0135_row0_col2{\n",
       "            background-color:  #cc2f2f;\n",
       "        }#T_f0135_row1_col2{\n",
       "            background-color:  #b43c3c;\n",
       "        }#T_f0135_row2_col2{\n",
       "            background-color:  #c92b55;\n",
       "        }#T_f0135_row3_col2{\n",
       "            background-color:  #e22b3c;\n",
       "        }#T_f0135_row4_col2{\n",
       "            background-color:  #b0403a;\n",
       "        }</style><table id=\"T_f0135_\" ><thead>    <tr>        <th class=\"blank level0\" ></th>        <th class=\"col_heading level0 col0\" >pl</th>        <th class=\"col_heading level0 col1\" >name</th>        <th class=\"col_heading level0 col2\" >rgb</th>        <th class=\"col_heading level0 col3\" >distance</th>    </tr>    <tr>        <th class=\"index_name level0\" >number</th>        <th class=\"blank\" ></th>        <th class=\"blank\" ></th>        <th class=\"blank\" ></th>        <th class=\"blank\" ></th>    </tr></thead><tbody>\n",
       "                <tr>\n",
       "                        <th id=\"T_f0135_level0_row0\" class=\"row_heading level0 row0\" >1553</th>\n",
       "                        <td id=\"T_f0135_row0_col0\" class=\"data row0 col0\" >jasna czerwień</td>\n",
       "                        <td id=\"T_f0135_row0_col1\" class=\"data row0 col1\" >light red</td>\n",
       "                        <td id=\"T_f0135_row0_col2\" class=\"data row0 col2\" >#cc2f2f</td>\n",
       "                        <td id=\"T_f0135_row0_col3\" class=\"data row0 col3\" >185</td>\n",
       "            </tr>\n",
       "            <tr>\n",
       "                        <th id=\"T_f0135_level0_row1\" class=\"row_heading level0 row1\" >1757</th>\n",
       "                        <td id=\"T_f0135_row1_col0\" class=\"data row1 col0\" >czerwonokasztanowy</td>\n",
       "                        <td id=\"T_f0135_row1_col1\" class=\"data row1 col1\" >red chestnut</td>\n",
       "                        <td id=\"T_f0135_row1_col2\" class=\"data row1 col2\" >#b43c3c</td>\n",
       "                        <td id=\"T_f0135_row1_col3\" class=\"data row1 col3\" >651</td>\n",
       "            </tr>\n",
       "            <tr>\n",
       "                        <th id=\"T_f0135_level0_row2\" class=\"row_heading level0 row2\" >1555</th>\n",
       "                        <td id=\"T_f0135_row2_col0\" class=\"data row2 col0\" >czerwień ciemna</td>\n",
       "                        <td id=\"T_f0135_row2_col1\" class=\"data row2 col1\" >christmas red dark</td>\n",
       "                        <td id=\"T_f0135_row2_col2\" class=\"data row2 col2\" >#c92b55</td>\n",
       "                        <td id=\"T_f0135_row2_col3\" class=\"data row2 col3\" >680</td>\n",
       "            </tr>\n",
       "            <tr>\n",
       "                        <th id=\"T_f0135_level0_row3\" class=\"row_heading level0 row3\" >1547</th>\n",
       "                        <td id=\"T_f0135_row3_col0\" class=\"data row3 col0\" >czerwień świąteczna jasna</td>\n",
       "                        <td id=\"T_f0135_row3_col1\" class=\"data row3 col1\" >christmas red light</td>\n",
       "                        <td id=\"T_f0135_row3_col2\" class=\"data row3 col2\" >#e22b3c</td>\n",
       "                        <td id=\"T_f0135_row3_col3\" class=\"data row3 col3\" >730</td>\n",
       "            </tr>\n",
       "            <tr>\n",
       "                        <th id=\"T_f0135_level0_row4\" class=\"row_heading level0 row4\" >1750</th>\n",
       "                        <td id=\"T_f0135_row4_col0\" class=\"data row4 col0\" >terakota ciemna</td>\n",
       "                        <td id=\"T_f0135_row4_col1\" class=\"data row4 col1\" >terracotta dark</td>\n",
       "                        <td id=\"T_f0135_row4_col2\" class=\"data row4 col2\" >#b0403a</td>\n",
       "                        <td id=\"T_f0135_row4_col3\" class=\"data row4 col3\" >971</td>\n",
       "            </tr>\n",
       "    </tbody></table>"
      ],
      "text/plain": [
       "<pandas.io.formats.style.Styler at 0x7f03c0593f40>"
      ]
     },
     "metadata": {},
     "output_type": "display_data"
    },
    {
     "data": {
      "text/html": [
       "<style  type=\"text/css\" >\n",
       "#T_7b64f_row0_col2{\n",
       "            background-color:  #408bb6;\n",
       "        }#T_7b64f_row1_col2{\n",
       "            background-color:  #50a0c8;\n",
       "        }#T_7b64f_row2_col2{\n",
       "            background-color:  #329b91;\n",
       "        }#T_7b64f_row3_col2{\n",
       "            background-color:  #358c8c;\n",
       "        }#T_7b64f_row4_col2{\n",
       "            background-color:  #53788c;\n",
       "        }</style><table id=\"T_7b64f_\" ><thead>    <tr>        <th class=\"blank level0\" ></th>        <th class=\"col_heading level0 col0\" >pl</th>        <th class=\"col_heading level0 col1\" >name</th>        <th class=\"col_heading level0 col2\" >rgb</th>        <th class=\"col_heading level0 col3\" >distance</th>    </tr>    <tr>        <th class=\"index_name level0\" >number</th>        <th class=\"blank\" ></th>        <th class=\"blank\" ></th>        <th class=\"blank\" ></th>        <th class=\"blank\" ></th>    </tr></thead><tbody>\n",
       "                <tr>\n",
       "                        <th id=\"T_7b64f_level0_row0\" class=\"row_heading level0 row0\" >1617</th>\n",
       "                        <td id=\"T_7b64f_row0_col0\" class=\"data row0 col0\" >niebieski bardzo ciemny</td>\n",
       "                        <td id=\"T_7b64f_row0_col1\" class=\"data row0 col1\" >blue very dark</td>\n",
       "                        <td id=\"T_7b64f_row0_col2\" class=\"data row0 col2\" >#408bb6</td>\n",
       "                        <td id=\"T_7b64f_row0_col3\" class=\"data row0 col3\" >514</td>\n",
       "            </tr>\n",
       "            <tr>\n",
       "                        <th id=\"T_7b64f_level0_row1\" class=\"row_heading level0 row1\" >1616</th>\n",
       "                        <td id=\"T_7b64f_row1_col0\" class=\"data row1 col0\" >niebieski ciemny</td>\n",
       "                        <td id=\"T_7b64f_row1_col1\" class=\"data row1 col1\" >blue dark</td>\n",
       "                        <td id=\"T_7b64f_row1_col2\" class=\"data row1 col2\" >#50a0c8</td>\n",
       "                        <td id=\"T_7b64f_row1_col3\" class=\"data row1 col3\" >1259</td>\n",
       "            </tr>\n",
       "            <tr>\n",
       "                        <th id=\"T_7b64f_level0_row2\" class=\"row_heading level0 row2\" >1642</th>\n",
       "                        <td id=\"T_7b64f_row2_col0\" class=\"data row2 col0\" >morski</td>\n",
       "                        <td id=\"T_7b64f_row2_col1\" class=\"data row2 col1\" >sea green</td>\n",
       "                        <td id=\"T_7b64f_row2_col2\" class=\"data row2 col2\" >#329b91</td>\n",
       "                        <td id=\"T_7b64f_row2_col3\" class=\"data row2 col3\" >1389</td>\n",
       "            </tr>\n",
       "            <tr>\n",
       "                        <th id=\"T_7b64f_level0_row3\" class=\"row_heading level0 row3\" >1643</th>\n",
       "                        <td id=\"T_7b64f_row3_col0\" class=\"data row3 col0\" >ciemny morski</td>\n",
       "                        <td id=\"T_7b64f_row3_col1\" class=\"data row3 col1\" >sea blue dark</td>\n",
       "                        <td id=\"T_7b64f_row3_col2\" class=\"data row3 col2\" >#358c8c</td>\n",
       "                        <td id=\"T_7b64f_row3_col3\" class=\"data row3 col3\" >1454</td>\n",
       "            </tr>\n",
       "            <tr>\n",
       "                        <th id=\"T_7b64f_level0_row4\" class=\"row_heading level0 row4\" >1637</th>\n",
       "                        <td id=\"T_7b64f_row4_col0\" class=\"data row4 col0\" >niebieski antyczny</td>\n",
       "                        <td id=\"T_7b64f_row4_col1\" class=\"data row4 col1\" >antique blue</td>\n",
       "                        <td id=\"T_7b64f_row4_col2\" class=\"data row4 col2\" >#53788c</td>\n",
       "                        <td id=\"T_7b64f_row4_col3\" class=\"data row4 col3\" >1474</td>\n",
       "            </tr>\n",
       "    </tbody></table>"
      ],
      "text/plain": [
       "<pandas.io.formats.style.Styler at 0x7f03c0593b80>"
      ]
     },
     "metadata": {},
     "output_type": "display_data"
    },
    {
     "data": {
      "text/html": [
       "<style  type=\"text/css\" >\n",
       "#T_606d0_row0_col2{\n",
       "            background-color:  #915d8c;\n",
       "        }#T_606d0_row1_col2{\n",
       "            background-color:  #996d7b;\n",
       "        }#T_606d0_row2_col2{\n",
       "            background-color:  #b37586;\n",
       "        }#T_606d0_row3_col2{\n",
       "            background-color:  #b85893;\n",
       "        }#T_606d0_row4_col2{\n",
       "            background-color:  #af71ab;\n",
       "        }</style><table id=\"T_606d0_\" ><thead>    <tr>        <th class=\"blank level0\" ></th>        <th class=\"col_heading level0 col0\" >pl</th>        <th class=\"col_heading level0 col1\" >name</th>        <th class=\"col_heading level0 col2\" >rgb</th>        <th class=\"col_heading level0 col3\" >distance</th>    </tr>    <tr>        <th class=\"index_name level0\" >number</th>        <th class=\"blank\" ></th>        <th class=\"blank\" ></th>        <th class=\"blank\" ></th>        <th class=\"blank\" ></th>    </tr></thead><tbody>\n",
       "                <tr>\n",
       "                        <th id=\"T_606d0_level0_row0\" class=\"row_heading level0 row0\" >1585</th>\n",
       "                        <td id=\"T_606d0_row0_col0\" class=\"data row0 col0\" >śliwkowy</td>\n",
       "                        <td id=\"T_606d0_row0_col1\" class=\"data row0 col1\" >plum</td>\n",
       "                        <td id=\"T_606d0_row0_col2\" class=\"data row0 col2\" >#915d8c</td>\n",
       "                        <td id=\"T_606d0_row0_col3\" class=\"data row0 col3\" >361</td>\n",
       "            </tr>\n",
       "            <tr>\n",
       "                        <th id=\"T_606d0_level0_row1\" class=\"row_heading level0 row1\" >1762A</th>\n",
       "                        <td id=\"T_606d0_row1_col0\" class=\"data row1 col0\" >kakaowy średni</td>\n",
       "                        <td id=\"T_606d0_row1_col1\" class=\"data row1 col1\" >cocoa medium</td>\n",
       "                        <td id=\"T_606d0_row1_col2\" class=\"data row1 col2\" >#996d7b</td>\n",
       "                        <td id=\"T_606d0_row1_col3\" class=\"data row1 col3\" >456</td>\n",
       "            </tr>\n",
       "            <tr>\n",
       "                        <th id=\"T_606d0_level0_row2\" class=\"row_heading level0 row2\" >1577</th>\n",
       "                        <td id=\"T_606d0_row2_col0\" class=\"data row2 col0\" >perłoworóżowy średni</td>\n",
       "                        <td id=\"T_606d0_row2_col1\" class=\"data row2 col1\" >shell pink medium</td>\n",
       "                        <td id=\"T_606d0_row2_col2\" class=\"data row2 col2\" >#b37586</td>\n",
       "                        <td id=\"T_606d0_row2_col3\" class=\"data row2 col3\" >605</td>\n",
       "            </tr>\n",
       "            <tr>\n",
       "                        <th id=\"T_606d0_level0_row3\" class=\"row_heading level0 row3\" >1595</th>\n",
       "                        <td id=\"T_606d0_row3_col0\" class=\"data row3 col0\" >ciemny wrzos</td>\n",
       "                        <td id=\"T_606d0_row3_col1\" class=\"data row3 col1\" >heather dark</td>\n",
       "                        <td id=\"T_606d0_row3_col2\" class=\"data row3 col2\" >#b85893</td>\n",
       "                        <td id=\"T_606d0_row3_col3\" class=\"data row3 col3\" >626</td>\n",
       "            </tr>\n",
       "            <tr>\n",
       "                        <th id=\"T_606d0_level0_row4\" class=\"row_heading level0 row4\" >1592</th>\n",
       "                        <td id=\"T_606d0_row4_col0\" class=\"data row4 col0\" >fioletowy jasny</td>\n",
       "                        <td id=\"T_606d0_row4_col1\" class=\"data row4 col1\" >violet light</td>\n",
       "                        <td id=\"T_606d0_row4_col2\" class=\"data row4 col2\" >#af71ab</td>\n",
       "                        <td id=\"T_606d0_row4_col3\" class=\"data row4 col3\" >1364</td>\n",
       "            </tr>\n",
       "    </tbody></table>"
      ],
      "text/plain": [
       "<pandas.io.formats.style.Styler at 0x7f0365d2c700>"
      ]
     },
     "metadata": {},
     "output_type": "display_data"
    },
    {
     "data": {
      "text/html": [
       "<style  type=\"text/css\" >\n",
       "#T_4b9cb_row0_col2{\n",
       "            background-color:  #318229;\n",
       "        }#T_4b9cb_row1_col2{\n",
       "            background-color:  #41b430;\n",
       "        }#T_4b9cb_row2_col2{\n",
       "            background-color:  #648228;\n",
       "        }#T_4b9cb_row3_col2{\n",
       "            background-color:  #466432;\n",
       "        }#T_4b9cb_row4_col2{\n",
       "            background-color:  #3c643c;\n",
       "        }</style><table id=\"T_4b9cb_\" ><thead>    <tr>        <th class=\"blank level0\" ></th>        <th class=\"col_heading level0 col0\" >pl</th>        <th class=\"col_heading level0 col1\" >name</th>        <th class=\"col_heading level0 col2\" >rgb</th>        <th class=\"col_heading level0 col3\" >distance</th>    </tr>    <tr>        <th class=\"index_name level0\" >number</th>        <th class=\"blank\" ></th>        <th class=\"blank\" ></th>        <th class=\"blank\" ></th>        <th class=\"blank\" ></th>    </tr></thead><tbody>\n",
       "                <tr>\n",
       "                        <th id=\"T_4b9cb_level0_row0\" class=\"row_heading level0 row0\" >1701</th>\n",
       "                        <td id=\"T_4b9cb_row0_col0\" class=\"data row0 col0\" >zieleń papuzia najciemniejsza</td>\n",
       "                        <td id=\"T_4b9cb_row0_col1\" class=\"data row0 col1\" >parrot green ultra dark</td>\n",
       "                        <td id=\"T_4b9cb_row0_col2\" class=\"data row0 col2\" >#318229</td>\n",
       "                        <td id=\"T_4b9cb_row0_col3\" class=\"data row0 col3\" >365</td>\n",
       "            </tr>\n",
       "            <tr>\n",
       "                        <th id=\"T_4b9cb_level0_row1\" class=\"row_heading level0 row1\" >1700</th>\n",
       "                        <td id=\"T_4b9cb_row1_col0\" class=\"data row1 col0\" >zieleń papuzia bardzo ciemna</td>\n",
       "                        <td id=\"T_4b9cb_row1_col1\" class=\"data row1 col1\" >parrot green very dark</td>\n",
       "                        <td id=\"T_4b9cb_row1_col2\" class=\"data row1 col2\" >#41b430</td>\n",
       "                        <td id=\"T_4b9cb_row1_col3\" class=\"data row1 col3\" >1422</td>\n",
       "            </tr>\n",
       "            <tr>\n",
       "                        <th id=\"T_4b9cb_level0_row2\" class=\"row_heading level0 row2\" >1693</th>\n",
       "                        <td id=\"T_4b9cb_row2_col0\" class=\"data row2 col0\" >zieleń awokado</td>\n",
       "                        <td id=\"T_4b9cb_row2_col1\" class=\"data row2 col1\" >avocado green</td>\n",
       "                        <td id=\"T_4b9cb_row2_col2\" class=\"data row2 col2\" >#648228</td>\n",
       "                        <td id=\"T_4b9cb_row2_col3\" class=\"data row2 col3\" >1539</td>\n",
       "            </tr>\n",
       "            <tr>\n",
       "                        <th id=\"T_4b9cb_level0_row3\" class=\"row_heading level0 row3\" >1694</th>\n",
       "                        <td id=\"T_4b9cb_row3_col0\" class=\"data row3 col0\" >zieleń awokado ciemna</td>\n",
       "                        <td id=\"T_4b9cb_row3_col1\" class=\"data row3 col1\" >avocado green dark</td>\n",
       "                        <td id=\"T_4b9cb_row3_col2\" class=\"data row3 col2\" >#466432</td>\n",
       "                        <td id=\"T_4b9cb_row3_col3\" class=\"data row3 col3\" >1979</td>\n",
       "            </tr>\n",
       "            <tr>\n",
       "                        <th id=\"T_4b9cb_level0_row4\" class=\"row_heading level0 row4\" >1672</th>\n",
       "                        <td id=\"T_4b9cb_row4_col0\" class=\"data row4 col0\" >tymniankowy najciemniejszy</td>\n",
       "                        <td id=\"T_4b9cb_row4_col1\" class=\"data row4 col1\" >turquoise ultra very dark</td>\n",
       "                        <td id=\"T_4b9cb_row4_col2\" class=\"data row4 col2\" >#3c643c</td>\n",
       "                        <td id=\"T_4b9cb_row4_col3\" class=\"data row4 col3\" >2219</td>\n",
       "            </tr>\n",
       "    </tbody></table>"
      ],
      "text/plain": [
       "<pandas.io.formats.style.Styler at 0x7f0365cf5490>"
      ]
     },
     "metadata": {},
     "output_type": "display_data"
    },
    {
     "data": {
      "text/html": [
       "<style  type=\"text/css\" >\n",
       "#T_62e15_row0_col2{\n",
       "            background-color:  #a0965a;\n",
       "        }#T_62e15_row1_col2{\n",
       "            background-color:  #a09664;\n",
       "        }#T_62e15_row2_col2{\n",
       "            background-color:  #96824b;\n",
       "        }#T_62e15_row3_col2{\n",
       "            background-color:  #a0995a;\n",
       "        }#T_62e15_row4_col2{\n",
       "            background-color:  #be8264;\n",
       "        }</style><table id=\"T_62e15_\" ><thead>    <tr>        <th class=\"blank level0\" ></th>        <th class=\"col_heading level0 col0\" >pl</th>        <th class=\"col_heading level0 col1\" >name</th>        <th class=\"col_heading level0 col2\" >rgb</th>        <th class=\"col_heading level0 col3\" >distance</th>    </tr>    <tr>        <th class=\"index_name level0\" >number</th>        <th class=\"blank\" ></th>        <th class=\"blank\" ></th>        <th class=\"blank\" ></th>        <th class=\"blank\" ></th>    </tr></thead><tbody>\n",
       "                <tr>\n",
       "                        <th id=\"T_62e15_level0_row0\" class=\"row_heading level0 row0\" >1792</th>\n",
       "                        <td id=\"T_62e15_row0_col0\" class=\"data row0 col0\" >szaroczekoladowy jasny</td>\n",
       "                        <td id=\"T_62e15_row0_col1\" class=\"data row0 col1\" >gray chocolate</td>\n",
       "                        <td id=\"T_62e15_row0_col2\" class=\"data row0 col2\" >#a0965a</td>\n",
       "                        <td id=\"T_62e15_row0_col3\" class=\"data row0 col3\" >381</td>\n",
       "            </tr>\n",
       "            <tr>\n",
       "                        <th id=\"T_62e15_level0_row1\" class=\"row_heading level0 row1\" >1797</th>\n",
       "                        <td id=\"T_62e15_row1_col0\" class=\"data row1 col0\" >szarobeżowy ciemny</td>\n",
       "                        <td id=\"T_62e15_row1_col1\" class=\"data row1 col1\" >beige grey dark</td>\n",
       "                        <td id=\"T_62e15_row1_col2\" class=\"data row1 col2\" >#a09664</td>\n",
       "                        <td id=\"T_62e15_row1_col3\" class=\"data row1 col3\" >441</td>\n",
       "            </tr>\n",
       "            <tr>\n",
       "                        <th id=\"T_62e15_level0_row2\" class=\"row_heading level0 row2\" >1793</th>\n",
       "                        <td id=\"T_62e15_row2_col0\" class=\"data row2 col0\" >szaroczekoladowy</td>\n",
       "                        <td id=\"T_62e15_row2_col1\" class=\"data row2 col1\" >gray chocolate</td>\n",
       "                        <td id=\"T_62e15_row2_col2\" class=\"data row2 col2\" >#96824b</td>\n",
       "                        <td id=\"T_62e15_row2_col3\" class=\"data row2 col3\" >486</td>\n",
       "            </tr>\n",
       "            <tr>\n",
       "                        <th id=\"T_62e15_level0_row3\" class=\"row_heading level0 row3\" >1798</th>\n",
       "                        <td id=\"T_62e15_row3_col0\" class=\"data row3 col0\" >szarobeżowy bardzo ciemny</td>\n",
       "                        <td id=\"T_62e15_row3_col1\" class=\"data row3 col1\" >beige grey very dark</td>\n",
       "                        <td id=\"T_62e15_row3_col2\" class=\"data row3 col2\" >#a0995a</td>\n",
       "                        <td id=\"T_62e15_row3_col3\" class=\"data row3 col3\" >504</td>\n",
       "            </tr>\n",
       "            <tr>\n",
       "                        <th id=\"T_62e15_level0_row4\" class=\"row_heading level0 row4\" >1770</th>\n",
       "                        <td id=\"T_62e15_row4_col0\" class=\"data row4 col0\" >piasek pustyni jasny</td>\n",
       "                        <td id=\"T_62e15_row4_col1\" class=\"data row4 col1\" >desert sand light</td>\n",
       "                        <td id=\"T_62e15_row4_col2\" class=\"data row4 col2\" >#be8264</td>\n",
       "                        <td id=\"T_62e15_row4_col3\" class=\"data row4 col3\" >741</td>\n",
       "            </tr>\n",
       "    </tbody></table>"
      ],
      "text/plain": [
       "<pandas.io.formats.style.Styler at 0x7f0365ac0700>"
      ]
     },
     "metadata": {},
     "output_type": "display_data"
    },
    {
     "data": {
      "image/png": "[encoded data removed]",
      "text/plain": [
       "<Figure size 720x720 with 1 Axes>"
      ]
     },
     "metadata": {
      "needs_background": "light"
     },
     "output_type": "display_data"
    },
    {
     "data": {
      "image/png": "[encoded data removed]",
      "text/plain": [
       "<Figure size 720x720 with 1 Axes>"
      ]
     },
     "metadata": {
      "needs_background": "light"
     },
     "output_type": "display_data"
    },
    {
     "data": {
      "image/png": "[encoded data removed]",
      "text/plain": [
       "<Figure size 720x720 with 1 Axes>"
      ]
     },
     "metadata": {
      "needs_background": "light"
     },
     "output_type": "display_data"
    },
    {
     "data": {
      "image/png": "[encoded data removed]",
      "text/plain": [
       "<Figure size 720x720 with 1 Axes>"
      ]
     },
     "metadata": {
      "needs_background": "light"
     },
     "output_type": "display_data"
    },
    {
     "data": {
      "image/png": "[encoded data removed]",
      "text/plain": [
       "<Figure size 720x720 with 1 Axes>"
      ]
     },
     "metadata": {
      "needs_background": "light"
     },
     "output_type": "display_data"
    }
   ],
   "source": [
    "for base_num in base_numbers:\n",
    "    find_similar(base_num, rgb_euclidean, 5)"
   ]
  },
  {
   "cell_type": "markdown",
   "metadata": {
    "heading_collapsed": "true",
    "tags": []
   },
   "source": [
    "### RGB with gamma correction"
   ]
  },
  {
   "cell_type": "markdown",
   "metadata": {},
   "source": [
    "${\\begin{cases}{\\sqrt {2\\times \\Delta R^{2}+4\\times \\Delta G^{2}+3\\times \\Delta B^{2}}}&{\\bar {R}}<128,\\\\{\\sqrt {3\\times \\Delta R^{2}+4\\times \\Delta G^{2}+2\\times \\Delta B^{2}}}&\\text{otherwise}\\end{cases}}$\n",
    "\n",
    "${\\begin{aligned}\\Delta R&=R_{1}-R_{2}\\\\\\Delta G&=G_{1}-G_{2}\\\\\\Delta B&=B_{1}-B_{2}\\\\{\\bar {R}}&={{R_{1}+R_{2}} \\over 2}\\\\\\end{aligned}}$"
   ]
  },
  {
   "cell_type": "code",
   "execution_count": 8,
   "metadata": {},
   "outputs": [
    {
     "data": {
      "text/html": [
       "<style  type=\"text/css\" >\n",
       "#T_680f1_row0_col2{\n",
       "            background-color:  #cc2f2f;\n",
       "        }#T_680f1_row1_col2{\n",
       "            background-color:  #c92b55;\n",
       "        }#T_680f1_row2_col2{\n",
       "            background-color:  #e22b3c;\n",
       "        }#T_680f1_row3_col2{\n",
       "            background-color:  #b43c3c;\n",
       "        }#T_680f1_row4_col2{\n",
       "            background-color:  #b0403a;\n",
       "        }</style><table id=\"T_680f1_\" ><thead>    <tr>        <th class=\"blank level0\" ></th>        <th class=\"col_heading level0 col0\" >pl</th>        <th class=\"col_heading level0 col1\" >name</th>        <th class=\"col_heading level0 col2\" >rgb</th>        <th class=\"col_heading level0 col3\" >distance</th>    </tr>    <tr>        <th class=\"index_name level0\" >number</th>        <th class=\"blank\" ></th>        <th class=\"blank\" ></th>        <th class=\"blank\" ></th>        <th class=\"blank\" ></th>    </tr></thead><tbody>\n",
       "                <tr>\n",
       "                        <th id=\"T_680f1_level0_row0\" class=\"row_heading level0 row0\" >1553</th>\n",
       "                        <td id=\"T_680f1_row0_col0\" class=\"data row0 col0\" >jasna czerwień</td>\n",
       "                        <td id=\"T_680f1_row0_col1\" class=\"data row0 col1\" >light red</td>\n",
       "                        <td id=\"T_680f1_row0_col2\" class=\"data row0 col2\" >#cc2f2f</td>\n",
       "                        <td id=\"T_680f1_row0_col3\" class=\"data row0 col3\" >427</td>\n",
       "            </tr>\n",
       "            <tr>\n",
       "                        <th id=\"T_680f1_level0_row1\" class=\"row_heading level0 row1\" >1555</th>\n",
       "                        <td id=\"T_680f1_row1_col0\" class=\"data row1 col0\" >czerwień ciemna</td>\n",
       "                        <td id=\"T_680f1_row1_col1\" class=\"data row1 col1\" >christmas red dark</td>\n",
       "                        <td id=\"T_680f1_row1_col2\" class=\"data row1 col2\" >#c92b55</td>\n",
       "                        <td id=\"T_680f1_row1_col3\" class=\"data row1 col3\" >1364</td>\n",
       "            </tr>\n",
       "            <tr>\n",
       "                        <th id=\"T_680f1_level0_row2\" class=\"row_heading level0 row2\" >1547</th>\n",
       "                        <td id=\"T_680f1_row2_col0\" class=\"data row2 col0\" >czerwień świąteczna jasna</td>\n",
       "                        <td id=\"T_680f1_row2_col1\" class=\"data row2 col1\" >christmas red light</td>\n",
       "                        <td id=\"T_680f1_row2_col2\" class=\"data row2 col2\" >#e22b3c</td>\n",
       "                        <td id=\"T_680f1_row2_col3\" class=\"data row2 col3\" >2189</td>\n",
       "            </tr>\n",
       "            <tr>\n",
       "                        <th id=\"T_680f1_level0_row3\" class=\"row_heading level0 row3\" >1757</th>\n",
       "                        <td id=\"T_680f1_row3_col0\" class=\"data row3 col0\" >czerwonokasztanowy</td>\n",
       "                        <td id=\"T_680f1_row3_col1\" class=\"data row3 col1\" >red chestnut</td>\n",
       "                        <td id=\"T_680f1_row3_col2\" class=\"data row3 col2\" >#b43c3c</td>\n",
       "                        <td id=\"T_680f1_row3_col3\" class=\"data row3 col3\" >2241</td>\n",
       "            </tr>\n",
       "            <tr>\n",
       "                        <th id=\"T_680f1_level0_row4\" class=\"row_heading level0 row4\" >1750</th>\n",
       "                        <td id=\"T_680f1_row4_col0\" class=\"data row4 col0\" >terakota ciemna</td>\n",
       "                        <td id=\"T_680f1_row4_col1\" class=\"data row4 col1\" >terracotta dark</td>\n",
       "                        <td id=\"T_680f1_row4_col2\" class=\"data row4 col2\" >#b0403a</td>\n",
       "                        <td id=\"T_680f1_row4_col3\" class=\"data row4 col3\" >3353</td>\n",
       "            </tr>\n",
       "    </tbody></table>"
      ],
      "text/plain": [
       "<pandas.io.formats.style.Styler at 0x7f03c056ffd0>"
      ]
     },
     "metadata": {},
     "output_type": "display_data"
    },
    {
     "data": {
      "text/html": [
       "<style  type=\"text/css\" >\n",
       "#T_bac2e_row0_col2{\n",
       "            background-color:  #408bb6;\n",
       "        }#T_bac2e_row1_col2{\n",
       "            background-color:  #329b91;\n",
       "        }#T_bac2e_row2_col2{\n",
       "            background-color:  #358c8c;\n",
       "        }#T_bac2e_row3_col2{\n",
       "            background-color:  #50a0c8;\n",
       "        }#T_bac2e_row4_col2{\n",
       "            background-color:  #6e878c;\n",
       "        }</style><table id=\"T_bac2e_\" ><thead>    <tr>        <th class=\"blank level0\" ></th>        <th class=\"col_heading level0 col0\" >pl</th>        <th class=\"col_heading level0 col1\" >name</th>        <th class=\"col_heading level0 col2\" >rgb</th>        <th class=\"col_heading level0 col3\" >distance</th>    </tr>    <tr>        <th class=\"index_name level0\" >number</th>        <th class=\"blank\" ></th>        <th class=\"blank\" ></th>        <th class=\"blank\" ></th>        <th class=\"blank\" ></th>    </tr></thead><tbody>\n",
       "                <tr>\n",
       "                        <th id=\"T_bac2e_level0_row0\" class=\"row_heading level0 row0\" >1617</th>\n",
       "                        <td id=\"T_bac2e_row0_col0\" class=\"data row0 col0\" >niebieski bardzo ciemny</td>\n",
       "                        <td id=\"T_bac2e_row0_col1\" class=\"data row0 col1\" >blue very dark</td>\n",
       "                        <td id=\"T_bac2e_row0_col2\" class=\"data row0 col2\" >#408bb6</td>\n",
       "                        <td id=\"T_bac2e_row0_col3\" class=\"data row0 col3\" >1381</td>\n",
       "            </tr>\n",
       "            <tr>\n",
       "                        <th id=\"T_bac2e_level0_row1\" class=\"row_heading level0 row1\" >1642</th>\n",
       "                        <td id=\"T_bac2e_row1_col0\" class=\"data row1 col0\" >morski</td>\n",
       "                        <td id=\"T_bac2e_row1_col1\" class=\"data row1 col1\" >sea green</td>\n",
       "                        <td id=\"T_bac2e_row1_col2\" class=\"data row1 col2\" >#329b91</td>\n",
       "                        <td id=\"T_bac2e_row1_col3\" class=\"data row1 col3\" >3390</td>\n",
       "            </tr>\n",
       "            <tr>\n",
       "                        <th id=\"T_bac2e_level0_row2\" class=\"row_heading level0 row2\" >1643</th>\n",
       "                        <td id=\"T_bac2e_row2_col0\" class=\"data row2 col0\" >ciemny morski</td>\n",
       "                        <td id=\"T_bac2e_row2_col1\" class=\"data row2 col1\" >sea blue dark</td>\n",
       "                        <td id=\"T_bac2e_row2_col2\" class=\"data row2 col2\" >#358c8c</td>\n",
       "                        <td id=\"T_bac2e_row2_col3\" class=\"data row2 col3\" >3735</td>\n",
       "            </tr>\n",
       "            <tr>\n",
       "                        <th id=\"T_bac2e_level0_row3\" class=\"row_heading level0 row3\" >1616</th>\n",
       "                        <td id=\"T_bac2e_row3_col0\" class=\"data row3 col0\" >niebieski ciemny</td>\n",
       "                        <td id=\"T_bac2e_row3_col1\" class=\"data row3 col1\" >blue dark</td>\n",
       "                        <td id=\"T_bac2e_row3_col2\" class=\"data row3 col2\" >#50a0c8</td>\n",
       "                        <td id=\"T_bac2e_row3_col3\" class=\"data row3 col3\" >3945</td>\n",
       "            </tr>\n",
       "            <tr>\n",
       "                        <th id=\"T_bac2e_level0_row4\" class=\"row_heading level0 row4\" >1633</th>\n",
       "                        <td id=\"T_bac2e_row4_col0\" class=\"data row4 col0\" >niebieski antyczny ciemny</td>\n",
       "                        <td id=\"T_bac2e_row4_col1\" class=\"data row4 col1\" >antique blue dark</td>\n",
       "                        <td id=\"T_bac2e_row4_col2\" class=\"data row4 col2\" >#6e878c</td>\n",
       "                        <td id=\"T_bac2e_row4_col3\" class=\"data row4 col3\" >4685</td>\n",
       "            </tr>\n",
       "    </tbody></table>"
      ],
      "text/plain": [
       "<pandas.io.formats.style.Styler at 0x7f0365d38610>"
      ]
     },
     "metadata": {},
     "output_type": "display_data"
    },
    {
     "data": {
      "text/html": [
       "<style  type=\"text/css\" >\n",
       "#T_bfe4b_row0_col2{\n",
       "            background-color:  #915d8c;\n",
       "        }#T_bfe4b_row1_col2{\n",
       "            background-color:  #996d7b;\n",
       "        }#T_bfe4b_row2_col2{\n",
       "            background-color:  #b85893;\n",
       "        }#T_bfe4b_row3_col2{\n",
       "            background-color:  #b37586;\n",
       "        }#T_bfe4b_row4_col2{\n",
       "            background-color:  #af71ab;\n",
       "        }</style><table id=\"T_bfe4b_\" ><thead>    <tr>        <th class=\"blank level0\" ></th>        <th class=\"col_heading level0 col0\" >pl</th>        <th class=\"col_heading level0 col1\" >name</th>        <th class=\"col_heading level0 col2\" >rgb</th>        <th class=\"col_heading level0 col3\" >distance</th>    </tr>    <tr>        <th class=\"index_name level0\" >number</th>        <th class=\"blank\" ></th>        <th class=\"blank\" ></th>        <th class=\"blank\" ></th>        <th class=\"blank\" ></th>    </tr></thead><tbody>\n",
       "                <tr>\n",
       "                        <th id=\"T_bfe4b_level0_row0\" class=\"row_heading level0 row0\" >1585</th>\n",
       "                        <td id=\"T_bfe4b_row0_col0\" class=\"data row0 col0\" >śliwkowy</td>\n",
       "                        <td id=\"T_bfe4b_row0_col1\" class=\"data row0 col1\" >plum</td>\n",
       "                        <td id=\"T_bfe4b_row0_col2\" class=\"data row0 col2\" >#915d8c</td>\n",
       "                        <td id=\"T_bfe4b_row0_col3\" class=\"data row0 col3\" >1118</td>\n",
       "            </tr>\n",
       "            <tr>\n",
       "                        <th id=\"T_bfe4b_level0_row1\" class=\"row_heading level0 row1\" >1762A</th>\n",
       "                        <td id=\"T_bfe4b_row1_col0\" class=\"data row1 col0\" >kakaowy średni</td>\n",
       "                        <td id=\"T_bfe4b_row1_col1\" class=\"data row1 col1\" >cocoa medium</td>\n",
       "                        <td id=\"T_bfe4b_row1_col2\" class=\"data row1 col2\" >#996d7b</td>\n",
       "                        <td id=\"T_bfe4b_row1_col3\" class=\"data row1 col3\" >1212</td>\n",
       "            </tr>\n",
       "            <tr>\n",
       "                        <th id=\"T_bfe4b_level0_row2\" class=\"row_heading level0 row2\" >1595</th>\n",
       "                        <td id=\"T_bfe4b_row2_col0\" class=\"data row2 col0\" >ciemny wrzos</td>\n",
       "                        <td id=\"T_bfe4b_row2_col1\" class=\"data row2 col1\" >heather dark</td>\n",
       "                        <td id=\"T_bfe4b_row2_col2\" class=\"data row2 col2\" >#b85893</td>\n",
       "                        <td id=\"T_bfe4b_row2_col3\" class=\"data row2 col3\" >1935</td>\n",
       "            </tr>\n",
       "            <tr>\n",
       "                        <th id=\"T_bfe4b_level0_row3\" class=\"row_heading level0 row3\" >1577</th>\n",
       "                        <td id=\"T_bfe4b_row3_col0\" class=\"data row3 col0\" >perłoworóżowy średni</td>\n",
       "                        <td id=\"T_bfe4b_row3_col1\" class=\"data row3 col1\" >shell pink medium</td>\n",
       "                        <td id=\"T_bfe4b_row3_col2\" class=\"data row3 col2\" >#b37586</td>\n",
       "                        <td id=\"T_bfe4b_row3_col3\" class=\"data row3 col3\" >2114</td>\n",
       "            </tr>\n",
       "            <tr>\n",
       "                        <th id=\"T_bfe4b_level0_row4\" class=\"row_heading level0 row4\" >1592</th>\n",
       "                        <td id=\"T_bfe4b_row4_col0\" class=\"data row4 col0\" >fioletowy jasny</td>\n",
       "                        <td id=\"T_bfe4b_row4_col1\" class=\"data row4 col1\" >violet light</td>\n",
       "                        <td id=\"T_bfe4b_row4_col2\" class=\"data row4 col2\" >#af71ab</td>\n",
       "                        <td id=\"T_bfe4b_row4_col3\" class=\"data row4 col3\" >3264</td>\n",
       "            </tr>\n",
       "    </tbody></table>"
      ],
      "text/plain": [
       "<pandas.io.formats.style.Styler at 0x7f03c0520070>"
      ]
     },
     "metadata": {},
     "output_type": "display_data"
    },
    {
     "data": {
      "text/html": [
       "<style  type=\"text/css\" >\n",
       "#T_787e5_row0_col2{\n",
       "            background-color:  #318229;\n",
       "        }#T_787e5_row1_col2{\n",
       "            background-color:  #648228;\n",
       "        }#T_787e5_row2_col2{\n",
       "            background-color:  #41b430;\n",
       "        }#T_787e5_row3_col2{\n",
       "            background-color:  #1b820a;\n",
       "        }#T_787e5_row4_col2{\n",
       "            background-color:  #6e7828;\n",
       "        }</style><table id=\"T_787e5_\" ><thead>    <tr>        <th class=\"blank level0\" ></th>        <th class=\"col_heading level0 col0\" >pl</th>        <th class=\"col_heading level0 col1\" >name</th>        <th class=\"col_heading level0 col2\" >rgb</th>        <th class=\"col_heading level0 col3\" >distance</th>    </tr>    <tr>        <th class=\"index_name level0\" >number</th>        <th class=\"blank\" ></th>        <th class=\"blank\" ></th>        <th class=\"blank\" ></th>        <th class=\"blank\" ></th>    </tr></thead><tbody>\n",
       "                <tr>\n",
       "                        <th id=\"T_787e5_level0_row0\" class=\"row_heading level0 row0\" >1701</th>\n",
       "                        <td id=\"T_787e5_row0_col0\" class=\"data row0 col0\" >zieleń papuzia najciemniejsza</td>\n",
       "                        <td id=\"T_787e5_row0_col1\" class=\"data row0 col1\" >parrot green ultra dark</td>\n",
       "                        <td id=\"T_787e5_row0_col2\" class=\"data row0 col2\" >#318229</td>\n",
       "                        <td id=\"T_787e5_row0_col3\" class=\"data row0 col3\" >1068</td>\n",
       "            </tr>\n",
       "            <tr>\n",
       "                        <th id=\"T_787e5_level0_row1\" class=\"row_heading level0 row1\" >1693</th>\n",
       "                        <td id=\"T_787e5_row1_col0\" class=\"data row1 col0\" >zieleń awokado</td>\n",
       "                        <td id=\"T_787e5_row1_col1\" class=\"data row1 col1\" >avocado green</td>\n",
       "                        <td id=\"T_787e5_row1_col2\" class=\"data row1 col2\" >#648228</td>\n",
       "                        <td id=\"T_787e5_row1_col3\" class=\"data row1 col3\" >3417</td>\n",
       "            </tr>\n",
       "            <tr>\n",
       "                        <th id=\"T_787e5_level0_row2\" class=\"row_heading level0 row2\" >1700</th>\n",
       "                        <td id=\"T_787e5_row2_col0\" class=\"data row2 col0\" >zieleń papuzia bardzo ciemna</td>\n",
       "                        <td id=\"T_787e5_row2_col1\" class=\"data row2 col1\" >parrot green very dark</td>\n",
       "                        <td id=\"T_787e5_row2_col2\" class=\"data row2 col2\" >#41b430</td>\n",
       "                        <td id=\"T_787e5_row2_col3\" class=\"data row2 col3\" >5631</td>\n",
       "            </tr>\n",
       "            <tr>\n",
       "                        <th id=\"T_787e5_level0_row3\" class=\"row_heading level0 row3\" >1687</th>\n",
       "                        <td id=\"T_787e5_row3_col0\" class=\"data row3 col0\" >zielony ciemny</td>\n",
       "                        <td id=\"T_787e5_row3_col1\" class=\"data row3 col1\" >green dark</td>\n",
       "                        <td id=\"T_787e5_row3_col2\" class=\"data row3 col2\" >#1b820a</td>\n",
       "                        <td id=\"T_787e5_row3_col3\" class=\"data row3 col3\" >6151</td>\n",
       "            </tr>\n",
       "            <tr>\n",
       "                        <th id=\"T_787e5_level0_row4\" class=\"row_heading level0 row4\" >1713</th>\n",
       "                        <td id=\"T_787e5_row4_col0\" class=\"data row4 col0\" >oliwkowozielony ciemny</td>\n",
       "                        <td id=\"T_787e5_row4_col1\" class=\"data row4 col1\" >olive green dark</td>\n",
       "                        <td id=\"T_787e5_row4_col2\" class=\"data row4 col2\" >#6e7828</td>\n",
       "                        <td id=\"T_787e5_row4_col3\" class=\"data row4 col3\" >6537</td>\n",
       "            </tr>\n",
       "    </tbody></table>"
      ],
      "text/plain": [
       "<pandas.io.formats.style.Styler at 0x7f0365873b20>"
      ]
     },
     "metadata": {},
     "output_type": "display_data"
    },
    {
     "data": {
      "text/html": [
       "<style  type=\"text/css\" >\n",
       "#T_c9bcf_row0_col2{\n",
       "            background-color:  #96824b;\n",
       "        }#T_c9bcf_row1_col2{\n",
       "            background-color:  #a0965a;\n",
       "        }#T_c9bcf_row2_col2{\n",
       "            background-color:  #a09664;\n",
       "        }#T_c9bcf_row3_col2{\n",
       "            background-color:  #a0995a;\n",
       "        }#T_c9bcf_row4_col2{\n",
       "            background-color:  #be8264;\n",
       "        }</style><table id=\"T_c9bcf_\" ><thead>    <tr>        <th class=\"blank level0\" ></th>        <th class=\"col_heading level0 col0\" >pl</th>        <th class=\"col_heading level0 col1\" >name</th>        <th class=\"col_heading level0 col2\" >rgb</th>        <th class=\"col_heading level0 col3\" >distance</th>    </tr>    <tr>        <th class=\"index_name level0\" >number</th>        <th class=\"blank\" ></th>        <th class=\"blank\" ></th>        <th class=\"blank\" ></th>        <th class=\"blank\" ></th>    </tr></thead><tbody>\n",
       "                <tr>\n",
       "                        <th id=\"T_c9bcf_level0_row0\" class=\"row_heading level0 row0\" >1793</th>\n",
       "                        <td id=\"T_c9bcf_row0_col0\" class=\"data row0 col0\" >szaroczekoladowy</td>\n",
       "                        <td id=\"T_c9bcf_row0_col1\" class=\"data row0 col1\" >gray chocolate</td>\n",
       "                        <td id=\"T_c9bcf_row0_col2\" class=\"data row0 col2\" >#96824b</td>\n",
       "                        <td id=\"T_c9bcf_row0_col3\" class=\"data row0 col3\" >1170</td>\n",
       "            </tr>\n",
       "            <tr>\n",
       "                        <th id=\"T_c9bcf_level0_row1\" class=\"row_heading level0 row1\" >1792</th>\n",
       "                        <td id=\"T_c9bcf_row1_col0\" class=\"data row1 col0\" >szaroczekoladowy jasny</td>\n",
       "                        <td id=\"T_c9bcf_row1_col1\" class=\"data row1 col1\" >gray chocolate</td>\n",
       "                        <td id=\"T_c9bcf_row1_col2\" class=\"data row1 col2\" >#a0965a</td>\n",
       "                        <td id=\"T_c9bcf_row1_col3\" class=\"data row1 col3\" >1500</td>\n",
       "            </tr>\n",
       "            <tr>\n",
       "                        <th id=\"T_c9bcf_level0_row2\" class=\"row_heading level0 row2\" >1797</th>\n",
       "                        <td id=\"T_c9bcf_row2_col0\" class=\"data row2 col0\" >szarobeżowy ciemny</td>\n",
       "                        <td id=\"T_c9bcf_row2_col1\" class=\"data row2 col1\" >beige grey dark</td>\n",
       "                        <td id=\"T_c9bcf_row2_col2\" class=\"data row2 col2\" >#a09664</td>\n",
       "                        <td id=\"T_c9bcf_row2_col3\" class=\"data row2 col3\" >1620</td>\n",
       "            </tr>\n",
       "            <tr>\n",
       "                        <th id=\"T_c9bcf_level0_row3\" class=\"row_heading level0 row3\" >1798</th>\n",
       "                        <td id=\"T_c9bcf_row3_col0\" class=\"data row3 col0\" >szarobeżowy bardzo ciemny</td>\n",
       "                        <td id=\"T_c9bcf_row3_col1\" class=\"data row3 col1\" >beige grey very dark</td>\n",
       "                        <td id=\"T_c9bcf_row3_col2\" class=\"data row3 col2\" >#a0995a</td>\n",
       "                        <td id=\"T_c9bcf_row3_col3\" class=\"data row3 col3\" >1992</td>\n",
       "            </tr>\n",
       "            <tr>\n",
       "                        <th id=\"T_c9bcf_level0_row4\" class=\"row_heading level0 row4\" >1770</th>\n",
       "                        <td id=\"T_c9bcf_row4_col0\" class=\"data row4 col0\" >piasek pustyni jasny</td>\n",
       "                        <td id=\"T_c9bcf_row4_col1\" class=\"data row4 col1\" >desert sand light</td>\n",
       "                        <td id=\"T_c9bcf_row4_col2\" class=\"data row4 col2\" >#be8264</td>\n",
       "                        <td id=\"T_c9bcf_row4_col3\" class=\"data row4 col3\" >2160</td>\n",
       "            </tr>\n",
       "    </tbody></table>"
      ],
      "text/plain": [
       "<pandas.io.formats.style.Styler at 0x7f03656576a0>"
      ]
     },
     "metadata": {},
     "output_type": "display_data"
    },
    {
     "data": {
      "image/png": "[encoded data removed]",
      "text/plain": [
       "<Figure size 720x720 with 1 Axes>"
      ]
     },
     "metadata": {
      "needs_background": "light"
     },
     "output_type": "display_data"
    },
    {
     "data": {
      "image/png": "[encoded data removed]",
      "text/plain": [
       "<Figure size 720x720 with 1 Axes>"
      ]
     },
     "metadata": {
      "needs_background": "light"
     },
     "output_type": "display_data"
    },
    {
     "data": {
      "image/png": "[encoded data removed]",
      "text/plain": [
       "<Figure size 720x720 with 1 Axes>"
      ]
     },
     "metadata": {
      "needs_background": "light"
     },
     "output_type": "display_data"
    },
    {
     "data": {
      "image/png": "[encoded data removed]",
      "text/plain": [
       "<Figure size 720x720 with 1 Axes>"
      ]
     },
     "metadata": {
      "needs_background": "light"
     },
     "output_type": "display_data"
    },
    {
     "data": {
      "image/png": "[encoded data removed]",
      "text/plain": [
       "<Figure size 720x720 with 1 Axes>"
      ]
     },
     "metadata": {
      "needs_background": "light"
     },
     "output_type": "display_data"
    }
   ],
   "source": [
    "for base_num in base_numbers:\n",
    "    find_similar(base_num, rgb_gamma_correction, 5)"
   ]
  },
  {
   "cell_type": "markdown",
   "metadata": {},
   "source": [
    "## XYZ"
   ]
  },
  {
   "cell_type": "markdown",
   "metadata": {},
   "source": [
    "$\\text{score}=\\text{distance} ^{2}={(X_{2}-X_{1})^{2}+(Y_{2}-Y_{1})^{2}+(Z_{2}-Z_{1})^{2}}$"
   ]
  },
  {
   "cell_type": "code",
   "execution_count": 9,
   "metadata": {},
   "outputs": [
    {
     "data": {
      "text/html": [
       "<style  type=\"text/css\" >\n",
       "#T_a7b2b_row0_col2{\n",
       "            background-color:  #cc2f2f;\n",
       "        }#T_a7b2b_row1_col2{\n",
       "            background-color:  #c7002e;\n",
       "        }#T_a7b2b_row2_col2{\n",
       "            background-color:  #bf4949;\n",
       "        }#T_a7b2b_row3_col2{\n",
       "            background-color:  #b43c3c;\n",
       "        }#T_a7b2b_row4_col2{\n",
       "            background-color:  #c83c00;\n",
       "        }</style><table id=\"T_a7b2b_\" ><thead>    <tr>        <th class=\"blank level0\" ></th>        <th class=\"col_heading level0 col0\" >pl</th>        <th class=\"col_heading level0 col1\" >name</th>        <th class=\"col_heading level0 col2\" >rgb</th>        <th class=\"col_heading level0 col3\" >distance</th>    </tr>    <tr>        <th class=\"index_name level0\" >number</th>        <th class=\"blank\" ></th>        <th class=\"blank\" ></th>        <th class=\"blank\" ></th>        <th class=\"blank\" ></th>    </tr></thead><tbody>\n",
       "                <tr>\n",
       "                        <th id=\"T_a7b2b_level0_row0\" class=\"row_heading level0 row0\" >1553</th>\n",
       "                        <td id=\"T_a7b2b_row0_col0\" class=\"data row0 col0\" >jasna czerwień</td>\n",
       "                        <td id=\"T_a7b2b_row0_col1\" class=\"data row0 col1\" >light red</td>\n",
       "                        <td id=\"T_a7b2b_row0_col2\" class=\"data row0 col2\" >#cc2f2f</td>\n",
       "                        <td id=\"T_a7b2b_row0_col3\" class=\"data row0 col3\" >0.000409</td>\n",
       "            </tr>\n",
       "            <tr>\n",
       "                        <th id=\"T_a7b2b_level0_row1\" class=\"row_heading level0 row1\" >1561</th>\n",
       "                        <td id=\"T_a7b2b_row1_col0\" class=\"data row1 col0\" >żurawinowy ciemny</td>\n",
       "                        <td id=\"T_a7b2b_row1_col1\" class=\"data row1 col1\" >cranberry dark</td>\n",
       "                        <td id=\"T_a7b2b_row1_col2\" class=\"data row1 col2\" >#c7002e</td>\n",
       "                        <td id=\"T_a7b2b_row1_col3\" class=\"data row1 col3\" >0.000817</td>\n",
       "            </tr>\n",
       "            <tr>\n",
       "                        <th id=\"T_a7b2b_level0_row2\" class=\"row_heading level0 row2\" >1555C</th>\n",
       "                        <td id=\"T_a7b2b_row2_col0\" class=\"data row2 col0\" >łososiowy róż bardzo ciemny</td>\n",
       "                        <td id=\"T_a7b2b_row2_col1\" class=\"data row2 col1\" >salmon pink very dark</td>\n",
       "                        <td id=\"T_a7b2b_row2_col2\" class=\"data row2 col2\" >#bf4949</td>\n",
       "                        <td id=\"T_a7b2b_row2_col3\" class=\"data row2 col3\" >0.001127</td>\n",
       "            </tr>\n",
       "            <tr>\n",
       "                        <th id=\"T_a7b2b_level0_row3\" class=\"row_heading level0 row3\" >1757</th>\n",
       "                        <td id=\"T_a7b2b_row3_col0\" class=\"data row3 col0\" >czerwonokasztanowy</td>\n",
       "                        <td id=\"T_a7b2b_row3_col1\" class=\"data row3 col1\" >red chestnut</td>\n",
       "                        <td id=\"T_a7b2b_row3_col2\" class=\"data row3 col2\" >#b43c3c</td>\n",
       "                        <td id=\"T_a7b2b_row3_col3\" class=\"data row3 col3\" >0.001651</td>\n",
       "            </tr>\n",
       "            <tr>\n",
       "                        <th id=\"T_a7b2b_level0_row4\" class=\"row_heading level0 row4\" >1529</th>\n",
       "                        <td id=\"T_a7b2b_row4_col0\" class=\"data row4 col0\" >morelowy bardzo ciemny</td>\n",
       "                        <td id=\"T_a7b2b_row4_col1\" class=\"data row4 col1\" >apricot very dark</td>\n",
       "                        <td id=\"T_a7b2b_row4_col2\" class=\"data row4 col2\" >#c83c00</td>\n",
       "                        <td id=\"T_a7b2b_row4_col3\" class=\"data row4 col3\" >0.001697</td>\n",
       "            </tr>\n",
       "    </tbody></table>"
      ],
      "text/plain": [
       "<pandas.io.formats.style.Styler at 0x7f03c0583d00>"
      ]
     },
     "metadata": {},
     "output_type": "display_data"
    },
    {
     "data": {
      "text/html": [
       "<style  type=\"text/css\" >\n",
       "#T_c3a68_row0_col2{\n",
       "            background-color:  #7d74a8;\n",
       "        }#T_c3a68_row1_col2{\n",
       "            background-color:  #408bb6;\n",
       "        }#T_c3a68_row2_col2{\n",
       "            background-color:  #329b91;\n",
       "        }#T_c3a68_row3_col2{\n",
       "            background-color:  #af71ab;\n",
       "        }#T_c3a68_row4_col2{\n",
       "            background-color:  #8c9696;\n",
       "        }</style><table id=\"T_c3a68_\" ><thead>    <tr>        <th class=\"blank level0\" ></th>        <th class=\"col_heading level0 col0\" >pl</th>        <th class=\"col_heading level0 col1\" >name</th>        <th class=\"col_heading level0 col2\" >rgb</th>        <th class=\"col_heading level0 col3\" >distance</th>    </tr>    <tr>        <th class=\"index_name level0\" >number</th>        <th class=\"blank\" ></th>        <th class=\"blank\" ></th>        <th class=\"blank\" ></th>        <th class=\"blank\" ></th>    </tr></thead><tbody>\n",
       "                <tr>\n",
       "                        <th id=\"T_c3a68_level0_row0\" class=\"row_heading level0 row0\" >1608A</th>\n",
       "                        <td id=\"T_c3a68_row0_col0\" class=\"data row0 col0\" >jagodowy ciemny</td>\n",
       "                        <td id=\"T_c3a68_row0_col1\" class=\"data row0 col1\" >blueberry dark</td>\n",
       "                        <td id=\"T_c3a68_row0_col2\" class=\"data row0 col2\" >#7d74a8</td>\n",
       "                        <td id=\"T_c3a68_row0_col3\" class=\"data row0 col3\" >0.003356</td>\n",
       "            </tr>\n",
       "            <tr>\n",
       "                        <th id=\"T_c3a68_level0_row1\" class=\"row_heading level0 row1\" >1617</th>\n",
       "                        <td id=\"T_c3a68_row1_col0\" class=\"data row1 col0\" >niebieski bardzo ciemny</td>\n",
       "                        <td id=\"T_c3a68_row1_col1\" class=\"data row1 col1\" >blue very dark</td>\n",
       "                        <td id=\"T_c3a68_row1_col2\" class=\"data row1 col2\" >#408bb6</td>\n",
       "                        <td id=\"T_c3a68_row1_col3\" class=\"data row1 col3\" >0.005941</td>\n",
       "            </tr>\n",
       "            <tr>\n",
       "                        <th id=\"T_c3a68_level0_row2\" class=\"row_heading level0 row2\" >1642</th>\n",
       "                        <td id=\"T_c3a68_row2_col0\" class=\"data row2 col0\" >morski</td>\n",
       "                        <td id=\"T_c3a68_row2_col1\" class=\"data row2 col1\" >sea green</td>\n",
       "                        <td id=\"T_c3a68_row2_col2\" class=\"data row2 col2\" >#329b91</td>\n",
       "                        <td id=\"T_c3a68_row2_col3\" class=\"data row2 col3\" >0.009671</td>\n",
       "            </tr>\n",
       "            <tr>\n",
       "                        <th id=\"T_c3a68_level0_row3\" class=\"row_heading level0 row3\" >1592</th>\n",
       "                        <td id=\"T_c3a68_row3_col0\" class=\"data row3 col0\" >fioletowy jasny</td>\n",
       "                        <td id=\"T_c3a68_row3_col1\" class=\"data row3 col1\" >violet light</td>\n",
       "                        <td id=\"T_c3a68_row3_col2\" class=\"data row3 col2\" >#af71ab</td>\n",
       "                        <td id=\"T_c3a68_row3_col3\" class=\"data row3 col3\" >0.010956</td>\n",
       "            </tr>\n",
       "            <tr>\n",
       "                        <th id=\"T_c3a68_level0_row4\" class=\"row_heading level0 row4\" >1635</th>\n",
       "                        <td id=\"T_c3a68_row4_col0\" class=\"data row4 col0\" >stalowoszary jasny</td>\n",
       "                        <td id=\"T_c3a68_row4_col1\" class=\"data row4 col1\" >steel grey light</td>\n",
       "                        <td id=\"T_c3a68_row4_col2\" class=\"data row4 col2\" >#8c9696</td>\n",
       "                        <td id=\"T_c3a68_row4_col3\" class=\"data row4 col3\" >0.011396</td>\n",
       "            </tr>\n",
       "    </tbody></table>"
      ],
      "text/plain": [
       "<pandas.io.formats.style.Styler at 0x7f0365df4dc0>"
      ]
     },
     "metadata": {},
     "output_type": "display_data"
    },
    {
     "data": {
      "text/html": [
       "<style  type=\"text/css\" >\n",
       "#T_874c7_row0_col2{\n",
       "            background-color:  #915d8c;\n",
       "        }#T_874c7_row1_col2{\n",
       "            background-color:  #b85893;\n",
       "        }#T_874c7_row2_col2{\n",
       "            background-color:  #996d7b;\n",
       "        }#T_874c7_row3_col2{\n",
       "            background-color:  #6e878c;\n",
       "        }#T_874c7_row4_col2{\n",
       "            background-color:  #b37586;\n",
       "        }</style><table id=\"T_874c7_\" ><thead>    <tr>        <th class=\"blank level0\" ></th>        <th class=\"col_heading level0 col0\" >pl</th>        <th class=\"col_heading level0 col1\" >name</th>        <th class=\"col_heading level0 col2\" >rgb</th>        <th class=\"col_heading level0 col3\" >distance</th>    </tr>    <tr>        <th class=\"index_name level0\" >number</th>        <th class=\"blank\" ></th>        <th class=\"blank\" ></th>        <th class=\"blank\" ></th>        <th class=\"blank\" ></th>    </tr></thead><tbody>\n",
       "                <tr>\n",
       "                        <th id=\"T_874c7_level0_row0\" class=\"row_heading level0 row0\" >1585</th>\n",
       "                        <td id=\"T_874c7_row0_col0\" class=\"data row0 col0\" >śliwkowy</td>\n",
       "                        <td id=\"T_874c7_row0_col1\" class=\"data row0 col1\" >plum</td>\n",
       "                        <td id=\"T_874c7_row0_col2\" class=\"data row0 col2\" >#915d8c</td>\n",
       "                        <td id=\"T_874c7_row0_col3\" class=\"data row0 col3\" >0.002324</td>\n",
       "            </tr>\n",
       "            <tr>\n",
       "                        <th id=\"T_874c7_level0_row1\" class=\"row_heading level0 row1\" >1595</th>\n",
       "                        <td id=\"T_874c7_row1_col0\" class=\"data row1 col0\" >ciemny wrzos</td>\n",
       "                        <td id=\"T_874c7_row1_col1\" class=\"data row1 col1\" >heather dark</td>\n",
       "                        <td id=\"T_874c7_row1_col2\" class=\"data row1 col2\" >#b85893</td>\n",
       "                        <td id=\"T_874c7_row1_col3\" class=\"data row1 col3\" >0.002849</td>\n",
       "            </tr>\n",
       "            <tr>\n",
       "                        <th id=\"T_874c7_level0_row2\" class=\"row_heading level0 row2\" >1762A</th>\n",
       "                        <td id=\"T_874c7_row2_col0\" class=\"data row2 col0\" >kakaowy średni</td>\n",
       "                        <td id=\"T_874c7_row2_col1\" class=\"data row2 col1\" >cocoa medium</td>\n",
       "                        <td id=\"T_874c7_row2_col2\" class=\"data row2 col2\" >#996d7b</td>\n",
       "                        <td id=\"T_874c7_row2_col3\" class=\"data row2 col3\" >0.003443</td>\n",
       "            </tr>\n",
       "            <tr>\n",
       "                        <th id=\"T_874c7_level0_row3\" class=\"row_heading level0 row3\" >1633</th>\n",
       "                        <td id=\"T_874c7_row3_col0\" class=\"data row3 col0\" >niebieski antyczny ciemny</td>\n",
       "                        <td id=\"T_874c7_row3_col1\" class=\"data row3 col1\" >antique blue dark</td>\n",
       "                        <td id=\"T_874c7_row3_col2\" class=\"data row3 col2\" >#6e878c</td>\n",
       "                        <td id=\"T_874c7_row3_col3\" class=\"data row3 col3\" >0.003695</td>\n",
       "            </tr>\n",
       "            <tr>\n",
       "                        <th id=\"T_874c7_level0_row4\" class=\"row_heading level0 row4\" >1577</th>\n",
       "                        <td id=\"T_874c7_row4_col0\" class=\"data row4 col0\" >perłoworóżowy średni</td>\n",
       "                        <td id=\"T_874c7_row4_col1\" class=\"data row4 col1\" >shell pink medium</td>\n",
       "                        <td id=\"T_874c7_row4_col2\" class=\"data row4 col2\" >#b37586</td>\n",
       "                        <td id=\"T_874c7_row4_col3\" class=\"data row4 col3\" >0.005620</td>\n",
       "            </tr>\n",
       "    </tbody></table>"
      ],
      "text/plain": [
       "<pandas.io.formats.style.Styler at 0x7f0365e8feb0>"
      ]
     },
     "metadata": {},
     "output_type": "display_data"
    },
    {
     "data": {
      "text/html": [
       "<style  type=\"text/css\" >\n",
       "#T_4a496_row0_col2{\n",
       "            background-color:  #648228;\n",
       "        }#T_4a496_row1_col2{\n",
       "            background-color:  #008c46;\n",
       "        }#T_4a496_row2_col2{\n",
       "            background-color:  #6e7828;\n",
       "        }#T_4a496_row3_col2{\n",
       "            background-color:  #318229;\n",
       "        }#T_4a496_row4_col2{\n",
       "            background-color:  #828233;\n",
       "        }</style><table id=\"T_4a496_\" ><thead>    <tr>        <th class=\"blank level0\" ></th>        <th class=\"col_heading level0 col0\" >pl</th>        <th class=\"col_heading level0 col1\" >name</th>        <th class=\"col_heading level0 col2\" >rgb</th>        <th class=\"col_heading level0 col3\" >distance</th>    </tr>    <tr>        <th class=\"index_name level0\" >number</th>        <th class=\"blank\" ></th>        <th class=\"blank\" ></th>        <th class=\"blank\" ></th>        <th class=\"blank\" ></th>    </tr></thead><tbody>\n",
       "                <tr>\n",
       "                        <th id=\"T_4a496_level0_row0\" class=\"row_heading level0 row0\" >1693</th>\n",
       "                        <td id=\"T_4a496_row0_col0\" class=\"data row0 col0\" >zieleń awokado</td>\n",
       "                        <td id=\"T_4a496_row0_col1\" class=\"data row0 col1\" >avocado green</td>\n",
       "                        <td id=\"T_4a496_row0_col2\" class=\"data row0 col2\" >#648228</td>\n",
       "                        <td id=\"T_4a496_row0_col3\" class=\"data row0 col3\" >0.000626</td>\n",
       "            </tr>\n",
       "            <tr>\n",
       "                        <th id=\"T_4a496_level0_row1\" class=\"row_heading level0 row1\" >1682</th>\n",
       "                        <td id=\"T_4a496_row1_col0\" class=\"data row1 col0\" >zieleń ciemna</td>\n",
       "                        <td id=\"T_4a496_row1_col1\" class=\"data row1 col1\" >green dark</td>\n",
       "                        <td id=\"T_4a496_row1_col2\" class=\"data row1 col2\" >#008c46</td>\n",
       "                        <td id=\"T_4a496_row1_col3\" class=\"data row1 col3\" >0.001801</td>\n",
       "            </tr>\n",
       "            <tr>\n",
       "                        <th id=\"T_4a496_level0_row2\" class=\"row_heading level0 row2\" >1713</th>\n",
       "                        <td id=\"T_4a496_row2_col0\" class=\"data row2 col0\" >oliwkowozielony ciemny</td>\n",
       "                        <td id=\"T_4a496_row2_col1\" class=\"data row2 col1\" >olive green dark</td>\n",
       "                        <td id=\"T_4a496_row2_col2\" class=\"data row2 col2\" >#6e7828</td>\n",
       "                        <td id=\"T_4a496_row2_col3\" class=\"data row2 col3\" >0.001812</td>\n",
       "            </tr>\n",
       "            <tr>\n",
       "                        <th id=\"T_4a496_level0_row3\" class=\"row_heading level0 row3\" >1701</th>\n",
       "                        <td id=\"T_4a496_row3_col0\" class=\"data row3 col0\" >zieleń papuzia najciemniejsza</td>\n",
       "                        <td id=\"T_4a496_row3_col1\" class=\"data row3 col1\" >parrot green ultra dark</td>\n",
       "                        <td id=\"T_4a496_row3_col2\" class=\"data row3 col2\" >#318229</td>\n",
       "                        <td id=\"T_4a496_row3_col3\" class=\"data row3 col3\" >0.002398</td>\n",
       "            </tr>\n",
       "            <tr>\n",
       "                        <th id=\"T_4a496_level0_row4\" class=\"row_heading level0 row4\" >1706</th>\n",
       "                        <td id=\"T_4a496_row4_col0\" class=\"data row4 col0\" >zieleń khaki ciemna</td>\n",
       "                        <td id=\"T_4a496_row4_col1\" class=\"data row4 col1\" >khaki green dark</td>\n",
       "                        <td id=\"T_4a496_row4_col2\" class=\"data row4 col2\" >#828233</td>\n",
       "                        <td id=\"T_4a496_row4_col3\" class=\"data row4 col3\" >0.003098</td>\n",
       "            </tr>\n",
       "    </tbody></table>"
      ],
      "text/plain": [
       "<pandas.io.formats.style.Styler at 0x7f0365cc96a0>"
      ]
     },
     "metadata": {},
     "output_type": "display_data"
    },
    {
     "data": {
      "text/html": [
       "<style  type=\"text/css\" >\n",
       "#T_a158b_row0_col2{\n",
       "            background-color:  #8c9650;\n",
       "        }#T_a158b_row1_col2{\n",
       "            background-color:  #96824b;\n",
       "        }#T_a158b_row2_col2{\n",
       "            background-color:  #a0965a;\n",
       "        }#T_a158b_row3_col2{\n",
       "            background-color:  #a08c3c;\n",
       "        }#T_a158b_row4_col2{\n",
       "            background-color:  #a09664;\n",
       "        }</style><table id=\"T_a158b_\" ><thead>    <tr>        <th class=\"blank level0\" ></th>        <th class=\"col_heading level0 col0\" >pl</th>        <th class=\"col_heading level0 col1\" >name</th>        <th class=\"col_heading level0 col2\" >rgb</th>        <th class=\"col_heading level0 col3\" >distance</th>    </tr>    <tr>        <th class=\"index_name level0\" >number</th>        <th class=\"blank\" ></th>        <th class=\"blank\" ></th>        <th class=\"blank\" ></th>        <th class=\"blank\" ></th>    </tr></thead><tbody>\n",
       "                <tr>\n",
       "                        <th id=\"T_a158b_level0_row0\" class=\"row_heading level0 row0\" >1803</th>\n",
       "                        <td id=\"T_a158b_row0_col0\" class=\"data row0 col0\" >oliwkowoszary</td>\n",
       "                        <td id=\"T_a158b_row0_col1\" class=\"data row0 col1\" >olive gray</td>\n",
       "                        <td id=\"T_a158b_row0_col2\" class=\"data row0 col2\" >#8c9650</td>\n",
       "                        <td id=\"T_a158b_row0_col3\" class=\"data row0 col3\" >0.001755</td>\n",
       "            </tr>\n",
       "            <tr>\n",
       "                        <th id=\"T_a158b_level0_row1\" class=\"row_heading level0 row1\" >1793</th>\n",
       "                        <td id=\"T_a158b_row1_col0\" class=\"data row1 col0\" >szaroczekoladowy</td>\n",
       "                        <td id=\"T_a158b_row1_col1\" class=\"data row1 col1\" >gray chocolate</td>\n",
       "                        <td id=\"T_a158b_row1_col2\" class=\"data row1 col2\" >#96824b</td>\n",
       "                        <td id=\"T_a158b_row1_col3\" class=\"data row1 col3\" >0.002958</td>\n",
       "            </tr>\n",
       "            <tr>\n",
       "                        <th id=\"T_a158b_level0_row2\" class=\"row_heading level0 row2\" >1792</th>\n",
       "                        <td id=\"T_a158b_row2_col0\" class=\"data row2 col0\" >szaroczekoladowy jasny</td>\n",
       "                        <td id=\"T_a158b_row2_col1\" class=\"data row2 col1\" >gray chocolate</td>\n",
       "                        <td id=\"T_a158b_row2_col2\" class=\"data row2 col2\" >#a0965a</td>\n",
       "                        <td id=\"T_a158b_row2_col3\" class=\"data row2 col3\" >0.003005</td>\n",
       "            </tr>\n",
       "            <tr>\n",
       "                        <th id=\"T_a158b_level0_row3\" class=\"row_heading level0 row3\" >1788</th>\n",
       "                        <td id=\"T_a158b_row3_col0\" class=\"data row3 col0\" >brudnobrązowy średni</td>\n",
       "                        <td id=\"T_a158b_row3_col1\" class=\"data row3 col1\" >drab brown medium</td>\n",
       "                        <td id=\"T_a158b_row3_col2\" class=\"data row3 col2\" >#a08c3c</td>\n",
       "                        <td id=\"T_a158b_row3_col3\" class=\"data row3 col3\" >0.003339</td>\n",
       "            </tr>\n",
       "            <tr>\n",
       "                        <th id=\"T_a158b_level0_row4\" class=\"row_heading level0 row4\" >1797</th>\n",
       "                        <td id=\"T_a158b_row4_col0\" class=\"data row4 col0\" >szarobeżowy ciemny</td>\n",
       "                        <td id=\"T_a158b_row4_col1\" class=\"data row4 col1\" >beige grey dark</td>\n",
       "                        <td id=\"T_a158b_row4_col2\" class=\"data row4 col2\" >#a09664</td>\n",
       "                        <td id=\"T_a158b_row4_col3\" class=\"data row4 col3\" >0.004171</td>\n",
       "            </tr>\n",
       "    </tbody></table>"
      ],
      "text/plain": [
       "<pandas.io.formats.style.Styler at 0x7f0365c93190>"
      ]
     },
     "metadata": {},
     "output_type": "display_data"
    },
    {
     "data": {
      "image/png": "[encoded data removed]",
      "text/plain": [
       "<Figure size 720x720 with 1 Axes>"
      ]
     },
     "metadata": {
      "needs_background": "light"
     },
     "output_type": "display_data"
    },
    {
     "data": {
      "image/png": "[encoded data removed]",
      "text/plain": [
       "<Figure size 720x720 with 1 Axes>"
      ]
     },
     "metadata": {
      "needs_background": "light"
     },
     "output_type": "display_data"
    },
    {
     "data": {
      "image/png": "[encoded data removed]",
      "text/plain": [
       "<Figure size 720x720 with 1 Axes>"
      ]
     },
     "metadata": {
      "needs_background": "light"
     },
     "output_type": "display_data"
    },
    {
     "data": {
      "image/png": "[encoded data removed]",
      "text/plain": [
       "<Figure size 720x720 with 1 Axes>"
      ]
     },
     "metadata": {
      "needs_background": "light"
     },
     "output_type": "display_data"
    },
    {
     "data": {
      "image/png": "[encoded data removed]",
      "text/plain": [
       "<Figure size 720x720 with 1 Axes>"
      ]
     },
     "metadata": {
      "needs_background": "light"
     },
     "output_type": "display_data"
    }
   ],
   "source": [
    "for base_num in base_numbers:\n",
    "    find_similar(base_num, xyz_euclidean, 5)"
   ]
  },
  {
   "cell_type": "markdown",
   "metadata": {
    "tags": []
   },
   "source": [
    "## CIELAB"
   ]
  }
 ],
 "metadata": {
  "kernelspec": {
   "display_name": "Python 3",
   "language": "python",
   "name": "python3"
  },
  "language_info": {
   "codemirror_mode": {
    "name": "ipython",
    "version": 3
   },
   "file_extension": ".py",
   "mimetype": "text/x-python",
   "name": "python",
   "nbconvert_exporter": "python",
   "pygments_lexer": "ipython3",
   "version": "3.8.10"
  }
 },
 "nbformat": 4,
 "nbformat_minor": 4
}
