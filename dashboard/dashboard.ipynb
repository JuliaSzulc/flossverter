{
 "cells": [
  {
   "cell_type": "code",
   "execution_count": 1,
   "metadata": {
    "tags": []
   },
   "outputs": [],
   "source": [
    "from jupyter_dash import JupyterDash\n",
    "import dash\n",
    "import dash_bootstrap_components as dbc\n",
    "import dash_core_components as dcc\n",
    "import dash_html_components as html\n",
    "\n",
    "import plotly.graph_objects as go\n",
    "\n",
    "from dash.dependencies import Input, Output"
   ]
  },
  {
   "cell_type": "code",
   "execution_count": 2,
   "metadata": {},
   "outputs": [],
   "source": [
    "import pandas as pd"
   ]
  },
  {
   "cell_type": "code",
   "execution_count": 3,
   "metadata": {},
   "outputs": [],
   "source": [
    "app = JupyterDash(__name__, external_stylesheets=[dbc.themes.LITERA])\n",
    "server = app.server"
   ]
  },
  {
   "cell_type": "code",
   "execution_count": 4,
   "metadata": {},
   "outputs": [],
   "source": [
    "dmc_df = pd.read_csv('../data/dmc.csv', index_col='number')\n",
    "metrics = [\n",
    "    'RGB euclidean',\n",
    "    'RGB with gamma correction',\n",
    "    'CIE76',\n",
    "    'CIE94',\n",
    "    'CIEDE2000',\n",
    "    'CMC 1:1',\n",
    "    'CMC 2:1'\n",
    "]"
   ]
  },
  {
   "cell_type": "code",
   "execution_count": 21,
   "metadata": {},
   "outputs": [],
   "source": [
    "def draw_graph():\n",
    "    base_color = 'blue'\n",
    "    compared_colors = ['red', 'green', 'yellow']\n",
    "\n",
    "    data_axis = 0\n",
    "    xlabels = ['11', '12', '13']\n",
    "    ylabels = ['xD', ' ']\n",
    "\n",
    "    data = [[3, 3, 3], [0, 1, 2]]\n",
    "\n",
    "    fig = go.Figure(data=go.Heatmap(\n",
    "        z=np.stack((np.arange(n), [n] * n), data_axis),\n",
    "        x=xlabels,\n",
    "        y=[ylabels[1], ylabels[0]],\n",
    "        colorscale=compared_colors + [base_color],\n",
    "        showscale=False,\n",
    "        xgap=4\n",
    "    ))\n",
    "    \n",
    "    return fig"
   ]
  },
  {
   "cell_type": "code",
   "execution_count": 22,
   "metadata": {
    "tags": []
   },
   "outputs": [],
   "source": [
    "app.layout = html.Div([dbc.Row([\n",
    "    dbc.Col([\n",
    "        html.Label('Base DMC color:'),\n",
    "        dcc.Dropdown(\n",
    "            id='drop_dmc',\n",
    "            options=[{'label': code, 'value': code}\n",
    "                     for code in dmc_df.index],\n",
    "            placeholder='Select DMC color',\n",
    "            searchable=True,\n",
    "            clearable=False,\n",
    "            style={'marginBottom': '1.5em'},\n",
    "        ),\n",
    "        html.Label('Color comparing algorithm:'),\n",
    "        dcc.Dropdown(\n",
    "            id='drop_metric',\n",
    "            options=[{'label': m, 'value': m} for m in metrics],\n",
    "            placeholder='Select algorithm',\n",
    "            searchable=False,\n",
    "            value='CIEDE2000',\n",
    "            clearable=False,\n",
    "            style={'marginBottom': '1.5em'},\n",
    "        ),\n",
    "        html.Label('Number of similar colors:'),\n",
    "        html.Div(dcc.Slider(\n",
    "            id='slider_colors',\n",
    "            min=1,\n",
    "            max=9,\n",
    "            step=1,\n",
    "            value=5,\n",
    "            marks={n: str(n) for n in range(1, 10, 2)},\n",
    "        ), style={'marginBottom': '1.5em'},),\n",
    "        html.Div([\n",
    "            dbc.Button(\n",
    "                'Clear',\n",
    "                color='secondary',\n",
    "                id='button_clear',\n",
    "                outline=True\n",
    "            ),\n",
    "            dbc.Button(\n",
    "                'Find similar',\n",
    "                color='primary',\n",
    "                id='button_run'\n",
    "            ),], style={'display': 'flex', 'justify-content': 'right'}),\n",
    "    ], width=3),\n",
    "    dbc.Col(html.Div([\n",
    "        dcc.Graph(\n",
    "            id='graph',\n",
    "            figure=draw_graph()\n",
    "        )\n",
    "    ]), width=6),\n",
    "])])"
   ]
  },
  {
   "cell_type": "code",
   "execution_count": 24,
   "metadata": {},
   "outputs": [
    {
     "data": {
      "text/html": [
       "\n",
       "        <iframe\n",
       "            width=\"100%\"\n",
       "            height=\"650\"\n",
       "            src=\"http://127.0.0.1:8051/\"\n",
       "            frameborder=\"0\"\n",
       "            allowfullscreen\n",
       "        ></iframe>\n",
       "        "
      ],
      "text/plain": [
       "<IPython.lib.display.IFrame at 0x7f97b91b1c10>"
      ]
     },
     "metadata": {},
     "output_type": "display_data"
    }
   ],
   "source": [
    "app.run_server(mode='inline', debug=True)"
   ]
  },
  {
   "cell_type": "code",
   "execution_count": null,
   "metadata": {},
   "outputs": [],
   "source": []
  }
 ],
 "metadata": {
  "kernelspec": {
   "display_name": "mouline",
   "language": "python",
   "name": "mouline"
  },
  "language_info": {
   "codemirror_mode": {
    "name": "ipython",
    "version": 3
   },
   "file_extension": ".py",
   "mimetype": "text/x-python",
   "name": "python",
   "nbconvert_exporter": "python",
   "pygments_lexer": "ipython3",
   "version": "3.8.10"
  }
 },
 "nbformat": 4,
 "nbformat_minor": 4
}
