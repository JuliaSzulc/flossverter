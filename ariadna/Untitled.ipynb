{
 "cells": [
  {
   "cell_type": "code",
   "execution_count": 133,
   "source": [
    "from PIL import Image"
   ],
   "outputs": [],
   "metadata": {}
  },
  {
   "cell_type": "code",
   "execution_count": 134,
   "source": [
    "w = 42\n",
    "h = 14\n",
    "off_w = 53\n",
    "off_h = 6"
   ],
   "outputs": [],
   "metadata": {}
  },
  {
   "cell_type": "code",
   "execution_count": 135,
   "source": [
    "def get_color(left, top, right, bottom):\n",
    "    im1 = im.crop((left, top, right, bottom))\n",
    "#     display(im1)\n",
    "    color = sorted(im1.getcolors(w*h), reverse=True)[0][1]\n",
    "    print('%02x%02x%02x' % color)"
   ],
   "outputs": [],
   "metadata": {}
  },
  {
   "cell_type": "code",
   "execution_count": 138,
   "source": [
    "im = Image.open('ariadna8.jpg')\n",
    "width, height = im.size"
   ],
   "outputs": [],
   "metadata": {}
  },
  {
   "cell_type": "code",
   "execution_count": 139,
   "source": [
    "left = 0\n",
    "for i in range(4):\n",
    "    top = 0\n",
    "    right = left + w\n",
    "    for j in range(8):\n",
    "        bottom = top + h\n",
    "        \n",
    "        get_color(left, top, right, bottom)\n",
    "        \n",
    "        top = bottom + off_h\n",
    "    left = right + off_w\n",
    "    print('\\n\\n')"
   ],
   "outputs": [
    {
     "output_type": "stream",
     "name": "stdout",
     "text": [
      "748139\n",
      "616a33\n",
      "535a38\n",
      "cdc24e\n",
      "bcb22e\n",
      "aba125\n",
      "8fac2c\n",
      "61983b\n",
      "\n",
      "\n",
      "\n",
      "d68d2f\n",
      "e58225\n",
      "bd7529\n",
      "bd6c2a\n",
      "f0d681\n",
      "9a462e\n",
      "593e33\n",
      "39302b\n",
      "\n",
      "\n",
      "\n",
      "cc3b4a\n",
      "d66255\n",
      "64413f\n",
      "897678\n",
      "b29597\n",
      "f9e1c5\n",
      "f0a860\n",
      "e2914f\n",
      "\n",
      "\n",
      "\n",
      "5f4536\n",
      "e7d8ad\n",
      "cbbf97\n",
      "9d8762\n",
      "826d52\n",
      "5a5247\n",
      "53423a\n",
      "dfcaab\n",
      "\n",
      "\n",
      "\n"
     ]
    }
   ],
   "metadata": {}
  },
  {
   "cell_type": "code",
   "execution_count": 31,
   "source": [],
   "outputs": [],
   "metadata": {}
  }
 ],
 "metadata": {
  "kernelspec": {
   "display_name": "mouline",
   "language": "python",
   "name": "mouline"
  },
  "language_info": {
   "codemirror_mode": {
    "name": "ipython",
    "version": 3
   },
   "file_extension": ".py",
   "mimetype": "text/x-python",
   "name": "python",
   "nbconvert_exporter": "python",
   "pygments_lexer": "ipython3",
   "version": "3.8.10"
  }
 },
 "nbformat": 4,
 "nbformat_minor": 4
}