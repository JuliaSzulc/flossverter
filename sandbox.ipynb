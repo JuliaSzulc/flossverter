{
 "cells": [
  {
   "cell_type": "code",
   "execution_count": 1,
   "id": "bff6e251-11de-4fb7-b973-afc8fe5a7c96",
   "metadata": {},
   "outputs": [],
   "source": [
    "import pandas as pd\n",
    "\n",
    "from helpers import swatch"
   ]
  },
  {
   "cell_type": "code",
   "execution_count": 2,
   "id": "7bb02006-0c29-401d-bc7e-7803196ed8ee",
   "metadata": {},
   "outputs": [],
   "source": [
    "def display_colored(df):\n",
    "    display(df.style.applymap(lambda c:\"background-color: {}\".format(c), subset=['rgb']))"
   ]
  },
  {
   "cell_type": "code",
   "execution_count": 3,
   "id": "bd8759e4-67a5-4efb-bf60-17c1f0565639",
   "metadata": {},
   "outputs": [
    {
     "data": {
      "text/html": [
       "<style  type=\"text/css\" >\n",
       "#T_fe63e_row0_col1{\n",
       "            background-color:  #90c3cc;\n",
       "        }#T_fe63e_row1_col1{\n",
       "            background-color:  #cd2f63;\n",
       "        }#T_fe63e_row2_col1{\n",
       "            background-color:  #d1286a;\n",
       "        }#T_fe63e_row3_col1{\n",
       "            background-color:  #e24874;\n",
       "        }#T_fe63e_row4_col1{\n",
       "            background-color:  #ffa4be;\n",
       "        }#T_fe63e_row5_col1{\n",
       "            background-color:  #ffb0be;\n",
       "        }#T_fe63e_row6_col1{\n",
       "            background-color:  #ffc0cd;\n",
       "        }#T_fe63e_row7_col1{\n",
       "            background-color:  #fa3203;\n",
       "        }#T_fe63e_row8_col1{\n",
       "            background-color:  #fd5d35;\n",
       "        }#T_fe63e_row9_col1{\n",
       "            background-color:  #796047;\n",
       "        }</style><table id=\"T_fe63e_\" ><thead>    <tr>        <th class=\"blank level0\" ></th>        <th class=\"col_heading level0 col0\" >name</th>        <th class=\"col_heading level0 col1\" >rgb</th>    </tr>    <tr>        <th class=\"index_name level0\" >number</th>        <th class=\"blank\" ></th>        <th class=\"blank\" ></th>    </tr></thead><tbody>\n",
       "                <tr>\n",
       "                        <th id=\"T_fe63e_level0_row0\" class=\"row_heading level0 row0\" >598</th>\n",
       "                        <td id=\"T_fe63e_row0_col0\" class=\"data row0 col0\" >Light Turquoise</td>\n",
       "                        <td id=\"T_fe63e_row0_col1\" class=\"data row0 col1\" >#90c3cc</td>\n",
       "            </tr>\n",
       "            <tr>\n",
       "                        <th id=\"T_fe63e_level0_row1\" class=\"row_heading level0 row1\" >600</th>\n",
       "                        <td id=\"T_fe63e_row1_col0\" class=\"data row1 col0\" >Very Dark Cranberry</td>\n",
       "                        <td id=\"T_fe63e_row1_col1\" class=\"data row1 col1\" >#cd2f63</td>\n",
       "            </tr>\n",
       "            <tr>\n",
       "                        <th id=\"T_fe63e_level0_row2\" class=\"row_heading level0 row2\" >601</th>\n",
       "                        <td id=\"T_fe63e_row2_col0\" class=\"data row2 col0\" >Dark Cranberry</td>\n",
       "                        <td id=\"T_fe63e_row2_col1\" class=\"data row2 col1\" >#d1286a</td>\n",
       "            </tr>\n",
       "            <tr>\n",
       "                        <th id=\"T_fe63e_level0_row3\" class=\"row_heading level0 row3\" >602</th>\n",
       "                        <td id=\"T_fe63e_row3_col0\" class=\"data row3 col0\" >Medium Cranberry</td>\n",
       "                        <td id=\"T_fe63e_row3_col1\" class=\"data row3 col1\" >#e24874</td>\n",
       "            </tr>\n",
       "            <tr>\n",
       "                        <th id=\"T_fe63e_level0_row4\" class=\"row_heading level0 row4\" >603</th>\n",
       "                        <td id=\"T_fe63e_row4_col0\" class=\"data row4 col0\" >Cranberry</td>\n",
       "                        <td id=\"T_fe63e_row4_col1\" class=\"data row4 col1\" >#ffa4be</td>\n",
       "            </tr>\n",
       "            <tr>\n",
       "                        <th id=\"T_fe63e_level0_row5\" class=\"row_heading level0 row5\" >604</th>\n",
       "                        <td id=\"T_fe63e_row5_col0\" class=\"data row5 col0\" >Light Cranberry</td>\n",
       "                        <td id=\"T_fe63e_row5_col1\" class=\"data row5 col1\" >#ffb0be</td>\n",
       "            </tr>\n",
       "            <tr>\n",
       "                        <th id=\"T_fe63e_level0_row6\" class=\"row_heading level0 row6\" >605</th>\n",
       "                        <td id=\"T_fe63e_row6_col0\" class=\"data row6 col0\" >Very Light Cranberry</td>\n",
       "                        <td id=\"T_fe63e_row6_col1\" class=\"data row6 col1\" >#ffc0cd</td>\n",
       "            </tr>\n",
       "            <tr>\n",
       "                        <th id=\"T_fe63e_level0_row7\" class=\"row_heading level0 row7\" >606</th>\n",
       "                        <td id=\"T_fe63e_row7_col0\" class=\"data row7 col0\" >Bright Orange-Red</td>\n",
       "                        <td id=\"T_fe63e_row7_col1\" class=\"data row7 col1\" >#fa3203</td>\n",
       "            </tr>\n",
       "            <tr>\n",
       "                        <th id=\"T_fe63e_level0_row8\" class=\"row_heading level0 row8\" >608</th>\n",
       "                        <td id=\"T_fe63e_row8_col0\" class=\"data row8 col0\" >Bright Orange</td>\n",
       "                        <td id=\"T_fe63e_row8_col1\" class=\"data row8 col1\" >#fd5d35</td>\n",
       "            </tr>\n",
       "            <tr>\n",
       "                        <th id=\"T_fe63e_level0_row9\" class=\"row_heading level0 row9\" >610</th>\n",
       "                        <td id=\"T_fe63e_row9_col0\" class=\"data row9 col0\" >Dark Drab Brown</td>\n",
       "                        <td id=\"T_fe63e_row9_col1\" class=\"data row9 col1\" >#796047</td>\n",
       "            </tr>\n",
       "    </tbody></table>"
      ],
      "text/plain": [
       "<pandas.io.formats.style.Styler at 0x7f896cd46df0>"
      ]
     },
     "metadata": {},
     "output_type": "display_data"
    }
   ],
   "source": [
    "display_colored(pd.read_csv('dmc.csv', index_col='number')[150:160])"
   ]
  },
  {
   "cell_type": "code",
   "execution_count": 4,
   "id": "359dd7af-76e6-476c-8f8f-4c5322a7a795",
   "metadata": {},
   "outputs": [
    {
     "data": {
      "image/png": "[encoded data removed]",
      "text/plain": [
       "<Figure size 432x432 with 1 Axes>"
      ]
     },
     "metadata": {
      "needs_background": "light"
     },
     "output_type": "display_data"
    },
    {
     "data": {
      "image/png": "[encoded data removed]",
      "text/plain": [
       "<Figure size 216x216 with 1 Axes>"
      ]
     },
     "metadata": {
      "needs_background": "light"
     },
     "output_type": "display_data"
    }
   ],
   "source": [
    "swatch('blue', ['red', 'green', 'yellow'], base_label='xD', compared_labels=['11', '12', '13'])\n",
    "swatch('blue', ['red', 'green', 'yellow'], vertical=True, size=1, whitespace=0, base_label='xD', compared_labels=['11', '12', '13'])"
   ]
  },
  {
   "cell_type": "markdown",
   "id": "65c2ad0d-e1be-44ae-adac-699448312006",
   "metadata": {},
   "source": [
    "## Color differences"
   ]
  },
  {
   "cell_type": "code",
   "execution_count": 5,
   "id": "59b7fe96-04d4-43c4-a8ef-da49a8d708bc",
   "metadata": {},
   "outputs": [],
   "source": [
    "dmc = pd.read_csv('dmc.csv', index_col='number')\n",
    "ariadna = pd.read_csv('ariadna.csv', index_col='number').dropna()"
   ]
  },
  {
   "cell_type": "code",
   "execution_count": 6,
   "id": "3f4d0981-f7c0-4e86-8e75-c17481c49608",
   "metadata": {},
   "outputs": [],
   "source": [
    "base_numbers = ['321', '518', '553', '701', '3863']"
   ]
  },
  {
   "cell_type": "code",
   "execution_count": 7,
   "id": "4af91d54-b3ab-427d-88b3-a6f9b786d88c",
   "metadata": {
    "tags": []
   },
   "outputs": [
    {
     "data": {
      "text/html": [
       "<style  type=\"text/css\" >\n",
       "#T_95626_row0_col1{\n",
       "            background-color:  #c72b3b;\n",
       "        }#T_95626_row1_col1{\n",
       "            background-color:  #4f93a7;\n",
       "        }#T_95626_row2_col1{\n",
       "            background-color:  #a3638b;\n",
       "        }#T_95626_row3_col1{\n",
       "            background-color:  #3f8f29;\n",
       "        }#T_95626_row4_col1{\n",
       "            background-color:  #a4835c;\n",
       "        }</style><table id=\"T_95626_\" ><thead>    <tr>        <th class=\"blank level0\" ></th>        <th class=\"col_heading level0 col0\" >name</th>        <th class=\"col_heading level0 col1\" >rgb</th>    </tr>    <tr>        <th class=\"index_name level0\" >number</th>        <th class=\"blank\" ></th>        <th class=\"blank\" ></th>    </tr></thead><tbody>\n",
       "                <tr>\n",
       "                        <th id=\"T_95626_level0_row0\" class=\"row_heading level0 row0\" >321</th>\n",
       "                        <td id=\"T_95626_row0_col0\" class=\"data row0 col0\" >Red</td>\n",
       "                        <td id=\"T_95626_row0_col1\" class=\"data row0 col1\" >#c72b3b</td>\n",
       "            </tr>\n",
       "            <tr>\n",
       "                        <th id=\"T_95626_level0_row1\" class=\"row_heading level0 row1\" >518</th>\n",
       "                        <td id=\"T_95626_row1_col0\" class=\"data row1 col0\" >Light Wedgwood</td>\n",
       "                        <td id=\"T_95626_row1_col1\" class=\"data row1 col1\" >#4f93a7</td>\n",
       "            </tr>\n",
       "            <tr>\n",
       "                        <th id=\"T_95626_level0_row2\" class=\"row_heading level0 row2\" >553</th>\n",
       "                        <td id=\"T_95626_row2_col0\" class=\"data row2 col0\" >Violet</td>\n",
       "                        <td id=\"T_95626_row2_col1\" class=\"data row2 col1\" >#a3638b</td>\n",
       "            </tr>\n",
       "            <tr>\n",
       "                        <th id=\"T_95626_level0_row3\" class=\"row_heading level0 row3\" >701</th>\n",
       "                        <td id=\"T_95626_row3_col0\" class=\"data row3 col0\" >Light Green</td>\n",
       "                        <td id=\"T_95626_row3_col1\" class=\"data row3 col1\" >#3f8f29</td>\n",
       "            </tr>\n",
       "            <tr>\n",
       "                        <th id=\"T_95626_level0_row4\" class=\"row_heading level0 row4\" >3863</th>\n",
       "                        <td id=\"T_95626_row4_col0\" class=\"data row4 col0\" >Medium Mocha Beige</td>\n",
       "                        <td id=\"T_95626_row4_col1\" class=\"data row4 col1\" >#a4835c</td>\n",
       "            </tr>\n",
       "    </tbody></table>"
      ],
      "text/plain": [
       "<pandas.io.formats.style.Styler at 0x7f89c468b310>"
      ]
     },
     "metadata": {},
     "output_type": "display_data"
    }
   ],
   "source": [
    "display_colored(dmc.loc[base_numbers])"
   ]
  },
  {
   "cell_type": "code",
   "execution_count": 16,
   "id": "73767441-8b88-458a-bfcf-21fa723490ab",
   "metadata": {},
   "outputs": [],
   "source": [
    "def find_similar(base_number, metric, n=5):\n",
    "    base_color = dmc.loc[base_number]['rgb']\n",
    "    \n",
    "    ariadna['distance'] = [metric(base_color, color) for color in ariadna['rgb']]\n",
    "    similar_rows = ariadna.nsmallest(n, 'distance')\n",
    "    \n",
    "    display_colored(similar_rows)\n",
    "    swatch(base_color,\n",
    "           similar_rows['rgb'].to_list(),\n",
    "           base_label=base_number,\n",
    "           compared_labels=similar_rows.index.to_list())"
   ]
  },
  {
   "cell_type": "markdown",
   "id": "7f343592-8c89-4d8c-bd4f-df58ba026561",
   "metadata": {},
   "source": [
    "### RGB euclidean"
   ]
  },
  {
   "cell_type": "code",
   "execution_count": 17,
   "id": "7787a147-2394-4ede-9cbf-068cc2c6fe2d",
   "metadata": {},
   "outputs": [],
   "source": [
    "def pair_split(s):\n",
    "    s = s.lstrip('#')\n",
    "    return [s[i:i+2] for i in range(0, len(s), 2)]\n",
    "\n",
    "def to_dec(hex_str):\n",
    "    return int('0x' + hex_str, 16)"
   ]
  },
  {
   "cell_type": "code",
   "execution_count": 18,
   "id": "b2137470-d06e-4df5-9478-68bb2a7cb71d",
   "metadata": {},
   "outputs": [],
   "source": [
    "def rgb_euclidean(base, other):\n",
    "    score = 0\n",
    "    for x, y in zip(pair_split(base), pair_split(other)):\n",
    "        score += (to_dec(x) - to_dec(y))**2\n",
    "        \n",
    "    return score"
   ]
  },
  {
   "cell_type": "code",
   "execution_count": 19,
   "id": "d951a37e-dee5-4755-ab26-7a3bc5155034",
   "metadata": {},
   "outputs": [
    {
     "data": {
      "text/html": [
       "<style  type=\"text/css\" >\n",
       "#T_98d25_row0_col2{\n",
       "            background-color:  #c92435;\n",
       "        }#T_98d25_row1_col2{\n",
       "            background-color:  #c32931;\n",
       "        }#T_98d25_row2_col2{\n",
       "            background-color:  #c43232;\n",
       "        }#T_98d25_row3_col2{\n",
       "            background-color:  #ce2832;\n",
       "        }#T_98d25_row4_col2{\n",
       "            background-color:  #cd3230;\n",
       "        }</style><table id=\"T_98d25_\" ><thead>    <tr>        <th class=\"blank level0\" ></th>        <th class=\"col_heading level0 col0\" >pl</th>        <th class=\"col_heading level0 col1\" >name</th>        <th class=\"col_heading level0 col2\" >rgb</th>        <th class=\"col_heading level0 col3\" >distance</th>    </tr>    <tr>        <th class=\"index_name level0\" >number</th>        <th class=\"blank\" ></th>        <th class=\"blank\" ></th>        <th class=\"blank\" ></th>        <th class=\"blank\" ></th>    </tr></thead><tbody>\n",
       "                <tr>\n",
       "                        <th id=\"T_98d25_level0_row0\" class=\"row_heading level0 row0\" >1563</th>\n",
       "                        <td id=\"T_98d25_row0_col0\" class=\"data row0 col0\" >malinowy</td>\n",
       "                        <td id=\"T_98d25_row0_col1\" class=\"data row0 col1\" >raspberry</td>\n",
       "                        <td id=\"T_98d25_row0_col2\" class=\"data row0 col2\" >#c92435</td>\n",
       "                        <td id=\"T_98d25_row0_col3\" class=\"data row0 col3\" >89</td>\n",
       "            </tr>\n",
       "            <tr>\n",
       "                        <th id=\"T_98d25_level0_row1\" class=\"row_heading level0 row1\" >1530</th>\n",
       "                        <td id=\"T_98d25_row1_col0\" class=\"data row1 col0\" >morelowy najciemniejszy</td>\n",
       "                        <td id=\"T_98d25_row1_col1\" class=\"data row1 col1\" >apricot the darkest</td>\n",
       "                        <td id=\"T_98d25_row1_col2\" class=\"data row1 col2\" >#c32931</td>\n",
       "                        <td id=\"T_98d25_row1_col3\" class=\"data row1 col3\" >120</td>\n",
       "            </tr>\n",
       "            <tr>\n",
       "                        <th id=\"T_98d25_level0_row2\" class=\"row_heading level0 row2\" >1535</th>\n",
       "                        <td id=\"T_98d25_row2_col0\" class=\"data row2 col0\" >miedziany ciemny</td>\n",
       "                        <td id=\"T_98d25_row2_col1\" class=\"data row2 col1\" >copper dark</td>\n",
       "                        <td id=\"T_98d25_row2_col2\" class=\"data row2 col2\" >#c43232</td>\n",
       "                        <td id=\"T_98d25_row2_col3\" class=\"data row2 col3\" >139</td>\n",
       "            </tr>\n",
       "            <tr>\n",
       "                        <th id=\"T_98d25_level0_row3\" class=\"row_heading level0 row3\" >1738</th>\n",
       "                        <td id=\"T_98d25_row3_col0\" class=\"data row3 col0\" >ceglasty ciemny</td>\n",
       "                        <td id=\"T_98d25_row3_col1\" class=\"data row3 col1\" >brick red dark</td>\n",
       "                        <td id=\"T_98d25_row3_col2\" class=\"data row3 col2\" >#ce2832</td>\n",
       "                        <td id=\"T_98d25_row3_col3\" class=\"data row3 col3\" >139</td>\n",
       "            </tr>\n",
       "            <tr>\n",
       "                        <th id=\"T_98d25_level0_row4\" class=\"row_heading level0 row4\" >1520</th>\n",
       "                        <td id=\"T_98d25_row4_col0\" class=\"data row4 col0\" >mandarynkowy</td>\n",
       "                        <td id=\"T_98d25_row4_col1\" class=\"data row4 col1\" >tangerine</td>\n",
       "                        <td id=\"T_98d25_row4_col2\" class=\"data row4 col2\" >#cd3230</td>\n",
       "                        <td id=\"T_98d25_row4_col3\" class=\"data row4 col3\" >206</td>\n",
       "            </tr>\n",
       "    </tbody></table>"
      ],
      "text/plain": [
       "<pandas.io.formats.style.Styler at 0x7f896a5ea550>"
      ]
     },
     "metadata": {},
     "output_type": "display_data"
    },
    {
     "data": {
      "image/png": "[encoded data removed]",
      "text/plain": [
       "<Figure size 720x720 with 1 Axes>"
      ]
     },
     "metadata": {
      "needs_background": "light"
     },
     "output_type": "display_data"
    }
   ],
   "source": [
    "find_similar(base_numbers[0], rgb_euclidean, 5)"
   ]
  },
  {
   "cell_type": "code",
   "execution_count": null,
   "id": "710d6623-b0ab-4ba8-9046-e2c6e33ec9d9",
   "metadata": {},
   "outputs": [],
   "source": []
  }
 ],
 "metadata": {
  "kernelspec": {
   "display_name": "mouline",
   "language": "python",
   "name": "mouline"
  },
  "language_info": {
   "codemirror_mode": {
    "name": "ipython",
    "version": 3
   },
   "file_extension": ".py",
   "mimetype": "text/x-python",
   "name": "python",
   "nbconvert_exporter": "python",
   "pygments_lexer": "ipython3",
   "version": "3.8.10"
  }
 },
 "nbformat": 4,
 "nbformat_minor": 5
}
