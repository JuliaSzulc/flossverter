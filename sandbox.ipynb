{
 "cells": [
  {
   "cell_type": "code",
   "execution_count": 1,
   "id": "bff6e251-11de-4fb7-b973-afc8fe5a7c96",
   "metadata": {},
   "outputs": [],
   "source": [
    "import pandas as pd\n",
    "\n",
    "from src.helpers import swatch\n",
    "from src.converters import *"
   ]
  },
  {
   "cell_type": "markdown",
   "id": "7e79f985-b9f3-4fa7-953a-a7f102c5e605",
   "metadata": {
    "tags": [],
    "toc-hr-collapsed": true
   },
   "source": [
    "# Displaying colored DataFrame"
   ]
  },
  {
   "cell_type": "code",
   "execution_count": 2,
   "id": "7bb02006-0c29-401d-bc7e-7803196ed8ee",
   "metadata": {},
   "outputs": [],
   "source": [
    "def display_colored(df):\n",
    "    display(df.style.applymap(lambda c:\"background-color: {}\".format(c), subset=['rgb']))"
   ]
  },
  {
   "cell_type": "code",
   "execution_count": 3,
   "id": "bd8759e4-67a5-4efb-bf60-17c1f0565639",
   "metadata": {},
   "outputs": [
    {
     "data": {
      "text/html": [
       "<style  type=\"text/css\" >\n",
       "#T_93a11_row0_col1{\n",
       "            background-color:  #90c3cc;\n",
       "        }#T_93a11_row1_col1{\n",
       "            background-color:  #cd2f63;\n",
       "        }#T_93a11_row2_col1{\n",
       "            background-color:  #d1286a;\n",
       "        }#T_93a11_row3_col1{\n",
       "            background-color:  #e24874;\n",
       "        }#T_93a11_row4_col1{\n",
       "            background-color:  #ffa4be;\n",
       "        }#T_93a11_row5_col1{\n",
       "            background-color:  #ffb0be;\n",
       "        }#T_93a11_row6_col1{\n",
       "            background-color:  #ffc0cd;\n",
       "        }#T_93a11_row7_col1{\n",
       "            background-color:  #fa3203;\n",
       "        }#T_93a11_row8_col1{\n",
       "            background-color:  #fd5d35;\n",
       "        }#T_93a11_row9_col1{\n",
       "            background-color:  #796047;\n",
       "        }</style><table id=\"T_93a11_\" ><thead>    <tr>        <th class=\"blank level0\" ></th>        <th class=\"col_heading level0 col0\" >name</th>        <th class=\"col_heading level0 col1\" >rgb</th>    </tr>    <tr>        <th class=\"index_name level0\" >number</th>        <th class=\"blank\" ></th>        <th class=\"blank\" ></th>    </tr></thead><tbody>\n",
       "                <tr>\n",
       "                        <th id=\"T_93a11_level0_row0\" class=\"row_heading level0 row0\" >598</th>\n",
       "                        <td id=\"T_93a11_row0_col0\" class=\"data row0 col0\" >Light Turquoise</td>\n",
       "                        <td id=\"T_93a11_row0_col1\" class=\"data row0 col1\" >#90c3cc</td>\n",
       "            </tr>\n",
       "            <tr>\n",
       "                        <th id=\"T_93a11_level0_row1\" class=\"row_heading level0 row1\" >600</th>\n",
       "                        <td id=\"T_93a11_row1_col0\" class=\"data row1 col0\" >Very Dark Cranberry</td>\n",
       "                        <td id=\"T_93a11_row1_col1\" class=\"data row1 col1\" >#cd2f63</td>\n",
       "            </tr>\n",
       "            <tr>\n",
       "                        <th id=\"T_93a11_level0_row2\" class=\"row_heading level0 row2\" >601</th>\n",
       "                        <td id=\"T_93a11_row2_col0\" class=\"data row2 col0\" >Dark Cranberry</td>\n",
       "                        <td id=\"T_93a11_row2_col1\" class=\"data row2 col1\" >#d1286a</td>\n",
       "            </tr>\n",
       "            <tr>\n",
       "                        <th id=\"T_93a11_level0_row3\" class=\"row_heading level0 row3\" >602</th>\n",
       "                        <td id=\"T_93a11_row3_col0\" class=\"data row3 col0\" >Medium Cranberry</td>\n",
       "                        <td id=\"T_93a11_row3_col1\" class=\"data row3 col1\" >#e24874</td>\n",
       "            </tr>\n",
       "            <tr>\n",
       "                        <th id=\"T_93a11_level0_row4\" class=\"row_heading level0 row4\" >603</th>\n",
       "                        <td id=\"T_93a11_row4_col0\" class=\"data row4 col0\" >Cranberry</td>\n",
       "                        <td id=\"T_93a11_row4_col1\" class=\"data row4 col1\" >#ffa4be</td>\n",
       "            </tr>\n",
       "            <tr>\n",
       "                        <th id=\"T_93a11_level0_row5\" class=\"row_heading level0 row5\" >604</th>\n",
       "                        <td id=\"T_93a11_row5_col0\" class=\"data row5 col0\" >Light Cranberry</td>\n",
       "                        <td id=\"T_93a11_row5_col1\" class=\"data row5 col1\" >#ffb0be</td>\n",
       "            </tr>\n",
       "            <tr>\n",
       "                        <th id=\"T_93a11_level0_row6\" class=\"row_heading level0 row6\" >605</th>\n",
       "                        <td id=\"T_93a11_row6_col0\" class=\"data row6 col0\" >Very Light Cranberry</td>\n",
       "                        <td id=\"T_93a11_row6_col1\" class=\"data row6 col1\" >#ffc0cd</td>\n",
       "            </tr>\n",
       "            <tr>\n",
       "                        <th id=\"T_93a11_level0_row7\" class=\"row_heading level0 row7\" >606</th>\n",
       "                        <td id=\"T_93a11_row7_col0\" class=\"data row7 col0\" >Bright Orange-Red</td>\n",
       "                        <td id=\"T_93a11_row7_col1\" class=\"data row7 col1\" >#fa3203</td>\n",
       "            </tr>\n",
       "            <tr>\n",
       "                        <th id=\"T_93a11_level0_row8\" class=\"row_heading level0 row8\" >608</th>\n",
       "                        <td id=\"T_93a11_row8_col0\" class=\"data row8 col0\" >Bright Orange</td>\n",
       "                        <td id=\"T_93a11_row8_col1\" class=\"data row8 col1\" >#fd5d35</td>\n",
       "            </tr>\n",
       "            <tr>\n",
       "                        <th id=\"T_93a11_level0_row9\" class=\"row_heading level0 row9\" >610</th>\n",
       "                        <td id=\"T_93a11_row9_col0\" class=\"data row9 col0\" >Dark Drab Brown</td>\n",
       "                        <td id=\"T_93a11_row9_col1\" class=\"data row9 col1\" >#796047</td>\n",
       "            </tr>\n",
       "    </tbody></table>"
      ],
      "text/plain": [
       "<pandas.io.formats.style.Styler at 0x7f538c1f9970>"
      ]
     },
     "metadata": {},
     "output_type": "display_data"
    }
   ],
   "source": [
    "display_colored(pd.read_csv('data/dmc.csv', index_col='number')[150:160])"
   ]
  },
  {
   "cell_type": "markdown",
   "id": "33362528-3ed2-4c00-8034-84d236eee0c8",
   "metadata": {
    "tags": []
   },
   "source": [
    "# Swatching"
   ]
  },
  {
   "cell_type": "code",
   "execution_count": 4,
   "id": "359dd7af-76e6-476c-8f8f-4c5322a7a795",
   "metadata": {},
   "outputs": [
    {
     "data": {
      "image/png": "[encoded data removed]",
      "text/plain": [
       "<Figure size 432x288 with 1 Axes>"
      ]
     },
     "metadata": {
      "needs_background": "light"
     },
     "output_type": "display_data"
    }
   ],
   "source": [
    "swatch('blue', ['red', 'green', 'yellow'], base_label='xD', compared_labels=['11', '12', '13'])"
   ]
  },
  {
   "cell_type": "code",
   "execution_count": 5,
   "id": "f0f8ee62-f6f3-4b0d-a5bc-d0bb0c7e6b56",
   "metadata": {},
   "outputs": [
    {
     "data": {
      "image/png": "[encoded data removed]",
      "text/plain": [
       "<Figure size 432x288 with 1 Axes>"
      ]
     },
     "metadata": {
      "needs_background": "light"
     },
     "output_type": "display_data"
    }
   ],
   "source": [
    "swatch('blue', ['red', 'green', 'yellow'], vertical=True, whitespace=0, base_label='xD', compared_labels=['11', '12', '13'])"
   ]
  },
  {
   "cell_type": "markdown",
   "id": "39c533a9-c0f5-4551-be61-e8bcc6f7cd88",
   "metadata": {
    "tags": []
   },
   "source": [
    "# Conversions"
   ]
  },
  {
   "cell_type": "markdown",
   "id": "bd5eb40e-cb3c-48c9-a857-ae9e96f30c32",
   "metadata": {
    "tags": []
   },
   "source": [
    "## RGB -> XYZ"
   ]
  },
  {
   "cell_type": "markdown",
   "id": "d2cb4ce2-7d72-4459-9ee9-b5a2ff214249",
   "metadata": {},
   "source": [
    "$C \\in \\{R, G, B\\}\\\\\n",
    "a=0.055$\n",
    "\n",
    "$C_{\\mathrm {linear} }={\\begin{cases}{\\frac {C}{12.92}},&C\\leq 0.04045\\\\\\left({\\frac {C+a}{1+a}}\\right)^{2.4},&C>0.04045\\end{cases}}$\n",
    "\n",
    "${\\begin{bmatrix}X_{D65}\\\\Y_{D65}\\\\Z_{D65}\\end{bmatrix}}={\\begin{bmatrix}0.4124&0.3576&0.1805\\\\0.2126&0.7152&0.0722\\\\0.0193&0.1192&0.9505\\end{bmatrix}}{\\begin{bmatrix}R_{\\mathrm {linear} }\\\\G_{\\mathrm {linear} }\\\\B_{\\mathrm {linear} }\\end{bmatrix}}$"
   ]
  },
  {
   "cell_type": "code",
   "execution_count": 6,
   "id": "e7a07cd1-c3d4-40ea-80de-0e85fe996cbc",
   "metadata": {
    "tags": []
   },
   "outputs": [
    {
     "data": {
      "text/plain": [
       "array([0.25209372, 0.14189573, 0.05548304])"
      ]
     },
     "execution_count": 6,
     "metadata": {},
     "output_type": "execute_result"
    }
   ],
   "source": [
    "hex_to_xyz('c72b3b')"
   ]
  },
  {
   "cell_type": "markdown",
   "id": "cfec5a13-5945-45fc-bf56-7c3da2976185",
   "metadata": {
    "tags": []
   },
   "source": [
    "## XYZ -> Lab"
   ]
  },
  {
   "cell_type": "markdown",
   "id": "1d1fb6a5-d5c9-4dd0-ac16-48a5f4386418",
   "metadata": {},
   "source": [
    "For illuminant D65:\n",
    "\n",
    "${\\begin{aligned}X_{\\mathrm {n} }&=95.0489,\\\\Y_{\\mathrm {n} }&=100,\\\\Z_{\\mathrm {n} }&=108.8840\\end{aligned}}$\n",
    "\n",
    "${\\begin{aligned}f(t)&={\\begin{cases}{\\sqrt[{3}]{t}}&{\\text{if }}t>\\delta ^{3}\\\\{\\dfrac {t}{3\\delta ^{2}}}+{\\frac {4}{29}}&{\\text{otherwise}}\\end{cases}}\\\\\\delta &={\\tfrac {6}{29}}\\end{aligned}}$\n",
    "\n",
    "${\\begin{aligned}L^{\\star }&=116\\ f\\!\\left({\\frac {Y}{Y_{\\mathrm {n} }}}\\right)-16\\\\a^{\\star }&=500\\left(f\\!\\left({\\frac {X}{X_{\\mathrm {n} }}}\\right)-f\\!\\left({\\frac {Y}{Y_{\\mathrm {n} }}}\\right)\\right)\\\\b^{\\star }&=200\\left(f\\!\\left({\\frac {Y}{Y_{\\mathrm {n} }}}\\right)-f\\!\\left({\\frac {Z}{Z_{\\mathrm {n} }}}\\right)\\right)\\end{aligned}}$"
   ]
  },
  {
   "cell_type": "code",
   "execution_count": 7,
   "id": "3a062654-2169-477a-9d99-95147f340389",
   "metadata": {},
   "outputs": [
    {
     "data": {
      "text/plain": [
       "[44.50358404152743, 60.459730370021894, 30.168986963415488]"
      ]
     },
     "execution_count": 7,
     "metadata": {},
     "output_type": "execute_result"
    }
   ],
   "source": [
    "xyz_to_lab(hex_to_xyz('c72b3b'))"
   ]
  },
  {
   "cell_type": "markdown",
   "id": "2c2623a9-093f-46af-a8cc-fe3317ff073f",
   "metadata": {},
   "source": [
    "## Lab -> LCH"
   ]
  },
  {
   "cell_type": "markdown",
   "id": "154db6b5-4df0-4057-9e8a-596992c20ab6",
   "metadata": {},
   "source": [
    "$L = L$\n",
    "\n",
    "$C = \\sqrt(a^2 + b^2)$\n",
    "\n",
    "${\\begin{aligned}H&={\\begin{cases}{\\arctan(b/a)}&{\\text{if }}\\arctan(b/a) \\geq 0\\\\{\\arctan(b/a) + 360^{\\circ}}&{\\text{otherwise}}\\end{cases}}\\end{aligned}}$"
   ]
  },
  {
   "cell_type": "code",
   "execution_count": 9,
   "id": "99e5757c-a498-4703-8073-8559d0d55e46",
   "metadata": {
    "tags": []
   },
   "outputs": [
    {
     "data": {
      "text/plain": [
       "[44.50358404152743, 67.56882987601962, 26.518878693878445]"
      ]
     },
     "execution_count": 9,
     "metadata": {},
     "output_type": "execute_result"
    }
   ],
   "source": [
    "lab_to_lch(xyz_to_lab(hex_to_xyz('c72b3b')))"
   ]
  },
  {
   "cell_type": "code",
   "execution_count": null,
   "id": "42274d97-f757-4c40-81b3-394f6cb3a7b9",
   "metadata": {},
   "outputs": [],
   "source": []
  }
 ],
 "metadata": {
  "kernelspec": {
   "display_name": "mouline",
   "language": "python",
   "name": "mouline"
  },
  "language_info": {
   "codemirror_mode": {
    "name": "ipython",
    "version": 3
   },
   "file_extension": ".py",
   "mimetype": "text/x-python",
   "name": "python",
   "nbconvert_exporter": "python",
   "pygments_lexer": "ipython3",
   "version": "3.8.10"
  }
 },
 "nbformat": 4,
 "nbformat_minor": 5
}
