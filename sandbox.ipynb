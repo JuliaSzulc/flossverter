{
 "cells": [
  {
   "cell_type": "code",
   "execution_count": 1,
   "id": "bff6e251-11de-4fb7-b973-afc8fe5a7c96",
   "metadata": {},
   "outputs": [],
   "source": [
    "import pandas as pd\n",
    "\n",
    "from helpers import swatch\n",
    "from metrics import rgb_euclidean, rgb_gamma_correction"
   ]
  },
  {
   "cell_type": "markdown",
   "id": "7e79f985-b9f3-4fa7-953a-a7f102c5e605",
   "metadata": {
    "heading_collapsed": "true",
    "tags": [],
    "toc-hr-collapsed": true
   },
   "source": [
    "# Displaying colored DataFrame"
   ]
  },
  {
   "cell_type": "code",
   "execution_count": 2,
   "id": "7bb02006-0c29-401d-bc7e-7803196ed8ee",
   "metadata": {},
   "outputs": [],
   "source": [
    "def display_colored(df):\n",
    "    display(df.style.applymap(lambda c:\"background-color: {}\".format(c), subset=['rgb']))"
   ]
  },
  {
   "cell_type": "code",
   "execution_count": 3,
   "id": "bd8759e4-67a5-4efb-bf60-17c1f0565639",
   "metadata": {},
   "outputs": [
    {
     "data": {
      "text/html": [
       "<style  type=\"text/css\" >\n",
       "#T_20c39_row0_col1{\n",
       "            background-color:  #90c3cc;\n",
       "        }#T_20c39_row1_col1{\n",
       "            background-color:  #cd2f63;\n",
       "        }#T_20c39_row2_col1{\n",
       "            background-color:  #d1286a;\n",
       "        }#T_20c39_row3_col1{\n",
       "            background-color:  #e24874;\n",
       "        }#T_20c39_row4_col1{\n",
       "            background-color:  #ffa4be;\n",
       "        }#T_20c39_row5_col1{\n",
       "            background-color:  #ffb0be;\n",
       "        }#T_20c39_row6_col1{\n",
       "            background-color:  #ffc0cd;\n",
       "        }#T_20c39_row7_col1{\n",
       "            background-color:  #fa3203;\n",
       "        }#T_20c39_row8_col1{\n",
       "            background-color:  #fd5d35;\n",
       "        }#T_20c39_row9_col1{\n",
       "            background-color:  #796047;\n",
       "        }</style><table id=\"T_20c39_\" ><thead>    <tr>        <th class=\"blank level0\" ></th>        <th class=\"col_heading level0 col0\" >name</th>        <th class=\"col_heading level0 col1\" >rgb</th>    </tr>    <tr>        <th class=\"index_name level0\" >number</th>        <th class=\"blank\" ></th>        <th class=\"blank\" ></th>    </tr></thead><tbody>\n",
       "                <tr>\n",
       "                        <th id=\"T_20c39_level0_row0\" class=\"row_heading level0 row0\" >598</th>\n",
       "                        <td id=\"T_20c39_row0_col0\" class=\"data row0 col0\" >Light Turquoise</td>\n",
       "                        <td id=\"T_20c39_row0_col1\" class=\"data row0 col1\" >#90c3cc</td>\n",
       "            </tr>\n",
       "            <tr>\n",
       "                        <th id=\"T_20c39_level0_row1\" class=\"row_heading level0 row1\" >600</th>\n",
       "                        <td id=\"T_20c39_row1_col0\" class=\"data row1 col0\" >Very Dark Cranberry</td>\n",
       "                        <td id=\"T_20c39_row1_col1\" class=\"data row1 col1\" >#cd2f63</td>\n",
       "            </tr>\n",
       "            <tr>\n",
       "                        <th id=\"T_20c39_level0_row2\" class=\"row_heading level0 row2\" >601</th>\n",
       "                        <td id=\"T_20c39_row2_col0\" class=\"data row2 col0\" >Dark Cranberry</td>\n",
       "                        <td id=\"T_20c39_row2_col1\" class=\"data row2 col1\" >#d1286a</td>\n",
       "            </tr>\n",
       "            <tr>\n",
       "                        <th id=\"T_20c39_level0_row3\" class=\"row_heading level0 row3\" >602</th>\n",
       "                        <td id=\"T_20c39_row3_col0\" class=\"data row3 col0\" >Medium Cranberry</td>\n",
       "                        <td id=\"T_20c39_row3_col1\" class=\"data row3 col1\" >#e24874</td>\n",
       "            </tr>\n",
       "            <tr>\n",
       "                        <th id=\"T_20c39_level0_row4\" class=\"row_heading level0 row4\" >603</th>\n",
       "                        <td id=\"T_20c39_row4_col0\" class=\"data row4 col0\" >Cranberry</td>\n",
       "                        <td id=\"T_20c39_row4_col1\" class=\"data row4 col1\" >#ffa4be</td>\n",
       "            </tr>\n",
       "            <tr>\n",
       "                        <th id=\"T_20c39_level0_row5\" class=\"row_heading level0 row5\" >604</th>\n",
       "                        <td id=\"T_20c39_row5_col0\" class=\"data row5 col0\" >Light Cranberry</td>\n",
       "                        <td id=\"T_20c39_row5_col1\" class=\"data row5 col1\" >#ffb0be</td>\n",
       "            </tr>\n",
       "            <tr>\n",
       "                        <th id=\"T_20c39_level0_row6\" class=\"row_heading level0 row6\" >605</th>\n",
       "                        <td id=\"T_20c39_row6_col0\" class=\"data row6 col0\" >Very Light Cranberry</td>\n",
       "                        <td id=\"T_20c39_row6_col1\" class=\"data row6 col1\" >#ffc0cd</td>\n",
       "            </tr>\n",
       "            <tr>\n",
       "                        <th id=\"T_20c39_level0_row7\" class=\"row_heading level0 row7\" >606</th>\n",
       "                        <td id=\"T_20c39_row7_col0\" class=\"data row7 col0\" >Bright Orange-Red</td>\n",
       "                        <td id=\"T_20c39_row7_col1\" class=\"data row7 col1\" >#fa3203</td>\n",
       "            </tr>\n",
       "            <tr>\n",
       "                        <th id=\"T_20c39_level0_row8\" class=\"row_heading level0 row8\" >608</th>\n",
       "                        <td id=\"T_20c39_row8_col0\" class=\"data row8 col0\" >Bright Orange</td>\n",
       "                        <td id=\"T_20c39_row8_col1\" class=\"data row8 col1\" >#fd5d35</td>\n",
       "            </tr>\n",
       "            <tr>\n",
       "                        <th id=\"T_20c39_level0_row9\" class=\"row_heading level0 row9\" >610</th>\n",
       "                        <td id=\"T_20c39_row9_col0\" class=\"data row9 col0\" >Dark Drab Brown</td>\n",
       "                        <td id=\"T_20c39_row9_col1\" class=\"data row9 col1\" >#796047</td>\n",
       "            </tr>\n",
       "    </tbody></table>"
      ],
      "text/plain": [
       "<pandas.io.formats.style.Styler at 0x7f73620f2d30>"
      ]
     },
     "metadata": {},
     "output_type": "display_data"
    }
   ],
   "source": [
    "display_colored(pd.read_csv('dmc.csv', index_col='number')[150:160])"
   ]
  },
  {
   "cell_type": "markdown",
   "id": "33362528-3ed2-4c00-8034-84d236eee0c8",
   "metadata": {
    "heading_collapsed": "true",
    "tags": []
   },
   "source": [
    "# Swatching"
   ]
  },
  {
   "cell_type": "code",
   "execution_count": 4,
   "id": "359dd7af-76e6-476c-8f8f-4c5322a7a795",
   "metadata": {},
   "outputs": [
    {
     "data": {
      "image/png": "[encoded data removed]",
      "text/plain": [
       "<Figure size 432x432 with 1 Axes>"
      ]
     },
     "metadata": {
      "needs_background": "light"
     },
     "output_type": "display_data"
    },
    {
     "data": {
      "image/png": "[encoded data removed]",
      "text/plain": [
       "<Figure size 216x216 with 1 Axes>"
      ]
     },
     "metadata": {
      "needs_background": "light"
     },
     "output_type": "display_data"
    }
   ],
   "source": [
    "swatch('blue', ['red', 'green', 'yellow'], base_label='xD', compared_labels=['11', '12', '13'])\n",
    "swatch('blue', ['red', 'green', 'yellow'], vertical=True, size=1, whitespace=0, base_label='xD', compared_labels=['11', '12', '13'])"
   ]
  },
  {
   "cell_type": "markdown",
   "id": "65c2ad0d-e1be-44ae-adac-699448312006",
   "metadata": {},
   "source": [
    "# Color differences"
   ]
  },
  {
   "cell_type": "code",
   "execution_count": 5,
   "id": "59b7fe96-04d4-43c4-a8ef-da49a8d708bc",
   "metadata": {},
   "outputs": [],
   "source": [
    "dmc = pd.read_csv('dmc.csv', index_col='number')\n",
    "ariadna = pd.read_csv('ariadna.csv', index_col='number')"
   ]
  },
  {
   "cell_type": "code",
   "execution_count": 6,
   "id": "3f4d0981-f7c0-4e86-8e75-c17481c49608",
   "metadata": {},
   "outputs": [],
   "source": [
    "base_numbers = ['321', '518', '553', '701', '3863']"
   ]
  },
  {
   "cell_type": "code",
   "execution_count": 7,
   "id": "4af91d54-b3ab-427d-88b3-a6f9b786d88c",
   "metadata": {
    "tags": []
   },
   "outputs": [
    {
     "data": {
      "text/html": [
       "<style  type=\"text/css\" >\n",
       "#T_75a03_row0_col1{\n",
       "            background-color:  #c72b3b;\n",
       "        }#T_75a03_row1_col1{\n",
       "            background-color:  #4f93a7;\n",
       "        }#T_75a03_row2_col1{\n",
       "            background-color:  #a3638b;\n",
       "        }#T_75a03_row3_col1{\n",
       "            background-color:  #3f8f29;\n",
       "        }#T_75a03_row4_col1{\n",
       "            background-color:  #a4835c;\n",
       "        }</style><table id=\"T_75a03_\" ><thead>    <tr>        <th class=\"blank level0\" ></th>        <th class=\"col_heading level0 col0\" >name</th>        <th class=\"col_heading level0 col1\" >rgb</th>    </tr>    <tr>        <th class=\"index_name level0\" >number</th>        <th class=\"blank\" ></th>        <th class=\"blank\" ></th>    </tr></thead><tbody>\n",
       "                <tr>\n",
       "                        <th id=\"T_75a03_level0_row0\" class=\"row_heading level0 row0\" >321</th>\n",
       "                        <td id=\"T_75a03_row0_col0\" class=\"data row0 col0\" >Red</td>\n",
       "                        <td id=\"T_75a03_row0_col1\" class=\"data row0 col1\" >#c72b3b</td>\n",
       "            </tr>\n",
       "            <tr>\n",
       "                        <th id=\"T_75a03_level0_row1\" class=\"row_heading level0 row1\" >518</th>\n",
       "                        <td id=\"T_75a03_row1_col0\" class=\"data row1 col0\" >Light Wedgwood</td>\n",
       "                        <td id=\"T_75a03_row1_col1\" class=\"data row1 col1\" >#4f93a7</td>\n",
       "            </tr>\n",
       "            <tr>\n",
       "                        <th id=\"T_75a03_level0_row2\" class=\"row_heading level0 row2\" >553</th>\n",
       "                        <td id=\"T_75a03_row2_col0\" class=\"data row2 col0\" >Violet</td>\n",
       "                        <td id=\"T_75a03_row2_col1\" class=\"data row2 col1\" >#a3638b</td>\n",
       "            </tr>\n",
       "            <tr>\n",
       "                        <th id=\"T_75a03_level0_row3\" class=\"row_heading level0 row3\" >701</th>\n",
       "                        <td id=\"T_75a03_row3_col0\" class=\"data row3 col0\" >Light Green</td>\n",
       "                        <td id=\"T_75a03_row3_col1\" class=\"data row3 col1\" >#3f8f29</td>\n",
       "            </tr>\n",
       "            <tr>\n",
       "                        <th id=\"T_75a03_level0_row4\" class=\"row_heading level0 row4\" >3863</th>\n",
       "                        <td id=\"T_75a03_row4_col0\" class=\"data row4 col0\" >Medium Mocha Beige</td>\n",
       "                        <td id=\"T_75a03_row4_col1\" class=\"data row4 col1\" >#a4835c</td>\n",
       "            </tr>\n",
       "    </tbody></table>"
      ],
      "text/plain": [
       "<pandas.io.formats.style.Styler at 0x7f73621bb790>"
      ]
     },
     "metadata": {},
     "output_type": "display_data"
    }
   ],
   "source": [
    "display_colored(dmc.loc[base_numbers])"
   ]
  },
  {
   "cell_type": "code",
   "execution_count": 8,
   "id": "73767441-8b88-458a-bfcf-21fa723490ab",
   "metadata": {},
   "outputs": [],
   "source": [
    "def find_similar(base_number, metric, n=5):\n",
    "    base_color = dmc.loc[base_number]['rgb']\n",
    "    \n",
    "    ariadna['distance'] = [metric(base_color, color) for color in ariadna['rgb']]\n",
    "    similar_rows = ariadna.nsmallest(n, 'distance')\n",
    "    \n",
    "    display_colored(similar_rows)\n",
    "    swatch(base_color,\n",
    "           similar_rows['rgb'].to_list(),\n",
    "           base_label=base_number,\n",
    "           compared_labels=similar_rows.index.to_list())"
   ]
  },
  {
   "cell_type": "markdown",
   "id": "72c63a9b-90bd-4797-8fe6-56828ec6360e",
   "metadata": {
    "heading_collapsed": "true",
    "tags": []
   },
   "source": [
    "## RGB space"
   ]
  },
  {
   "cell_type": "markdown",
   "id": "7f343592-8c89-4d8c-bd4f-df58ba026561",
   "metadata": {
    "heading_collapsed": "true",
    "tags": []
   },
   "source": [
    "### RGB euclidean"
   ]
  },
  {
   "cell_type": "code",
   "execution_count": 9,
   "id": "d951a37e-dee5-4755-ab26-7a3bc5155034",
   "metadata": {},
   "outputs": [
    {
     "data": {
      "text/html": [
       "<style  type=\"text/css\" >\n",
       "#T_b2825_row0_col2{\n",
       "            background-color:  #cc2f2f;\n",
       "        }#T_b2825_row1_col2{\n",
       "            background-color:  #b43c3c;\n",
       "        }#T_b2825_row2_col2{\n",
       "            background-color:  #c92b55;\n",
       "        }#T_b2825_row3_col2{\n",
       "            background-color:  #e22b3c;\n",
       "        }#T_b2825_row4_col2{\n",
       "            background-color:  #b0403a;\n",
       "        }</style><table id=\"T_b2825_\" ><thead>    <tr>        <th class=\"blank level0\" ></th>        <th class=\"col_heading level0 col0\" >pl</th>        <th class=\"col_heading level0 col1\" >name</th>        <th class=\"col_heading level0 col2\" >rgb</th>        <th class=\"col_heading level0 col3\" >distance</th>    </tr>    <tr>        <th class=\"index_name level0\" >number</th>        <th class=\"blank\" ></th>        <th class=\"blank\" ></th>        <th class=\"blank\" ></th>        <th class=\"blank\" ></th>    </tr></thead><tbody>\n",
       "                <tr>\n",
       "                        <th id=\"T_b2825_level0_row0\" class=\"row_heading level0 row0\" >1553</th>\n",
       "                        <td id=\"T_b2825_row0_col0\" class=\"data row0 col0\" >jasna czerwień</td>\n",
       "                        <td id=\"T_b2825_row0_col1\" class=\"data row0 col1\" >light red</td>\n",
       "                        <td id=\"T_b2825_row0_col2\" class=\"data row0 col2\" >#cc2f2f</td>\n",
       "                        <td id=\"T_b2825_row0_col3\" class=\"data row0 col3\" >185</td>\n",
       "            </tr>\n",
       "            <tr>\n",
       "                        <th id=\"T_b2825_level0_row1\" class=\"row_heading level0 row1\" >1757</th>\n",
       "                        <td id=\"T_b2825_row1_col0\" class=\"data row1 col0\" >czerwonokasztanowy</td>\n",
       "                        <td id=\"T_b2825_row1_col1\" class=\"data row1 col1\" >red chestnut</td>\n",
       "                        <td id=\"T_b2825_row1_col2\" class=\"data row1 col2\" >#b43c3c</td>\n",
       "                        <td id=\"T_b2825_row1_col3\" class=\"data row1 col3\" >651</td>\n",
       "            </tr>\n",
       "            <tr>\n",
       "                        <th id=\"T_b2825_level0_row2\" class=\"row_heading level0 row2\" >1555</th>\n",
       "                        <td id=\"T_b2825_row2_col0\" class=\"data row2 col0\" >czerwień ciemna</td>\n",
       "                        <td id=\"T_b2825_row2_col1\" class=\"data row2 col1\" >christmas red dark</td>\n",
       "                        <td id=\"T_b2825_row2_col2\" class=\"data row2 col2\" >#c92b55</td>\n",
       "                        <td id=\"T_b2825_row2_col3\" class=\"data row2 col3\" >680</td>\n",
       "            </tr>\n",
       "            <tr>\n",
       "                        <th id=\"T_b2825_level0_row3\" class=\"row_heading level0 row3\" >1547</th>\n",
       "                        <td id=\"T_b2825_row3_col0\" class=\"data row3 col0\" >czerwień świąteczna jasna</td>\n",
       "                        <td id=\"T_b2825_row3_col1\" class=\"data row3 col1\" >christmas red light</td>\n",
       "                        <td id=\"T_b2825_row3_col2\" class=\"data row3 col2\" >#e22b3c</td>\n",
       "                        <td id=\"T_b2825_row3_col3\" class=\"data row3 col3\" >730</td>\n",
       "            </tr>\n",
       "            <tr>\n",
       "                        <th id=\"T_b2825_level0_row4\" class=\"row_heading level0 row4\" >1750</th>\n",
       "                        <td id=\"T_b2825_row4_col0\" class=\"data row4 col0\" >terakota ciemna</td>\n",
       "                        <td id=\"T_b2825_row4_col1\" class=\"data row4 col1\" >terracotta dark</td>\n",
       "                        <td id=\"T_b2825_row4_col2\" class=\"data row4 col2\" >#b0403a</td>\n",
       "                        <td id=\"T_b2825_row4_col3\" class=\"data row4 col3\" >971</td>\n",
       "            </tr>\n",
       "    </tbody></table>"
      ],
      "text/plain": [
       "<pandas.io.formats.style.Styler at 0x7f73b8268460>"
      ]
     },
     "metadata": {},
     "output_type": "display_data"
    },
    {
     "data": {
      "text/html": [
       "<style  type=\"text/css\" >\n",
       "#T_b7f22_row0_col2{\n",
       "            background-color:  #408bb6;\n",
       "        }#T_b7f22_row1_col2{\n",
       "            background-color:  #50a0c8;\n",
       "        }#T_b7f22_row2_col2{\n",
       "            background-color:  #329b91;\n",
       "        }#T_b7f22_row3_col2{\n",
       "            background-color:  #358c8c;\n",
       "        }#T_b7f22_row4_col2{\n",
       "            background-color:  #53788c;\n",
       "        }</style><table id=\"T_b7f22_\" ><thead>    <tr>        <th class=\"blank level0\" ></th>        <th class=\"col_heading level0 col0\" >pl</th>        <th class=\"col_heading level0 col1\" >name</th>        <th class=\"col_heading level0 col2\" >rgb</th>        <th class=\"col_heading level0 col3\" >distance</th>    </tr>    <tr>        <th class=\"index_name level0\" >number</th>        <th class=\"blank\" ></th>        <th class=\"blank\" ></th>        <th class=\"blank\" ></th>        <th class=\"blank\" ></th>    </tr></thead><tbody>\n",
       "                <tr>\n",
       "                        <th id=\"T_b7f22_level0_row0\" class=\"row_heading level0 row0\" >1617</th>\n",
       "                        <td id=\"T_b7f22_row0_col0\" class=\"data row0 col0\" >niebieski bardzo ciemny</td>\n",
       "                        <td id=\"T_b7f22_row0_col1\" class=\"data row0 col1\" >blue very dark</td>\n",
       "                        <td id=\"T_b7f22_row0_col2\" class=\"data row0 col2\" >#408bb6</td>\n",
       "                        <td id=\"T_b7f22_row0_col3\" class=\"data row0 col3\" >514</td>\n",
       "            </tr>\n",
       "            <tr>\n",
       "                        <th id=\"T_b7f22_level0_row1\" class=\"row_heading level0 row1\" >1616</th>\n",
       "                        <td id=\"T_b7f22_row1_col0\" class=\"data row1 col0\" >niebieski ciemny</td>\n",
       "                        <td id=\"T_b7f22_row1_col1\" class=\"data row1 col1\" >blue dark</td>\n",
       "                        <td id=\"T_b7f22_row1_col2\" class=\"data row1 col2\" >#50a0c8</td>\n",
       "                        <td id=\"T_b7f22_row1_col3\" class=\"data row1 col3\" >1259</td>\n",
       "            </tr>\n",
       "            <tr>\n",
       "                        <th id=\"T_b7f22_level0_row2\" class=\"row_heading level0 row2\" >1642</th>\n",
       "                        <td id=\"T_b7f22_row2_col0\" class=\"data row2 col0\" >morski</td>\n",
       "                        <td id=\"T_b7f22_row2_col1\" class=\"data row2 col1\" >sea green</td>\n",
       "                        <td id=\"T_b7f22_row2_col2\" class=\"data row2 col2\" >#329b91</td>\n",
       "                        <td id=\"T_b7f22_row2_col3\" class=\"data row2 col3\" >1389</td>\n",
       "            </tr>\n",
       "            <tr>\n",
       "                        <th id=\"T_b7f22_level0_row3\" class=\"row_heading level0 row3\" >1643</th>\n",
       "                        <td id=\"T_b7f22_row3_col0\" class=\"data row3 col0\" >ciemny morski</td>\n",
       "                        <td id=\"T_b7f22_row3_col1\" class=\"data row3 col1\" >sea blue dark</td>\n",
       "                        <td id=\"T_b7f22_row3_col2\" class=\"data row3 col2\" >#358c8c</td>\n",
       "                        <td id=\"T_b7f22_row3_col3\" class=\"data row3 col3\" >1454</td>\n",
       "            </tr>\n",
       "            <tr>\n",
       "                        <th id=\"T_b7f22_level0_row4\" class=\"row_heading level0 row4\" >1637</th>\n",
       "                        <td id=\"T_b7f22_row4_col0\" class=\"data row4 col0\" >niebieski antyczny</td>\n",
       "                        <td id=\"T_b7f22_row4_col1\" class=\"data row4 col1\" >antique blue</td>\n",
       "                        <td id=\"T_b7f22_row4_col2\" class=\"data row4 col2\" >#53788c</td>\n",
       "                        <td id=\"T_b7f22_row4_col3\" class=\"data row4 col3\" >1474</td>\n",
       "            </tr>\n",
       "    </tbody></table>"
      ],
      "text/plain": [
       "<pandas.io.formats.style.Styler at 0x7f735fc59e20>"
      ]
     },
     "metadata": {},
     "output_type": "display_data"
    },
    {
     "data": {
      "text/html": [
       "<style  type=\"text/css\" >\n",
       "#T_4ed0b_row0_col2{\n",
       "            background-color:  #915d8c;\n",
       "        }#T_4ed0b_row1_col2{\n",
       "            background-color:  #996d7b;\n",
       "        }#T_4ed0b_row2_col2{\n",
       "            background-color:  #b37586;\n",
       "        }#T_4ed0b_row3_col2{\n",
       "            background-color:  #b85893;\n",
       "        }#T_4ed0b_row4_col2{\n",
       "            background-color:  #af71ab;\n",
       "        }</style><table id=\"T_4ed0b_\" ><thead>    <tr>        <th class=\"blank level0\" ></th>        <th class=\"col_heading level0 col0\" >pl</th>        <th class=\"col_heading level0 col1\" >name</th>        <th class=\"col_heading level0 col2\" >rgb</th>        <th class=\"col_heading level0 col3\" >distance</th>    </tr>    <tr>        <th class=\"index_name level0\" >number</th>        <th class=\"blank\" ></th>        <th class=\"blank\" ></th>        <th class=\"blank\" ></th>        <th class=\"blank\" ></th>    </tr></thead><tbody>\n",
       "                <tr>\n",
       "                        <th id=\"T_4ed0b_level0_row0\" class=\"row_heading level0 row0\" >1585</th>\n",
       "                        <td id=\"T_4ed0b_row0_col0\" class=\"data row0 col0\" >śliwkowy</td>\n",
       "                        <td id=\"T_4ed0b_row0_col1\" class=\"data row0 col1\" >plum</td>\n",
       "                        <td id=\"T_4ed0b_row0_col2\" class=\"data row0 col2\" >#915d8c</td>\n",
       "                        <td id=\"T_4ed0b_row0_col3\" class=\"data row0 col3\" >361</td>\n",
       "            </tr>\n",
       "            <tr>\n",
       "                        <th id=\"T_4ed0b_level0_row1\" class=\"row_heading level0 row1\" >1762A</th>\n",
       "                        <td id=\"T_4ed0b_row1_col0\" class=\"data row1 col0\" >kakaowy średni</td>\n",
       "                        <td id=\"T_4ed0b_row1_col1\" class=\"data row1 col1\" >cocoa medium</td>\n",
       "                        <td id=\"T_4ed0b_row1_col2\" class=\"data row1 col2\" >#996d7b</td>\n",
       "                        <td id=\"T_4ed0b_row1_col3\" class=\"data row1 col3\" >456</td>\n",
       "            </tr>\n",
       "            <tr>\n",
       "                        <th id=\"T_4ed0b_level0_row2\" class=\"row_heading level0 row2\" >1577</th>\n",
       "                        <td id=\"T_4ed0b_row2_col0\" class=\"data row2 col0\" >perłoworóżowy średni</td>\n",
       "                        <td id=\"T_4ed0b_row2_col1\" class=\"data row2 col1\" >shell pink medium</td>\n",
       "                        <td id=\"T_4ed0b_row2_col2\" class=\"data row2 col2\" >#b37586</td>\n",
       "                        <td id=\"T_4ed0b_row2_col3\" class=\"data row2 col3\" >605</td>\n",
       "            </tr>\n",
       "            <tr>\n",
       "                        <th id=\"T_4ed0b_level0_row3\" class=\"row_heading level0 row3\" >1595</th>\n",
       "                        <td id=\"T_4ed0b_row3_col0\" class=\"data row3 col0\" >ciemny wrzos</td>\n",
       "                        <td id=\"T_4ed0b_row3_col1\" class=\"data row3 col1\" >heather dark</td>\n",
       "                        <td id=\"T_4ed0b_row3_col2\" class=\"data row3 col2\" >#b85893</td>\n",
       "                        <td id=\"T_4ed0b_row3_col3\" class=\"data row3 col3\" >626</td>\n",
       "            </tr>\n",
       "            <tr>\n",
       "                        <th id=\"T_4ed0b_level0_row4\" class=\"row_heading level0 row4\" >1592</th>\n",
       "                        <td id=\"T_4ed0b_row4_col0\" class=\"data row4 col0\" >fioletowy jasny</td>\n",
       "                        <td id=\"T_4ed0b_row4_col1\" class=\"data row4 col1\" >violet light</td>\n",
       "                        <td id=\"T_4ed0b_row4_col2\" class=\"data row4 col2\" >#af71ab</td>\n",
       "                        <td id=\"T_4ed0b_row4_col3\" class=\"data row4 col3\" >1364</td>\n",
       "            </tr>\n",
       "    </tbody></table>"
      ],
      "text/plain": [
       "<pandas.io.formats.style.Styler at 0x7f735f94dfd0>"
      ]
     },
     "metadata": {},
     "output_type": "display_data"
    },
    {
     "data": {
      "text/html": [
       "<style  type=\"text/css\" >\n",
       "#T_a3357_row0_col2{\n",
       "            background-color:  #318229;\n",
       "        }#T_a3357_row1_col2{\n",
       "            background-color:  #41b430;\n",
       "        }#T_a3357_row2_col2{\n",
       "            background-color:  #648228;\n",
       "        }#T_a3357_row3_col2{\n",
       "            background-color:  #466432;\n",
       "        }#T_a3357_row4_col2{\n",
       "            background-color:  #3c643c;\n",
       "        }</style><table id=\"T_a3357_\" ><thead>    <tr>        <th class=\"blank level0\" ></th>        <th class=\"col_heading level0 col0\" >pl</th>        <th class=\"col_heading level0 col1\" >name</th>        <th class=\"col_heading level0 col2\" >rgb</th>        <th class=\"col_heading level0 col3\" >distance</th>    </tr>    <tr>        <th class=\"index_name level0\" >number</th>        <th class=\"blank\" ></th>        <th class=\"blank\" ></th>        <th class=\"blank\" ></th>        <th class=\"blank\" ></th>    </tr></thead><tbody>\n",
       "                <tr>\n",
       "                        <th id=\"T_a3357_level0_row0\" class=\"row_heading level0 row0\" >1701</th>\n",
       "                        <td id=\"T_a3357_row0_col0\" class=\"data row0 col0\" >zieleń papuzia najciemniejsza</td>\n",
       "                        <td id=\"T_a3357_row0_col1\" class=\"data row0 col1\" >parrot green ultra dark</td>\n",
       "                        <td id=\"T_a3357_row0_col2\" class=\"data row0 col2\" >#318229</td>\n",
       "                        <td id=\"T_a3357_row0_col3\" class=\"data row0 col3\" >365</td>\n",
       "            </tr>\n",
       "            <tr>\n",
       "                        <th id=\"T_a3357_level0_row1\" class=\"row_heading level0 row1\" >1700</th>\n",
       "                        <td id=\"T_a3357_row1_col0\" class=\"data row1 col0\" >zieleń papuzia bardzo ciemna</td>\n",
       "                        <td id=\"T_a3357_row1_col1\" class=\"data row1 col1\" >parrot green very dark</td>\n",
       "                        <td id=\"T_a3357_row1_col2\" class=\"data row1 col2\" >#41b430</td>\n",
       "                        <td id=\"T_a3357_row1_col3\" class=\"data row1 col3\" >1422</td>\n",
       "            </tr>\n",
       "            <tr>\n",
       "                        <th id=\"T_a3357_level0_row2\" class=\"row_heading level0 row2\" >1693</th>\n",
       "                        <td id=\"T_a3357_row2_col0\" class=\"data row2 col0\" >zieleń awokado</td>\n",
       "                        <td id=\"T_a3357_row2_col1\" class=\"data row2 col1\" >avocado green</td>\n",
       "                        <td id=\"T_a3357_row2_col2\" class=\"data row2 col2\" >#648228</td>\n",
       "                        <td id=\"T_a3357_row2_col3\" class=\"data row2 col3\" >1539</td>\n",
       "            </tr>\n",
       "            <tr>\n",
       "                        <th id=\"T_a3357_level0_row3\" class=\"row_heading level0 row3\" >1694</th>\n",
       "                        <td id=\"T_a3357_row3_col0\" class=\"data row3 col0\" >zieleń awokado ciemna</td>\n",
       "                        <td id=\"T_a3357_row3_col1\" class=\"data row3 col1\" >avocado green dark</td>\n",
       "                        <td id=\"T_a3357_row3_col2\" class=\"data row3 col2\" >#466432</td>\n",
       "                        <td id=\"T_a3357_row3_col3\" class=\"data row3 col3\" >1979</td>\n",
       "            </tr>\n",
       "            <tr>\n",
       "                        <th id=\"T_a3357_level0_row4\" class=\"row_heading level0 row4\" >1672</th>\n",
       "                        <td id=\"T_a3357_row4_col0\" class=\"data row4 col0\" >tymniankowy najciemniejszy</td>\n",
       "                        <td id=\"T_a3357_row4_col1\" class=\"data row4 col1\" >turquoise ultra very dark</td>\n",
       "                        <td id=\"T_a3357_row4_col2\" class=\"data row4 col2\" >#3c643c</td>\n",
       "                        <td id=\"T_a3357_row4_col3\" class=\"data row4 col3\" >2219</td>\n",
       "            </tr>\n",
       "    </tbody></table>"
      ],
      "text/plain": [
       "<pandas.io.formats.style.Styler at 0x7f735f94df40>"
      ]
     },
     "metadata": {},
     "output_type": "display_data"
    },
    {
     "data": {
      "text/html": [
       "<style  type=\"text/css\" >\n",
       "#T_68009_row0_col2{\n",
       "            background-color:  #a0965a;\n",
       "        }#T_68009_row1_col2{\n",
       "            background-color:  #a09664;\n",
       "        }#T_68009_row2_col2{\n",
       "            background-color:  #96824b;\n",
       "        }#T_68009_row3_col2{\n",
       "            background-color:  #a0995a;\n",
       "        }#T_68009_row4_col2{\n",
       "            background-color:  #be8264;\n",
       "        }</style><table id=\"T_68009_\" ><thead>    <tr>        <th class=\"blank level0\" ></th>        <th class=\"col_heading level0 col0\" >pl</th>        <th class=\"col_heading level0 col1\" >name</th>        <th class=\"col_heading level0 col2\" >rgb</th>        <th class=\"col_heading level0 col3\" >distance</th>    </tr>    <tr>        <th class=\"index_name level0\" >number</th>        <th class=\"blank\" ></th>        <th class=\"blank\" ></th>        <th class=\"blank\" ></th>        <th class=\"blank\" ></th>    </tr></thead><tbody>\n",
       "                <tr>\n",
       "                        <th id=\"T_68009_level0_row0\" class=\"row_heading level0 row0\" >1792</th>\n",
       "                        <td id=\"T_68009_row0_col0\" class=\"data row0 col0\" >szaroczekoladowy jasny</td>\n",
       "                        <td id=\"T_68009_row0_col1\" class=\"data row0 col1\" >gray chocolate</td>\n",
       "                        <td id=\"T_68009_row0_col2\" class=\"data row0 col2\" >#a0965a</td>\n",
       "                        <td id=\"T_68009_row0_col3\" class=\"data row0 col3\" >381</td>\n",
       "            </tr>\n",
       "            <tr>\n",
       "                        <th id=\"T_68009_level0_row1\" class=\"row_heading level0 row1\" >1797</th>\n",
       "                        <td id=\"T_68009_row1_col0\" class=\"data row1 col0\" >szarobeżowy ciemny</td>\n",
       "                        <td id=\"T_68009_row1_col1\" class=\"data row1 col1\" >beige grey dark</td>\n",
       "                        <td id=\"T_68009_row1_col2\" class=\"data row1 col2\" >#a09664</td>\n",
       "                        <td id=\"T_68009_row1_col3\" class=\"data row1 col3\" >441</td>\n",
       "            </tr>\n",
       "            <tr>\n",
       "                        <th id=\"T_68009_level0_row2\" class=\"row_heading level0 row2\" >1793</th>\n",
       "                        <td id=\"T_68009_row2_col0\" class=\"data row2 col0\" >szaroczekoladowy</td>\n",
       "                        <td id=\"T_68009_row2_col1\" class=\"data row2 col1\" >gray chocolate</td>\n",
       "                        <td id=\"T_68009_row2_col2\" class=\"data row2 col2\" >#96824b</td>\n",
       "                        <td id=\"T_68009_row2_col3\" class=\"data row2 col3\" >486</td>\n",
       "            </tr>\n",
       "            <tr>\n",
       "                        <th id=\"T_68009_level0_row3\" class=\"row_heading level0 row3\" >1798</th>\n",
       "                        <td id=\"T_68009_row3_col0\" class=\"data row3 col0\" >szarobeżowy bardzo ciemny</td>\n",
       "                        <td id=\"T_68009_row3_col1\" class=\"data row3 col1\" >beige grey very dark</td>\n",
       "                        <td id=\"T_68009_row3_col2\" class=\"data row3 col2\" >#a0995a</td>\n",
       "                        <td id=\"T_68009_row3_col3\" class=\"data row3 col3\" >504</td>\n",
       "            </tr>\n",
       "            <tr>\n",
       "                        <th id=\"T_68009_level0_row4\" class=\"row_heading level0 row4\" >1770</th>\n",
       "                        <td id=\"T_68009_row4_col0\" class=\"data row4 col0\" >piasek pustyni jasny</td>\n",
       "                        <td id=\"T_68009_row4_col1\" class=\"data row4 col1\" >desert sand light</td>\n",
       "                        <td id=\"T_68009_row4_col2\" class=\"data row4 col2\" >#be8264</td>\n",
       "                        <td id=\"T_68009_row4_col3\" class=\"data row4 col3\" >741</td>\n",
       "            </tr>\n",
       "    </tbody></table>"
      ],
      "text/plain": [
       "<pandas.io.formats.style.Styler at 0x7f735f9581c0>"
      ]
     },
     "metadata": {},
     "output_type": "display_data"
    },
    {
     "data": {
      "image/png": "[encoded data removed]",
      "text/plain": [
       "<Figure size 720x720 with 1 Axes>"
      ]
     },
     "metadata": {
      "needs_background": "light"
     },
     "output_type": "display_data"
    },
    {
     "data": {
      "image/png": "[encoded data removed]",
      "text/plain": [
       "<Figure size 720x720 with 1 Axes>"
      ]
     },
     "metadata": {
      "needs_background": "light"
     },
     "output_type": "display_data"
    },
    {
     "data": {
      "image/png": "[encoded data removed]",
      "text/plain": [
       "<Figure size 720x720 with 1 Axes>"
      ]
     },
     "metadata": {
      "needs_background": "light"
     },
     "output_type": "display_data"
    },
    {
     "data": {
      "image/png": "[encoded data removed]",
      "text/plain": [
       "<Figure size 720x720 with 1 Axes>"
      ]
     },
     "metadata": {
      "needs_background": "light"
     },
     "output_type": "display_data"
    },
    {
     "data": {
      "image/png": "[encoded data removed]",
      "text/plain": [
       "<Figure size 720x720 with 1 Axes>"
      ]
     },
     "metadata": {
      "needs_background": "light"
     },
     "output_type": "display_data"
    }
   ],
   "source": [
    "for base_num in base_numbers:\n",
    "    find_similar(base_num, rgb_euclidean, 5)"
   ]
  },
  {
   "cell_type": "markdown",
   "id": "a768db7a-eed4-4e2e-8b60-adf30a8b91bc",
   "metadata": {
    "heading_collapsed": "true",
    "tags": []
   },
   "source": [
    "### RGB with gamma correction"
   ]
  },
  {
   "cell_type": "code",
   "execution_count": 10,
   "id": "18a23ab2-93d7-4a18-99d1-913f4666f2e0",
   "metadata": {},
   "outputs": [
    {
     "data": {
      "text/html": [
       "<style  type=\"text/css\" >\n",
       "#T_f7123_row0_col2{\n",
       "            background-color:  #cc2f2f;\n",
       "        }#T_f7123_row1_col2{\n",
       "            background-color:  #c92b55;\n",
       "        }#T_f7123_row2_col2{\n",
       "            background-color:  #e22b3c;\n",
       "        }#T_f7123_row3_col2{\n",
       "            background-color:  #b43c3c;\n",
       "        }#T_f7123_row4_col2{\n",
       "            background-color:  #b0403a;\n",
       "        }</style><table id=\"T_f7123_\" ><thead>    <tr>        <th class=\"blank level0\" ></th>        <th class=\"col_heading level0 col0\" >pl</th>        <th class=\"col_heading level0 col1\" >name</th>        <th class=\"col_heading level0 col2\" >rgb</th>        <th class=\"col_heading level0 col3\" >distance</th>    </tr>    <tr>        <th class=\"index_name level0\" >number</th>        <th class=\"blank\" ></th>        <th class=\"blank\" ></th>        <th class=\"blank\" ></th>        <th class=\"blank\" ></th>    </tr></thead><tbody>\n",
       "                <tr>\n",
       "                        <th id=\"T_f7123_level0_row0\" class=\"row_heading level0 row0\" >1553</th>\n",
       "                        <td id=\"T_f7123_row0_col0\" class=\"data row0 col0\" >jasna czerwień</td>\n",
       "                        <td id=\"T_f7123_row0_col1\" class=\"data row0 col1\" >light red</td>\n",
       "                        <td id=\"T_f7123_row0_col2\" class=\"data row0 col2\" >#cc2f2f</td>\n",
       "                        <td id=\"T_f7123_row0_col3\" class=\"data row0 col3\" >427</td>\n",
       "            </tr>\n",
       "            <tr>\n",
       "                        <th id=\"T_f7123_level0_row1\" class=\"row_heading level0 row1\" >1555</th>\n",
       "                        <td id=\"T_f7123_row1_col0\" class=\"data row1 col0\" >czerwień ciemna</td>\n",
       "                        <td id=\"T_f7123_row1_col1\" class=\"data row1 col1\" >christmas red dark</td>\n",
       "                        <td id=\"T_f7123_row1_col2\" class=\"data row1 col2\" >#c92b55</td>\n",
       "                        <td id=\"T_f7123_row1_col3\" class=\"data row1 col3\" >1364</td>\n",
       "            </tr>\n",
       "            <tr>\n",
       "                        <th id=\"T_f7123_level0_row2\" class=\"row_heading level0 row2\" >1547</th>\n",
       "                        <td id=\"T_f7123_row2_col0\" class=\"data row2 col0\" >czerwień świąteczna jasna</td>\n",
       "                        <td id=\"T_f7123_row2_col1\" class=\"data row2 col1\" >christmas red light</td>\n",
       "                        <td id=\"T_f7123_row2_col2\" class=\"data row2 col2\" >#e22b3c</td>\n",
       "                        <td id=\"T_f7123_row2_col3\" class=\"data row2 col3\" >2189</td>\n",
       "            </tr>\n",
       "            <tr>\n",
       "                        <th id=\"T_f7123_level0_row3\" class=\"row_heading level0 row3\" >1757</th>\n",
       "                        <td id=\"T_f7123_row3_col0\" class=\"data row3 col0\" >czerwonokasztanowy</td>\n",
       "                        <td id=\"T_f7123_row3_col1\" class=\"data row3 col1\" >red chestnut</td>\n",
       "                        <td id=\"T_f7123_row3_col2\" class=\"data row3 col2\" >#b43c3c</td>\n",
       "                        <td id=\"T_f7123_row3_col3\" class=\"data row3 col3\" >2241</td>\n",
       "            </tr>\n",
       "            <tr>\n",
       "                        <th id=\"T_f7123_level0_row4\" class=\"row_heading level0 row4\" >1750</th>\n",
       "                        <td id=\"T_f7123_row4_col0\" class=\"data row4 col0\" >terakota ciemna</td>\n",
       "                        <td id=\"T_f7123_row4_col1\" class=\"data row4 col1\" >terracotta dark</td>\n",
       "                        <td id=\"T_f7123_row4_col2\" class=\"data row4 col2\" >#b0403a</td>\n",
       "                        <td id=\"T_f7123_row4_col3\" class=\"data row4 col3\" >3353</td>\n",
       "            </tr>\n",
       "    </tbody></table>"
      ],
      "text/plain": [
       "<pandas.io.formats.style.Styler at 0x7f735f4e0940>"
      ]
     },
     "metadata": {},
     "output_type": "display_data"
    },
    {
     "data": {
      "text/html": [
       "<style  type=\"text/css\" >\n",
       "#T_150f3_row0_col2{\n",
       "            background-color:  #408bb6;\n",
       "        }#T_150f3_row1_col2{\n",
       "            background-color:  #329b91;\n",
       "        }#T_150f3_row2_col2{\n",
       "            background-color:  #358c8c;\n",
       "        }#T_150f3_row3_col2{\n",
       "            background-color:  #50a0c8;\n",
       "        }#T_150f3_row4_col2{\n",
       "            background-color:  #6e878c;\n",
       "        }</style><table id=\"T_150f3_\" ><thead>    <tr>        <th class=\"blank level0\" ></th>        <th class=\"col_heading level0 col0\" >pl</th>        <th class=\"col_heading level0 col1\" >name</th>        <th class=\"col_heading level0 col2\" >rgb</th>        <th class=\"col_heading level0 col3\" >distance</th>    </tr>    <tr>        <th class=\"index_name level0\" >number</th>        <th class=\"blank\" ></th>        <th class=\"blank\" ></th>        <th class=\"blank\" ></th>        <th class=\"blank\" ></th>    </tr></thead><tbody>\n",
       "                <tr>\n",
       "                        <th id=\"T_150f3_level0_row0\" class=\"row_heading level0 row0\" >1617</th>\n",
       "                        <td id=\"T_150f3_row0_col0\" class=\"data row0 col0\" >niebieski bardzo ciemny</td>\n",
       "                        <td id=\"T_150f3_row0_col1\" class=\"data row0 col1\" >blue very dark</td>\n",
       "                        <td id=\"T_150f3_row0_col2\" class=\"data row0 col2\" >#408bb6</td>\n",
       "                        <td id=\"T_150f3_row0_col3\" class=\"data row0 col3\" >1381</td>\n",
       "            </tr>\n",
       "            <tr>\n",
       "                        <th id=\"T_150f3_level0_row1\" class=\"row_heading level0 row1\" >1642</th>\n",
       "                        <td id=\"T_150f3_row1_col0\" class=\"data row1 col0\" >morski</td>\n",
       "                        <td id=\"T_150f3_row1_col1\" class=\"data row1 col1\" >sea green</td>\n",
       "                        <td id=\"T_150f3_row1_col2\" class=\"data row1 col2\" >#329b91</td>\n",
       "                        <td id=\"T_150f3_row1_col3\" class=\"data row1 col3\" >3390</td>\n",
       "            </tr>\n",
       "            <tr>\n",
       "                        <th id=\"T_150f3_level0_row2\" class=\"row_heading level0 row2\" >1643</th>\n",
       "                        <td id=\"T_150f3_row2_col0\" class=\"data row2 col0\" >ciemny morski</td>\n",
       "                        <td id=\"T_150f3_row2_col1\" class=\"data row2 col1\" >sea blue dark</td>\n",
       "                        <td id=\"T_150f3_row2_col2\" class=\"data row2 col2\" >#358c8c</td>\n",
       "                        <td id=\"T_150f3_row2_col3\" class=\"data row2 col3\" >3735</td>\n",
       "            </tr>\n",
       "            <tr>\n",
       "                        <th id=\"T_150f3_level0_row3\" class=\"row_heading level0 row3\" >1616</th>\n",
       "                        <td id=\"T_150f3_row3_col0\" class=\"data row3 col0\" >niebieski ciemny</td>\n",
       "                        <td id=\"T_150f3_row3_col1\" class=\"data row3 col1\" >blue dark</td>\n",
       "                        <td id=\"T_150f3_row3_col2\" class=\"data row3 col2\" >#50a0c8</td>\n",
       "                        <td id=\"T_150f3_row3_col3\" class=\"data row3 col3\" >3945</td>\n",
       "            </tr>\n",
       "            <tr>\n",
       "                        <th id=\"T_150f3_level0_row4\" class=\"row_heading level0 row4\" >1633</th>\n",
       "                        <td id=\"T_150f3_row4_col0\" class=\"data row4 col0\" >niebieski antyczny ciemny</td>\n",
       "                        <td id=\"T_150f3_row4_col1\" class=\"data row4 col1\" >antique blue dark</td>\n",
       "                        <td id=\"T_150f3_row4_col2\" class=\"data row4 col2\" >#6e878c</td>\n",
       "                        <td id=\"T_150f3_row4_col3\" class=\"data row4 col3\" >4685</td>\n",
       "            </tr>\n",
       "    </tbody></table>"
      ],
      "text/plain": [
       "<pandas.io.formats.style.Styler at 0x7f735f976af0>"
      ]
     },
     "metadata": {},
     "output_type": "display_data"
    },
    {
     "data": {
      "text/html": [
       "<style  type=\"text/css\" >\n",
       "#T_2e7d4_row0_col2{\n",
       "            background-color:  #915d8c;\n",
       "        }#T_2e7d4_row1_col2{\n",
       "            background-color:  #996d7b;\n",
       "        }#T_2e7d4_row2_col2{\n",
       "            background-color:  #b85893;\n",
       "        }#T_2e7d4_row3_col2{\n",
       "            background-color:  #b37586;\n",
       "        }#T_2e7d4_row4_col2{\n",
       "            background-color:  #af71ab;\n",
       "        }</style><table id=\"T_2e7d4_\" ><thead>    <tr>        <th class=\"blank level0\" ></th>        <th class=\"col_heading level0 col0\" >pl</th>        <th class=\"col_heading level0 col1\" >name</th>        <th class=\"col_heading level0 col2\" >rgb</th>        <th class=\"col_heading level0 col3\" >distance</th>    </tr>    <tr>        <th class=\"index_name level0\" >number</th>        <th class=\"blank\" ></th>        <th class=\"blank\" ></th>        <th class=\"blank\" ></th>        <th class=\"blank\" ></th>    </tr></thead><tbody>\n",
       "                <tr>\n",
       "                        <th id=\"T_2e7d4_level0_row0\" class=\"row_heading level0 row0\" >1585</th>\n",
       "                        <td id=\"T_2e7d4_row0_col0\" class=\"data row0 col0\" >śliwkowy</td>\n",
       "                        <td id=\"T_2e7d4_row0_col1\" class=\"data row0 col1\" >plum</td>\n",
       "                        <td id=\"T_2e7d4_row0_col2\" class=\"data row0 col2\" >#915d8c</td>\n",
       "                        <td id=\"T_2e7d4_row0_col3\" class=\"data row0 col3\" >1118</td>\n",
       "            </tr>\n",
       "            <tr>\n",
       "                        <th id=\"T_2e7d4_level0_row1\" class=\"row_heading level0 row1\" >1762A</th>\n",
       "                        <td id=\"T_2e7d4_row1_col0\" class=\"data row1 col0\" >kakaowy średni</td>\n",
       "                        <td id=\"T_2e7d4_row1_col1\" class=\"data row1 col1\" >cocoa medium</td>\n",
       "                        <td id=\"T_2e7d4_row1_col2\" class=\"data row1 col2\" >#996d7b</td>\n",
       "                        <td id=\"T_2e7d4_row1_col3\" class=\"data row1 col3\" >1212</td>\n",
       "            </tr>\n",
       "            <tr>\n",
       "                        <th id=\"T_2e7d4_level0_row2\" class=\"row_heading level0 row2\" >1595</th>\n",
       "                        <td id=\"T_2e7d4_row2_col0\" class=\"data row2 col0\" >ciemny wrzos</td>\n",
       "                        <td id=\"T_2e7d4_row2_col1\" class=\"data row2 col1\" >heather dark</td>\n",
       "                        <td id=\"T_2e7d4_row2_col2\" class=\"data row2 col2\" >#b85893</td>\n",
       "                        <td id=\"T_2e7d4_row2_col3\" class=\"data row2 col3\" >1935</td>\n",
       "            </tr>\n",
       "            <tr>\n",
       "                        <th id=\"T_2e7d4_level0_row3\" class=\"row_heading level0 row3\" >1577</th>\n",
       "                        <td id=\"T_2e7d4_row3_col0\" class=\"data row3 col0\" >perłoworóżowy średni</td>\n",
       "                        <td id=\"T_2e7d4_row3_col1\" class=\"data row3 col1\" >shell pink medium</td>\n",
       "                        <td id=\"T_2e7d4_row3_col2\" class=\"data row3 col2\" >#b37586</td>\n",
       "                        <td id=\"T_2e7d4_row3_col3\" class=\"data row3 col3\" >2114</td>\n",
       "            </tr>\n",
       "            <tr>\n",
       "                        <th id=\"T_2e7d4_level0_row4\" class=\"row_heading level0 row4\" >1592</th>\n",
       "                        <td id=\"T_2e7d4_row4_col0\" class=\"data row4 col0\" >fioletowy jasny</td>\n",
       "                        <td id=\"T_2e7d4_row4_col1\" class=\"data row4 col1\" >violet light</td>\n",
       "                        <td id=\"T_2e7d4_row4_col2\" class=\"data row4 col2\" >#af71ab</td>\n",
       "                        <td id=\"T_2e7d4_row4_col3\" class=\"data row4 col3\" >3264</td>\n",
       "            </tr>\n",
       "    </tbody></table>"
      ],
      "text/plain": [
       "<pandas.io.formats.style.Styler at 0x7f735f4e00d0>"
      ]
     },
     "metadata": {},
     "output_type": "display_data"
    },
    {
     "data": {
      "text/html": [
       "<style  type=\"text/css\" >\n",
       "#T_d2dfd_row0_col2{\n",
       "            background-color:  #318229;\n",
       "        }#T_d2dfd_row1_col2{\n",
       "            background-color:  #648228;\n",
       "        }#T_d2dfd_row2_col2{\n",
       "            background-color:  #41b430;\n",
       "        }#T_d2dfd_row3_col2{\n",
       "            background-color:  #1b820a;\n",
       "        }#T_d2dfd_row4_col2{\n",
       "            background-color:  #6e7828;\n",
       "        }</style><table id=\"T_d2dfd_\" ><thead>    <tr>        <th class=\"blank level0\" ></th>        <th class=\"col_heading level0 col0\" >pl</th>        <th class=\"col_heading level0 col1\" >name</th>        <th class=\"col_heading level0 col2\" >rgb</th>        <th class=\"col_heading level0 col3\" >distance</th>    </tr>    <tr>        <th class=\"index_name level0\" >number</th>        <th class=\"blank\" ></th>        <th class=\"blank\" ></th>        <th class=\"blank\" ></th>        <th class=\"blank\" ></th>    </tr></thead><tbody>\n",
       "                <tr>\n",
       "                        <th id=\"T_d2dfd_level0_row0\" class=\"row_heading level0 row0\" >1701</th>\n",
       "                        <td id=\"T_d2dfd_row0_col0\" class=\"data row0 col0\" >zieleń papuzia najciemniejsza</td>\n",
       "                        <td id=\"T_d2dfd_row0_col1\" class=\"data row0 col1\" >parrot green ultra dark</td>\n",
       "                        <td id=\"T_d2dfd_row0_col2\" class=\"data row0 col2\" >#318229</td>\n",
       "                        <td id=\"T_d2dfd_row0_col3\" class=\"data row0 col3\" >1068</td>\n",
       "            </tr>\n",
       "            <tr>\n",
       "                        <th id=\"T_d2dfd_level0_row1\" class=\"row_heading level0 row1\" >1693</th>\n",
       "                        <td id=\"T_d2dfd_row1_col0\" class=\"data row1 col0\" >zieleń awokado</td>\n",
       "                        <td id=\"T_d2dfd_row1_col1\" class=\"data row1 col1\" >avocado green</td>\n",
       "                        <td id=\"T_d2dfd_row1_col2\" class=\"data row1 col2\" >#648228</td>\n",
       "                        <td id=\"T_d2dfd_row1_col3\" class=\"data row1 col3\" >3417</td>\n",
       "            </tr>\n",
       "            <tr>\n",
       "                        <th id=\"T_d2dfd_level0_row2\" class=\"row_heading level0 row2\" >1700</th>\n",
       "                        <td id=\"T_d2dfd_row2_col0\" class=\"data row2 col0\" >zieleń papuzia bardzo ciemna</td>\n",
       "                        <td id=\"T_d2dfd_row2_col1\" class=\"data row2 col1\" >parrot green very dark</td>\n",
       "                        <td id=\"T_d2dfd_row2_col2\" class=\"data row2 col2\" >#41b430</td>\n",
       "                        <td id=\"T_d2dfd_row2_col3\" class=\"data row2 col3\" >5631</td>\n",
       "            </tr>\n",
       "            <tr>\n",
       "                        <th id=\"T_d2dfd_level0_row3\" class=\"row_heading level0 row3\" >1687</th>\n",
       "                        <td id=\"T_d2dfd_row3_col0\" class=\"data row3 col0\" >zielony ciemny</td>\n",
       "                        <td id=\"T_d2dfd_row3_col1\" class=\"data row3 col1\" >green dark</td>\n",
       "                        <td id=\"T_d2dfd_row3_col2\" class=\"data row3 col2\" >#1b820a</td>\n",
       "                        <td id=\"T_d2dfd_row3_col3\" class=\"data row3 col3\" >6151</td>\n",
       "            </tr>\n",
       "            <tr>\n",
       "                        <th id=\"T_d2dfd_level0_row4\" class=\"row_heading level0 row4\" >1713</th>\n",
       "                        <td id=\"T_d2dfd_row4_col0\" class=\"data row4 col0\" >oliwkowozielony ciemny</td>\n",
       "                        <td id=\"T_d2dfd_row4_col1\" class=\"data row4 col1\" >olive green dark</td>\n",
       "                        <td id=\"T_d2dfd_row4_col2\" class=\"data row4 col2\" >#6e7828</td>\n",
       "                        <td id=\"T_d2dfd_row4_col3\" class=\"data row4 col3\" >6537</td>\n",
       "            </tr>\n",
       "    </tbody></table>"
      ],
      "text/plain": [
       "<pandas.io.formats.style.Styler at 0x7f735fb8a4f0>"
      ]
     },
     "metadata": {},
     "output_type": "display_data"
    },
    {
     "data": {
      "text/html": [
       "<style  type=\"text/css\" >\n",
       "#T_770f7_row0_col2{\n",
       "            background-color:  #96824b;\n",
       "        }#T_770f7_row1_col2{\n",
       "            background-color:  #a0965a;\n",
       "        }#T_770f7_row2_col2{\n",
       "            background-color:  #a09664;\n",
       "        }#T_770f7_row3_col2{\n",
       "            background-color:  #a0995a;\n",
       "        }#T_770f7_row4_col2{\n",
       "            background-color:  #be8264;\n",
       "        }</style><table id=\"T_770f7_\" ><thead>    <tr>        <th class=\"blank level0\" ></th>        <th class=\"col_heading level0 col0\" >pl</th>        <th class=\"col_heading level0 col1\" >name</th>        <th class=\"col_heading level0 col2\" >rgb</th>        <th class=\"col_heading level0 col3\" >distance</th>    </tr>    <tr>        <th class=\"index_name level0\" >number</th>        <th class=\"blank\" ></th>        <th class=\"blank\" ></th>        <th class=\"blank\" ></th>        <th class=\"blank\" ></th>    </tr></thead><tbody>\n",
       "                <tr>\n",
       "                        <th id=\"T_770f7_level0_row0\" class=\"row_heading level0 row0\" >1793</th>\n",
       "                        <td id=\"T_770f7_row0_col0\" class=\"data row0 col0\" >szaroczekoladowy</td>\n",
       "                        <td id=\"T_770f7_row0_col1\" class=\"data row0 col1\" >gray chocolate</td>\n",
       "                        <td id=\"T_770f7_row0_col2\" class=\"data row0 col2\" >#96824b</td>\n",
       "                        <td id=\"T_770f7_row0_col3\" class=\"data row0 col3\" >1170</td>\n",
       "            </tr>\n",
       "            <tr>\n",
       "                        <th id=\"T_770f7_level0_row1\" class=\"row_heading level0 row1\" >1792</th>\n",
       "                        <td id=\"T_770f7_row1_col0\" class=\"data row1 col0\" >szaroczekoladowy jasny</td>\n",
       "                        <td id=\"T_770f7_row1_col1\" class=\"data row1 col1\" >gray chocolate</td>\n",
       "                        <td id=\"T_770f7_row1_col2\" class=\"data row1 col2\" >#a0965a</td>\n",
       "                        <td id=\"T_770f7_row1_col3\" class=\"data row1 col3\" >1500</td>\n",
       "            </tr>\n",
       "            <tr>\n",
       "                        <th id=\"T_770f7_level0_row2\" class=\"row_heading level0 row2\" >1797</th>\n",
       "                        <td id=\"T_770f7_row2_col0\" class=\"data row2 col0\" >szarobeżowy ciemny</td>\n",
       "                        <td id=\"T_770f7_row2_col1\" class=\"data row2 col1\" >beige grey dark</td>\n",
       "                        <td id=\"T_770f7_row2_col2\" class=\"data row2 col2\" >#a09664</td>\n",
       "                        <td id=\"T_770f7_row2_col3\" class=\"data row2 col3\" >1620</td>\n",
       "            </tr>\n",
       "            <tr>\n",
       "                        <th id=\"T_770f7_level0_row3\" class=\"row_heading level0 row3\" >1798</th>\n",
       "                        <td id=\"T_770f7_row3_col0\" class=\"data row3 col0\" >szarobeżowy bardzo ciemny</td>\n",
       "                        <td id=\"T_770f7_row3_col1\" class=\"data row3 col1\" >beige grey very dark</td>\n",
       "                        <td id=\"T_770f7_row3_col2\" class=\"data row3 col2\" >#a0995a</td>\n",
       "                        <td id=\"T_770f7_row3_col3\" class=\"data row3 col3\" >1992</td>\n",
       "            </tr>\n",
       "            <tr>\n",
       "                        <th id=\"T_770f7_level0_row4\" class=\"row_heading level0 row4\" >1770</th>\n",
       "                        <td id=\"T_770f7_row4_col0\" class=\"data row4 col0\" >piasek pustyni jasny</td>\n",
       "                        <td id=\"T_770f7_row4_col1\" class=\"data row4 col1\" >desert sand light</td>\n",
       "                        <td id=\"T_770f7_row4_col2\" class=\"data row4 col2\" >#be8264</td>\n",
       "                        <td id=\"T_770f7_row4_col3\" class=\"data row4 col3\" >2160</td>\n",
       "            </tr>\n",
       "    </tbody></table>"
      ],
      "text/plain": [
       "<pandas.io.formats.style.Styler at 0x7f735fb60310>"
      ]
     },
     "metadata": {},
     "output_type": "display_data"
    },
    {
     "data": {
      "image/png": "[encoded data removed]",
      "text/plain": [
       "<Figure size 720x720 with 1 Axes>"
      ]
     },
     "metadata": {
      "needs_background": "light"
     },
     "output_type": "display_data"
    },
    {
     "data": {
      "image/png": "[encoded data removed]",
      "text/plain": [
       "<Figure size 720x720 with 1 Axes>"
      ]
     },
     "metadata": {
      "needs_background": "light"
     },
     "output_type": "display_data"
    },
    {
     "data": {
      "image/png": "[encoded data removed]",
      "text/plain": [
       "<Figure size 720x720 with 1 Axes>"
      ]
     },
     "metadata": {
      "needs_background": "light"
     },
     "output_type": "display_data"
    },
    {
     "data": {
      "image/png": "[encoded data removed]",
      "text/plain": [
       "<Figure size 720x720 with 1 Axes>"
      ]
     },
     "metadata": {
      "needs_background": "light"
     },
     "output_type": "display_data"
    },
    {
     "data": {
      "image/png": "[encoded data removed]",
      "text/plain": [
       "<Figure size 720x720 with 1 Axes>"
      ]
     },
     "metadata": {
      "needs_background": "light"
     },
     "output_type": "display_data"
    }
   ],
   "source": [
    "for base_num in base_numbers:\n",
    "    find_similar(base_num, rgb_gamma_correction, 5)"
   ]
  },
  {
   "cell_type": "code",
   "execution_count": null,
   "id": "d1b145fa-766c-4404-8a53-c4ec8559386c",
   "metadata": {},
   "outputs": [],
   "source": []
  },
  {
   "cell_type": "markdown",
   "id": "368da084-a870-4082-80c4-a6baab520a47",
   "metadata": {},
   "source": [
    "## CIELAB"
   ]
  },
  {
   "cell_type": "code",
   "execution_count": 11,
   "id": "08afd281-4a92-4375-a0db-102f5489c320",
   "metadata": {},
   "outputs": [],
   "source": [
    "def cie76(base, other):\n",
    "    pass"
   ]
  },
  {
   "cell_type": "code",
   "execution_count": null,
   "id": "e7a07cd1-c3d4-40ea-80de-0e85fe996cbc",
   "metadata": {},
   "outputs": [],
   "source": []
  }
 ],
 "metadata": {
  "kernelspec": {
   "display_name": "mouline",
   "language": "python",
   "name": "mouline"
  },
  "language_info": {
   "codemirror_mode": {
    "name": "ipython",
    "version": 3
   },
   "file_extension": ".py",
   "mimetype": "text/x-python",
   "name": "python",
   "nbconvert_exporter": "python",
   "pygments_lexer": "ipython3",
   "version": "3.8.10"
  }
 },
 "nbformat": 4,
 "nbformat_minor": 5
}
