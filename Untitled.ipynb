{
 "cells": [
  {
   "cell_type": "code",
   "execution_count": 1,
   "id": "bff6e251-11de-4fb7-b973-afc8fe5a7c96",
   "metadata": {},
   "outputs": [],
   "source": [
    "import pandas as pd"
   ]
  },
  {
   "cell_type": "code",
   "execution_count": 34,
   "id": "8b1ee5fc-5c34-4e38-a4ca-4d0e3c8ca04d",
   "metadata": {},
   "outputs": [
    {
     "data": {
      "text/html": [
       "<style type=\"text/css\">\n",
       "#T_cb28b_row0_col1 {\n",
       "  background-color: #90c3cc;\n",
       "}\n",
       "#T_cb28b_row1_col1 {\n",
       "  background-color: #cd2f63;\n",
       "}\n",
       "#T_cb28b_row2_col1 {\n",
       "  background-color: #d1286a;\n",
       "}\n",
       "#T_cb28b_row3_col1 {\n",
       "  background-color: #e24874;\n",
       "}\n",
       "#T_cb28b_row4_col1 {\n",
       "  background-color: #ffa4be;\n",
       "}\n",
       "#T_cb28b_row5_col1 {\n",
       "  background-color: #ffb0be;\n",
       "}\n",
       "#T_cb28b_row6_col1 {\n",
       "  background-color: #ffc0cd;\n",
       "}\n",
       "#T_cb28b_row7_col1 {\n",
       "  background-color: #fa3203;\n",
       "}\n",
       "#T_cb28b_row8_col1 {\n",
       "  background-color: #fd5d35;\n",
       "}\n",
       "#T_cb28b_row9_col1 {\n",
       "  background-color: #796047;\n",
       "}\n",
       "</style>\n",
       "<table id=\"T_cb28b_\">\n",
       "  <thead>\n",
       "    <tr>\n",
       "      <th class=\"blank level0\" >&nbsp;</th>\n",
       "      <th class=\"col_heading level0 col0\" >name</th>\n",
       "      <th class=\"col_heading level0 col1\" >rgb</th>\n",
       "    </tr>\n",
       "    <tr>\n",
       "      <th class=\"index_name level0\" >number</th>\n",
       "      <th class=\"blank col0\" >&nbsp;</th>\n",
       "      <th class=\"blank col1\" >&nbsp;</th>\n",
       "    </tr>\n",
       "  </thead>\n",
       "  <tbody>\n",
       "    <tr>\n",
       "      <th id=\"T_cb28b_level0_row0\" class=\"row_heading level0 row0\" >598</th>\n",
       "      <td id=\"T_cb28b_row0_col0\" class=\"data row0 col0\" >Light Turquoise</td>\n",
       "      <td id=\"T_cb28b_row0_col1\" class=\"data row0 col1\" >90c3cc</td>\n",
       "    </tr>\n",
       "    <tr>\n",
       "      <th id=\"T_cb28b_level0_row1\" class=\"row_heading level0 row1\" >600</th>\n",
       "      <td id=\"T_cb28b_row1_col0\" class=\"data row1 col0\" >Very Dark Cranberry</td>\n",
       "      <td id=\"T_cb28b_row1_col1\" class=\"data row1 col1\" >cd2f63</td>\n",
       "    </tr>\n",
       "    <tr>\n",
       "      <th id=\"T_cb28b_level0_row2\" class=\"row_heading level0 row2\" >601</th>\n",
       "      <td id=\"T_cb28b_row2_col0\" class=\"data row2 col0\" >Dark Cranberry</td>\n",
       "      <td id=\"T_cb28b_row2_col1\" class=\"data row2 col1\" >d1286a</td>\n",
       "    </tr>\n",
       "    <tr>\n",
       "      <th id=\"T_cb28b_level0_row3\" class=\"row_heading level0 row3\" >602</th>\n",
       "      <td id=\"T_cb28b_row3_col0\" class=\"data row3 col0\" >Medium Cranberry</td>\n",
       "      <td id=\"T_cb28b_row3_col1\" class=\"data row3 col1\" >e24874</td>\n",
       "    </tr>\n",
       "    <tr>\n",
       "      <th id=\"T_cb28b_level0_row4\" class=\"row_heading level0 row4\" >603</th>\n",
       "      <td id=\"T_cb28b_row4_col0\" class=\"data row4 col0\" >Cranberry</td>\n",
       "      <td id=\"T_cb28b_row4_col1\" class=\"data row4 col1\" >ffa4be</td>\n",
       "    </tr>\n",
       "    <tr>\n",
       "      <th id=\"T_cb28b_level0_row5\" class=\"row_heading level0 row5\" >604</th>\n",
       "      <td id=\"T_cb28b_row5_col0\" class=\"data row5 col0\" >Light Cranberry</td>\n",
       "      <td id=\"T_cb28b_row5_col1\" class=\"data row5 col1\" >ffb0be</td>\n",
       "    </tr>\n",
       "    <tr>\n",
       "      <th id=\"T_cb28b_level0_row6\" class=\"row_heading level0 row6\" >605</th>\n",
       "      <td id=\"T_cb28b_row6_col0\" class=\"data row6 col0\" >Very Light Cranberry</td>\n",
       "      <td id=\"T_cb28b_row6_col1\" class=\"data row6 col1\" >ffc0cd</td>\n",
       "    </tr>\n",
       "    <tr>\n",
       "      <th id=\"T_cb28b_level0_row7\" class=\"row_heading level0 row7\" >606</th>\n",
       "      <td id=\"T_cb28b_row7_col0\" class=\"data row7 col0\" >Bright Orange-Red</td>\n",
       "      <td id=\"T_cb28b_row7_col1\" class=\"data row7 col1\" >fa3203</td>\n",
       "    </tr>\n",
       "    <tr>\n",
       "      <th id=\"T_cb28b_level0_row8\" class=\"row_heading level0 row8\" >608</th>\n",
       "      <td id=\"T_cb28b_row8_col0\" class=\"data row8 col0\" >Bright Orange</td>\n",
       "      <td id=\"T_cb28b_row8_col1\" class=\"data row8 col1\" >fd5d35</td>\n",
       "    </tr>\n",
       "    <tr>\n",
       "      <th id=\"T_cb28b_level0_row9\" class=\"row_heading level0 row9\" >610</th>\n",
       "      <td id=\"T_cb28b_row9_col0\" class=\"data row9 col0\" >Dark Drab Brown</td>\n",
       "      <td id=\"T_cb28b_row9_col1\" class=\"data row9 col1\" >796047</td>\n",
       "    </tr>\n",
       "  </tbody>\n",
       "</table>\n"
      ],
      "text/plain": [
       "<pandas.io.formats.style.Styler at 0x7f02bb19f790>"
      ]
     },
     "metadata": {},
     "output_type": "display_data"
    }
   ],
   "source": [
    "df = pd.read_csv('dmc.csv', index_col='number')[150:160]\n",
    "display(df.style.applymap(lambda c:\"background-color: #{}\".format(c), subset=['rgb']))"
   ]
  },
  {
   "cell_type": "code",
   "execution_count": null,
   "id": "150e3731-7373-4c0e-8243-5a6c32458e2d",
   "metadata": {},
   "outputs": [],
   "source": []
  }
 ],
 "metadata": {
  "kernelspec": {
   "display_name": "mouline",
   "language": "python",
   "name": "mouline"
  },
  "language_info": {
   "codemirror_mode": {
    "name": "ipython",
    "version": 3
   },
   "file_extension": ".py",
   "mimetype": "text/x-python",
   "name": "python",
   "nbconvert_exporter": "python",
   "pygments_lexer": "ipython3",
   "version": "3.9.6"
  }
 },
 "nbformat": 4,
 "nbformat_minor": 5
}
