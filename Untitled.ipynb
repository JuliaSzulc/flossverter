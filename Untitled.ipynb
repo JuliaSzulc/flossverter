{
 "cells": [
  {
   "cell_type": "code",
   "execution_count": 1,
   "id": "bff6e251-11de-4fb7-b973-afc8fe5a7c96",
   "metadata": {},
   "outputs": [],
   "source": [
    "import pandas as pd\n",
    "\n",
    "from helpers import swatch"
   ]
  },
  {
   "cell_type": "code",
   "execution_count": 2,
   "id": "8b1ee5fc-5c34-4e38-a4ca-4d0e3c8ca04d",
   "metadata": {},
   "outputs": [
    {
     "data": {
      "text/html": [
       "<style  type=\"text/css\" >\n",
       "#T_923a7_row0_col1{\n",
       "            background-color:  #90c3cc;\n",
       "        }#T_923a7_row1_col1{\n",
       "            background-color:  #cd2f63;\n",
       "        }#T_923a7_row2_col1{\n",
       "            background-color:  #d1286a;\n",
       "        }#T_923a7_row3_col1{\n",
       "            background-color:  #e24874;\n",
       "        }#T_923a7_row4_col1{\n",
       "            background-color:  #ffa4be;\n",
       "        }#T_923a7_row5_col1{\n",
       "            background-color:  #ffb0be;\n",
       "        }#T_923a7_row6_col1{\n",
       "            background-color:  #ffc0cd;\n",
       "        }#T_923a7_row7_col1{\n",
       "            background-color:  #fa3203;\n",
       "        }#T_923a7_row8_col1{\n",
       "            background-color:  #fd5d35;\n",
       "        }#T_923a7_row9_col1{\n",
       "            background-color:  #796047;\n",
       "        }</style><table id=\"T_923a7_\" ><thead>    <tr>        <th class=\"blank level0\" ></th>        <th class=\"col_heading level0 col0\" >name</th>        <th class=\"col_heading level0 col1\" >rgb</th>    </tr>    <tr>        <th class=\"index_name level0\" >number</th>        <th class=\"blank\" ></th>        <th class=\"blank\" ></th>    </tr></thead><tbody>\n",
       "                <tr>\n",
       "                        <th id=\"T_923a7_level0_row0\" class=\"row_heading level0 row0\" >598</th>\n",
       "                        <td id=\"T_923a7_row0_col0\" class=\"data row0 col0\" >Light Turquoise</td>\n",
       "                        <td id=\"T_923a7_row0_col1\" class=\"data row0 col1\" >90c3cc</td>\n",
       "            </tr>\n",
       "            <tr>\n",
       "                        <th id=\"T_923a7_level0_row1\" class=\"row_heading level0 row1\" >600</th>\n",
       "                        <td id=\"T_923a7_row1_col0\" class=\"data row1 col0\" >Very Dark Cranberry</td>\n",
       "                        <td id=\"T_923a7_row1_col1\" class=\"data row1 col1\" >cd2f63</td>\n",
       "            </tr>\n",
       "            <tr>\n",
       "                        <th id=\"T_923a7_level0_row2\" class=\"row_heading level0 row2\" >601</th>\n",
       "                        <td id=\"T_923a7_row2_col0\" class=\"data row2 col0\" >Dark Cranberry</td>\n",
       "                        <td id=\"T_923a7_row2_col1\" class=\"data row2 col1\" >d1286a</td>\n",
       "            </tr>\n",
       "            <tr>\n",
       "                        <th id=\"T_923a7_level0_row3\" class=\"row_heading level0 row3\" >602</th>\n",
       "                        <td id=\"T_923a7_row3_col0\" class=\"data row3 col0\" >Medium Cranberry</td>\n",
       "                        <td id=\"T_923a7_row3_col1\" class=\"data row3 col1\" >e24874</td>\n",
       "            </tr>\n",
       "            <tr>\n",
       "                        <th id=\"T_923a7_level0_row4\" class=\"row_heading level0 row4\" >603</th>\n",
       "                        <td id=\"T_923a7_row4_col0\" class=\"data row4 col0\" >Cranberry</td>\n",
       "                        <td id=\"T_923a7_row4_col1\" class=\"data row4 col1\" >ffa4be</td>\n",
       "            </tr>\n",
       "            <tr>\n",
       "                        <th id=\"T_923a7_level0_row5\" class=\"row_heading level0 row5\" >604</th>\n",
       "                        <td id=\"T_923a7_row5_col0\" class=\"data row5 col0\" >Light Cranberry</td>\n",
       "                        <td id=\"T_923a7_row5_col1\" class=\"data row5 col1\" >ffb0be</td>\n",
       "            </tr>\n",
       "            <tr>\n",
       "                        <th id=\"T_923a7_level0_row6\" class=\"row_heading level0 row6\" >605</th>\n",
       "                        <td id=\"T_923a7_row6_col0\" class=\"data row6 col0\" >Very Light Cranberry</td>\n",
       "                        <td id=\"T_923a7_row6_col1\" class=\"data row6 col1\" >ffc0cd</td>\n",
       "            </tr>\n",
       "            <tr>\n",
       "                        <th id=\"T_923a7_level0_row7\" class=\"row_heading level0 row7\" >606</th>\n",
       "                        <td id=\"T_923a7_row7_col0\" class=\"data row7 col0\" >Bright Orange-Red</td>\n",
       "                        <td id=\"T_923a7_row7_col1\" class=\"data row7 col1\" >fa3203</td>\n",
       "            </tr>\n",
       "            <tr>\n",
       "                        <th id=\"T_923a7_level0_row8\" class=\"row_heading level0 row8\" >608</th>\n",
       "                        <td id=\"T_923a7_row8_col0\" class=\"data row8 col0\" >Bright Orange</td>\n",
       "                        <td id=\"T_923a7_row8_col1\" class=\"data row8 col1\" >fd5d35</td>\n",
       "            </tr>\n",
       "            <tr>\n",
       "                        <th id=\"T_923a7_level0_row9\" class=\"row_heading level0 row9\" >610</th>\n",
       "                        <td id=\"T_923a7_row9_col0\" class=\"data row9 col0\" >Dark Drab Brown</td>\n",
       "                        <td id=\"T_923a7_row9_col1\" class=\"data row9 col1\" >796047</td>\n",
       "            </tr>\n",
       "    </tbody></table>"
      ],
      "text/plain": [
       "<pandas.io.formats.style.Styler at 0x7f91ad87eb50>"
      ]
     },
     "metadata": {},
     "output_type": "display_data"
    }
   ],
   "source": [
    "df = pd.read_csv('dmc.csv', index_col='number')[150:160]\n",
    "display(df.style.applymap(lambda c:\"background-color: #{}\".format(c), subset=['rgb']))"
   ]
  },
  {
   "cell_type": "code",
   "execution_count": 3,
   "id": "359dd7af-76e6-476c-8f8f-4c5322a7a795",
   "metadata": {},
   "outputs": [
    {
     "ename": "NameError",
     "evalue": "name 'ticker' is not defined",
     "output_type": "error",
     "traceback": [
      "\u001b[0;31m---------------------------------------------------------------------------\u001b[0m",
      "\u001b[0;31mNameError\u001b[0m                                 Traceback (most recent call last)",
      "\u001b[0;32m<ipython-input-3-f93d6e53d09f>\u001b[0m in \u001b[0;36m<module>\u001b[0;34m\u001b[0m\n\u001b[0;32m----> 1\u001b[0;31m \u001b[0mswatch\u001b[0m\u001b[0;34m(\u001b[0m\u001b[0;34m'blue'\u001b[0m\u001b[0;34m,\u001b[0m \u001b[0;34m[\u001b[0m\u001b[0;34m'red'\u001b[0m\u001b[0;34m,\u001b[0m \u001b[0;34m'green'\u001b[0m\u001b[0;34m,\u001b[0m \u001b[0;34m'yellow'\u001b[0m\u001b[0;34m]\u001b[0m\u001b[0;34m)\u001b[0m\u001b[0;34m\u001b[0m\u001b[0;34m\u001b[0m\u001b[0m\n\u001b[0m",
      "\u001b[0;32m~/code/mouline_translator/helpers.py\u001b[0m in \u001b[0;36mswatch\u001b[0;34m(base_col, similar_cols)\u001b[0m\n\u001b[1;32m     20\u001b[0m         \u001b[0max\u001b[0m\u001b[0;34m.\u001b[0m\u001b[0maxvline\u001b[0m\u001b[0;34m(\u001b[0m\u001b[0mi\u001b[0m\u001b[0;34m,\u001b[0m \u001b[0mcolor\u001b[0m\u001b[0;34m=\u001b[0m\u001b[0;34m'white'\u001b[0m\u001b[0;34m,\u001b[0m \u001b[0mlw\u001b[0m\u001b[0;34m=\u001b[0m\u001b[0;36m3\u001b[0m\u001b[0;34m)\u001b[0m\u001b[0;34m\u001b[0m\u001b[0;34m\u001b[0m\u001b[0m\n\u001b[1;32m     21\u001b[0m \u001b[0;34m\u001b[0m\u001b[0m\n\u001b[0;32m---> 22\u001b[0;31m     \u001b[0max\u001b[0m\u001b[0;34m.\u001b[0m\u001b[0mxaxis\u001b[0m\u001b[0;34m.\u001b[0m\u001b[0mset_major_locator\u001b[0m\u001b[0;34m(\u001b[0m\u001b[0mticker\u001b[0m\u001b[0;34m.\u001b[0m\u001b[0mNullLocator\u001b[0m\u001b[0;34m(\u001b[0m\u001b[0;34m)\u001b[0m\u001b[0;34m)\u001b[0m\u001b[0;34m\u001b[0m\u001b[0;34m\u001b[0m\u001b[0m\n\u001b[0m\u001b[1;32m     23\u001b[0m     \u001b[0max\u001b[0m\u001b[0;34m.\u001b[0m\u001b[0myaxis\u001b[0m\u001b[0;34m.\u001b[0m\u001b[0mset_major_locator\u001b[0m\u001b[0;34m(\u001b[0m\u001b[0mticker\u001b[0m\u001b[0;34m.\u001b[0m\u001b[0mNullLocator\u001b[0m\u001b[0;34m(\u001b[0m\u001b[0;34m)\u001b[0m\u001b[0;34m)\u001b[0m\u001b[0;34m\u001b[0m\u001b[0;34m\u001b[0m\u001b[0m\n",
      "\u001b[0;31mNameError\u001b[0m: name 'ticker' is not defined"
     ]
    },
    {
     "data": {
      "image/png": "[encoded data removed]",
      "text/plain": [
       "<Figure size 432x288 with 1 Axes>"
      ]
     },
     "metadata": {},
     "output_type": "display_data"
    }
   ],
   "source": [
    "swatch('blue', ['red', 'green', 'yellow'])"
   ]
  },
  {
   "cell_type": "code",
   "execution_count": null,
   "id": "3b4d9111-6d73-49a9-a622-cd1023be7cd1",
   "metadata": {},
   "outputs": [],
   "source": []
  }
 ],
 "metadata": {
  "kernelspec": {
   "display_name": "mouline",
   "language": "python",
   "name": "mouline"
  },
  "language_info": {
   "codemirror_mode": {
    "name": "ipython",
    "version": 3
   },
   "file_extension": ".py",
   "mimetype": "text/x-python",
   "name": "python",
   "nbconvert_exporter": "python",
   "pygments_lexer": "ipython3",
   "version": "3.8.10"
  }
 },
 "nbformat": 4,
 "nbformat_minor": 5
}
