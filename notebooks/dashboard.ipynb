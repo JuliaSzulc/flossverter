{
 "cells": [
  {
   "cell_type": "code",
   "execution_count": 2,
   "metadata": {
    "tags": []
   },
   "outputs": [],
   "source": [
    "import dash_bootstrap_components as dbc\n",
    "import plotly.graph_objects as go\n",
    "from dash import dcc, html\n",
    "from dash.dependencies import Input, Output, State\n",
    "from jupyter_dash import JupyterDash\n",
    "\n",
    "from dashboard import Backend, clear_graph, draw_graph"
   ]
  },
  {
   "cell_type": "code",
   "execution_count": 3,
   "metadata": {},
   "outputs": [],
   "source": [
    "backend = Backend(dmc_path=\"../data/dmc.csv\",\n",
    "                  ariadna_path=\"../data/ariadna.csv\")"
   ]
  },
  {
   "cell_type": "code",
   "execution_count": 4,
   "metadata": {},
   "outputs": [],
   "source": [
    "app = JupyterDash(__name__, external_stylesheets=[dbc.themes.LITERA])\n",
    "server = app.server\n",
    "\n",
    "app.layout = html.Div([dbc.Row([\n",
    "    dbc.Col([\n",
    "        dbc.Row([\n",
    "            dbc.Tabs([\n",
    "                html.Label(\"Input type:\"),\n",
    "                dbc.Tab(\n",
    "                    dcc.Dropdown(\n",
    "                        id=\"drop_dmc\",\n",
    "                        options=[{\"label\": code, \"value\": code}\n",
    "                                for code in backend.dmc_df.index],\n",
    "                        placeholder=\"Select DMC color\",\n",
    "                        searchable=True,\n",
    "                        clearable=False,\n",
    "                        style={\"marginBottom\": \"1.5em\"},\n",
    "                    ),\n",
    "                    label=\"DMC code\",\n",
    "                    tab_id=\"tab_dmc\",\n",
    "                    active_tab_class_name=\"fw-bold\",\n",
    "                ),\n",
    "                dbc.Tab(\n",
    "                    dbc.Input(\n",
    "                        id=\"input_rgb\",\n",
    "                        placeholder=\"#rrggbb\",\n",
    "                        type=\"text\",\n",
    "                        pattern=r\"#([A-Fa-f0-9]{6}\",\n",
    "                        valid=False,\n",
    "                        maxLength=7,\n",
    "                        minLength=6,\n",
    "                        style={\"marginBottom\": \"1.5em\"},\n",
    "                    ),\n",
    "                    label=\"RGB\",\n",
    "                    tab_id=\"tab_rgb\",\n",
    "                    active_tab_class_name=\"fw-bold\",\n",
    "                ),\n",
    "            ], id=\"tabs_input\", active_tab=\"tab_dmc\",),\n",
    "        ]),\n",
    "        html.Label(\"Color comparing algorithm:\"),\n",
    "        dcc.Dropdown(\n",
    "            id=\"drop_metric\",\n",
    "            options=[{\"label\": m, \"value\": m} for m in backend.METRICS.keys()],\n",
    "            placeholder=\"Select algorithm\",\n",
    "            searchable=False,\n",
    "            value=backend.DEFAULT_METRIC,\n",
    "            clearable=False,\n",
    "            style={\"marginBottom\": \"1.5em\"},\n",
    "        ),\n",
    "        html.Label(\"Number of similar colors:\"),\n",
    "        html.Div(dcc.Slider(\n",
    "            id=\"slider_n\",\n",
    "            min=1,\n",
    "            max=9,\n",
    "            step=1,\n",
    "            value=5,\n",
    "            marks={n: str(n) for n in range(1, 10, 2)},\n",
    "        ), style={\"marginBottom\": \"1.5em\"},),\n",
    "        html.Div([\n",
    "            dbc.Button(\n",
    "                \"Clear\",\n",
    "                color=\"secondary\",\n",
    "                id=\"button_clear\",\n",
    "                outline=True,\n",
    "                n_clicks=0,\n",
    "                style={\"marginRight\": \".5em\"}\n",
    "            ),\n",
    "            dbc.Button(\n",
    "                \"Find similar\",\n",
    "                color=\"primary\",\n",
    "                id=\"button_run\",\n",
    "                n_clicks=0,\n",
    "            ),], style={\"display\": \"flex\", \"justify-content\": \"right\"}),\n",
    "    ], width=3),\n",
    "    dbc.Col(html.Div([\n",
    "        dcc.Graph(\n",
    "            id=\"graph\",\n",
    "            figure=clear_graph(),\n",
    "            config={\"staticPlot\": True},\n",
    "        )\n",
    "    ]), width=9),\n",
    "], style={\"marginLeft\": \"1em\", \"marginTop\": \"1em\"})])"
   ]
  },
  {
   "cell_type": "code",
   "execution_count": 5,
   "metadata": {},
   "outputs": [],
   "source": [
    "# Draw graph on button_run click if color is chosen\n",
    "# Clear graph on button_run.clicks == 0 (modified by button_clear)\n",
    "@app.callback(\n",
    "    Output(\"graph\", \"figure\"),\n",
    "    Input(\"button_run\", \"n_clicks\"),\n",
    "    State(\"tabs_input\", \"active_tab\"),\n",
    "    State(\"drop_dmc\", \"value\"),\n",
    "    State(\"input_rgb\", \"value\"),\n",
    "    State(\"input_rgb\", \"valid\"),\n",
    "    State(\"drop_metric\", \"value\"),\n",
    "    State(\"slider_n\", \"value\"),\n",
    "    State(\"graph\", \"figure\"),\n",
    ")\n",
    "def find_similar_colors(clicks, active_tab, dmc_input, rgb_input, rgb_input_valid, metric, n_colors, current_fig):\n",
    "    # clearing\n",
    "    if not clicks:\n",
    "        return clear_graph()\n",
    "\n",
    "    # pass\n",
    "    if not (dmc_input or rgb_input) or rgb_input_valid:\n",
    "        return current_fig\n",
    "    \n",
    "    if active_tab == \"tab_dmc\":\n",
    "        base_color = backend.dmc_to_hex(dmc_input)\n",
    "        base_label = dmc_input\n",
    "    elif active_tab == \"tab_rgb\":\n",
    "        base_color = rgb_input\n",
    "        base_label = None\n",
    "    else:\n",
    "        raise NotImplementedError(\"Unsupported input tab chosen.\")\n",
    "    \n",
    "    result_codes, result_colors = backend.find_similar(base_color, metric, n_colors)\n",
    "\n",
    "    fig = draw_graph(base_color, base_label, result_colors, result_codes)\n",
    "    \n",
    "    return fig\n",
    "\n",
    "\n",
    "# Clear drop_dmc when active tab changes or on button_clear click\n",
    "@app.callback(\n",
    "    Output(\"drop_dmc\", \"value\"),\n",
    "    Input(\"tabs_input\", \"active_tab\"),\n",
    "    Input(\"button_clear\", \"n_clicks\"),\n",
    ")\n",
    "def clear_drop_dmc(*_):\n",
    "    return None\n",
    "\n",
    "\n",
    "# Clear input_rgb when active tab changes or on button_clear click\n",
    "@app.callback(\n",
    "    Output(\"input_rgb\", \"value\"),\n",
    "    Input(\"tabs_input\", \"active_tab\"),\n",
    "    Input(\"button_clear\", \"n_clicks\"),\n",
    ")\n",
    "def clear_input_rgb(*_):\n",
    "    return \"\"\n",
    "\n",
    "\n",
    "# Clear graph on button_clear click\n",
    "@app.callback(\n",
    "    Output(\"button_run\", \"n_clicks\"),\n",
    "    Input(\"button_clear\", \"n_clicks\"),\n",
    ")\n",
    "def on_clear_button(_):\n",
    "    return 0"
   ]
  },
  {
   "cell_type": "code",
   "execution_count": 6,
   "metadata": {},
   "outputs": [
    {
     "data": {
      "text/html": [
       "\n",
       "        <iframe\n",
       "            width=\"100%\"\n",
       "            height=\"650\"\n",
       "            src=\"http://127.0.0.1:8050/\"\n",
       "            frameborder=\"0\"\n",
       "            allowfullscreen\n",
       "            \n",
       "        ></iframe>\n",
       "        "
      ],
      "text/plain": [
       "<IPython.lib.display.IFrame at 0x7f0f86558460>"
      ]
     },
     "metadata": {},
     "output_type": "display_data"
    }
   ],
   "source": [
    "app.run_server(mode=\"inline\", debug=True)"
   ]
  },
  {
   "cell_type": "code",
   "execution_count": 7,
   "metadata": {},
   "outputs": [
    {
     "name": "stdout",
     "output_type": "stream",
     "text": [
      "Dash app running on http://127.0.0.1:8050/\n"
     ]
    }
   ],
   "source": [
    "app.run_server()"
   ]
  }
 ],
 "metadata": {
  "kernelspec": {
   "display_name": "Python 3.9.12 ('flossverter')",
   "language": "python",
   "name": "python3"
  },
  "language_info": {
   "codemirror_mode": {
    "name": "ipython",
    "version": 3
   },
   "file_extension": ".py",
   "mimetype": "text/x-python",
   "name": "python",
   "nbconvert_exporter": "python",
   "pygments_lexer": "ipython3",
   "version": "3.9.12"
  },
  "vscode": {
   "interpreter": {
    "hash": "dd776377ab6d5f99ca4fbca3b9763663d50124b54a756494f5d6b8548654e8ce"
   }
  }
 },
 "nbformat": 4,
 "nbformat_minor": 4
}
